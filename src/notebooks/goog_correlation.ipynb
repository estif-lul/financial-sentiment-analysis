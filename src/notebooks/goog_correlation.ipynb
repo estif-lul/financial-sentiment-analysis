{
 "cells": [
  {
   "cell_type": "markdown",
   "id": "8cc1cb63",
   "metadata": {},
   "source": [
    "## 1. Import Libraries\n",
    "This block imports essential libraries for data manipulation (pandas, numpy), sentiment analysis (TextBlob), statistical correlation (scipy.stats), and visualization (matplotlib, seaborn)."
   ]
  },
  {
   "cell_type": "code",
   "execution_count": null,
   "id": "d61a4499",
   "metadata": {},
   "outputs": [],
   "source": [
    "import pandas as pd\n",
    "from scipy.stats import pearsonr, spearmanr, kendalltau\n",
    "import matplotlib.pyplot as plt\n",
    "import seaborn as sns"
   ]
  },
  {
   "cell_type": "markdown",
   "id": "b5f4f97c",
   "metadata": {},
   "source": [
    "## 2. Load News and Stock Data\n",
    "Loads the processed news sentiment data and Apple's historical stock data from CSV files. Handles file errors and ensures the required files are present."
   ]
  },
  {
   "cell_type": "code",
   "execution_count": 2,
   "id": "c8ff7f8c",
   "metadata": {},
   "outputs": [],
   "source": [
    "try:\n",
    "    # Load the news csv file\n",
    "    news_df = pd.read_csv('../../data/processed_analyst_ratings.csv')\n",
    "    # Load Historical Data\n",
    "    stock_df = pd.read_csv('../../data/yfinance_data/GOOG_historical_data.csv')\n",
    "except FileNotFoundError:\n",
    "    print(\"File not found. Please ensure the path is correct and the file exists.\")\n",
    "    exit(1)\n",
    "except Exception as e:\n",
    "    print(f\"An error occurred while reading the parquet file: {e}\")\n",
    "    exit(1)"
   ]
  },
  {
   "cell_type": "markdown",
   "id": "81e77d69",
   "metadata": {},
   "source": [
    "## 3. Convert Date Columns to Datetime\n",
    "Converts the date columns in both DataFrames to datetime format for accurate merging and time-based analysis."
   ]
  },
  {
   "cell_type": "code",
   "execution_count": null,
   "id": "c6e6ca98",
   "metadata": {},
   "outputs": [],
   "source": [
    "news_df['date'] = pd.to_datetime(news_df['date'], format='mixed', utc=True)\n",
    "stock_df['Date'] = pd.to_datetime(stock_df['Date'], format='mixed', utc=True)"
   ]
  },
  {
   "cell_type": "markdown",
   "id": "13b62f0c",
   "metadata": {},
   "source": [
    "## 4. Merge News and Stock Data\n",
    "Merges the news and stock DataFrames on the date columns to align sentiment scores with corresponding stock prices."
   ]
  },
  {
   "cell_type": "code",
   "execution_count": 4,
   "id": "d2f5b0f1",
   "metadata": {},
   "outputs": [],
   "source": [
    "merged_df = pd.merge(news_df, stock_df, left_on='date', right_on='Date', how='left')"
   ]
  },
  {
   "cell_type": "markdown",
   "id": "d1020c4d",
   "metadata": {},
   "source": [
    "## 5. Inspect Merged Data\n",
    "Displays the shape and a sample of the merged DataFrame to verify the merge and inspect the data."
   ]
  },
  {
   "cell_type": "code",
   "execution_count": 5,
   "id": "20556bbb",
   "metadata": {},
   "outputs": [
    {
     "data": {
      "text/html": [
       "<div>\n",
       "<style scoped>\n",
       "    .dataframe tbody tr th:only-of-type {\n",
       "        vertical-align: middle;\n",
       "    }\n",
       "\n",
       "    .dataframe tbody tr th {\n",
       "        vertical-align: top;\n",
       "    }\n",
       "\n",
       "    .dataframe thead th {\n",
       "        text-align: right;\n",
       "    }\n",
       "</style>\n",
       "<table border=\"1\" class=\"dataframe\">\n",
       "  <thead>\n",
       "    <tr style=\"text-align: right;\">\n",
       "      <th></th>\n",
       "      <th>headline</th>\n",
       "      <th>url</th>\n",
       "      <th>publisher</th>\n",
       "      <th>date</th>\n",
       "      <th>stock</th>\n",
       "      <th>sentiment</th>\n",
       "      <th>Date</th>\n",
       "      <th>Open</th>\n",
       "      <th>High</th>\n",
       "      <th>Low</th>\n",
       "      <th>Close</th>\n",
       "      <th>Adj Close</th>\n",
       "      <th>Volume</th>\n",
       "      <th>Dividends</th>\n",
       "      <th>Stock Splits</th>\n",
       "    </tr>\n",
       "  </thead>\n",
       "  <tbody>\n",
       "    <tr>\n",
       "      <th>12575</th>\n",
       "      <td>Taiwan Life Insurance Co. Ltd. Submits Bid For...</td>\n",
       "      <td>https://www.benzinga.com/markets/company-news/...</td>\n",
       "      <td>Benzinga Staff 5</td>\n",
       "      <td>2010-01-13 00:00:00+00:00</td>\n",
       "      <td>MET</td>\n",
       "      <td>0.000000</td>\n",
       "      <td>2010-01-13 00:00:00+00:00</td>\n",
       "      <td>14.358431</td>\n",
       "      <td>14.654571</td>\n",
       "      <td>14.293923</td>\n",
       "      <td>14.622441</td>\n",
       "      <td>14.605821</td>\n",
       "      <td>260838034</td>\n",
       "      <td>0.0</td>\n",
       "      <td>0.0</td>\n",
       "    </tr>\n",
       "    <tr>\n",
       "      <th>353299</th>\n",
       "      <td>BlackBerry 10 May Have Been an Enormous, Recor...</td>\n",
       "      <td>https://www.benzinga.com/analyst-ratings/analy...</td>\n",
       "      <td>Louis Bedigian</td>\n",
       "      <td>2013-02-20 00:00:00+00:00</td>\n",
       "      <td>BBRY</td>\n",
       "      <td>0.000000</td>\n",
       "      <td>2013-02-20 00:00:00+00:00</td>\n",
       "      <td>20.057320</td>\n",
       "      <td>20.148727</td>\n",
       "      <td>19.720831</td>\n",
       "      <td>19.737518</td>\n",
       "      <td>19.715084</td>\n",
       "      <td>110982436</td>\n",
       "      <td>0.0</td>\n",
       "      <td>0.0</td>\n",
       "    </tr>\n",
       "    <tr>\n",
       "      <th>92940</th>\n",
       "      <td>Concord Medical to Acquire a 52% Equity Intere...</td>\n",
       "      <td>https://www.benzinga.com/news/11/01/757548/con...</td>\n",
       "      <td>Benzinga Staff</td>\n",
       "      <td>2011-01-06 00:00:00+00:00</td>\n",
       "      <td>CCM</td>\n",
       "      <td>0.000000</td>\n",
       "      <td>2011-01-06 00:00:00+00:00</td>\n",
       "      <td>15.209989</td>\n",
       "      <td>15.403016</td>\n",
       "      <td>15.194298</td>\n",
       "      <td>15.280226</td>\n",
       "      <td>15.262857</td>\n",
       "      <td>82620526</td>\n",
       "      <td>0.0</td>\n",
       "      <td>0.0</td>\n",
       "    </tr>\n",
       "    <tr>\n",
       "      <th>1260902</th>\n",
       "      <td>Stocks That Hit 52-Week Highs On Tuesday</td>\n",
       "      <td>https://www.benzinga.com/news/20/01/15199704/s...</td>\n",
       "      <td>Lisa Levin</td>\n",
       "      <td>2020-01-28 00:00:00+00:00</td>\n",
       "      <td>BRO</td>\n",
       "      <td>0.000000</td>\n",
       "      <td>2020-01-28 00:00:00+00:00</td>\n",
       "      <td>72.150002</td>\n",
       "      <td>72.800003</td>\n",
       "      <td>71.623497</td>\n",
       "      <td>72.627998</td>\n",
       "      <td>72.545448</td>\n",
       "      <td>31548000</td>\n",
       "      <td>0.0</td>\n",
       "      <td>0.0</td>\n",
       "    </tr>\n",
       "    <tr>\n",
       "      <th>686870</th>\n",
       "      <td>From Yahoo Blog: 'Introducing the New Yahoo Ma...</td>\n",
       "      <td>https://www.benzinga.com/news/15/10/5916125/fr...</td>\n",
       "      <td>Paul Quintaro</td>\n",
       "      <td>2015-10-15 00:00:00+00:00</td>\n",
       "      <td>YHOO</td>\n",
       "      <td>0.068182</td>\n",
       "      <td>2015-10-15 00:00:00+00:00</td>\n",
       "      <td>32.733002</td>\n",
       "      <td>33.156502</td>\n",
       "      <td>32.723000</td>\n",
       "      <td>33.087002</td>\n",
       "      <td>33.049393</td>\n",
       "      <td>37714000</td>\n",
       "      <td>0.0</td>\n",
       "      <td>0.0</td>\n",
       "    </tr>\n",
       "  </tbody>\n",
       "</table>\n",
       "</div>"
      ],
      "text/plain": [
       "                                                  headline  \\\n",
       "12575    Taiwan Life Insurance Co. Ltd. Submits Bid For...   \n",
       "353299   BlackBerry 10 May Have Been an Enormous, Recor...   \n",
       "92940    Concord Medical to Acquire a 52% Equity Intere...   \n",
       "1260902           Stocks That Hit 52-Week Highs On Tuesday   \n",
       "686870   From Yahoo Blog: 'Introducing the New Yahoo Ma...   \n",
       "\n",
       "                                                       url         publisher  \\\n",
       "12575    https://www.benzinga.com/markets/company-news/...  Benzinga Staff 5   \n",
       "353299   https://www.benzinga.com/analyst-ratings/analy...    Louis Bedigian   \n",
       "92940    https://www.benzinga.com/news/11/01/757548/con...    Benzinga Staff   \n",
       "1260902  https://www.benzinga.com/news/20/01/15199704/s...        Lisa Levin   \n",
       "686870   https://www.benzinga.com/news/15/10/5916125/fr...     Paul Quintaro   \n",
       "\n",
       "                             date stock  sentiment                      Date  \\\n",
       "12575   2010-01-13 00:00:00+00:00   MET   0.000000 2010-01-13 00:00:00+00:00   \n",
       "353299  2013-02-20 00:00:00+00:00  BBRY   0.000000 2013-02-20 00:00:00+00:00   \n",
       "92940   2011-01-06 00:00:00+00:00   CCM   0.000000 2011-01-06 00:00:00+00:00   \n",
       "1260902 2020-01-28 00:00:00+00:00   BRO   0.000000 2020-01-28 00:00:00+00:00   \n",
       "686870  2015-10-15 00:00:00+00:00  YHOO   0.068182 2015-10-15 00:00:00+00:00   \n",
       "\n",
       "              Open       High        Low      Close  Adj Close     Volume  \\\n",
       "12575    14.358431  14.654571  14.293923  14.622441  14.605821  260838034   \n",
       "353299   20.057320  20.148727  19.720831  19.737518  19.715084  110982436   \n",
       "92940    15.209989  15.403016  15.194298  15.280226  15.262857   82620526   \n",
       "1260902  72.150002  72.800003  71.623497  72.627998  72.545448   31548000   \n",
       "686870   32.733002  33.156502  32.723000  33.087002  33.049393   37714000   \n",
       "\n",
       "         Dividends  Stock Splits  \n",
       "12575          0.0           0.0  \n",
       "353299         0.0           0.0  \n",
       "92940          0.0           0.0  \n",
       "1260902        0.0           0.0  \n",
       "686870         0.0           0.0  "
      ]
     },
     "execution_count": 5,
     "metadata": {},
     "output_type": "execute_result"
    }
   ],
   "source": [
    "merged_df.shape\n",
    "merged_df.sample(5)"
   ]
  },
  {
   "cell_type": "markdown",
   "id": "23f45d36",
   "metadata": {},
   "source": [
    "## 6. Handle Missing Values\n",
    "Checks for missing values in the merged DataFrame, drops any rows with missing data, and displays the new shape."
   ]
  },
  {
   "cell_type": "code",
   "execution_count": 6,
   "id": "2d82ce93",
   "metadata": {},
   "outputs": [
    {
     "name": "stdout",
     "output_type": "stream",
     "text": [
      "0\n"
     ]
    },
    {
     "data": {
      "text/plain": [
       "(1324417, 15)"
      ]
     },
     "execution_count": 6,
     "metadata": {},
     "output_type": "execute_result"
    }
   ],
   "source": [
    "# Check for missing values\n",
    "print(merged_df['date'].isnull().sum())\n",
    "merged_df.dropna(inplace=True)  # Drop missing values if necessary\n",
    "merged_df.shape"
   ]
  },
  {
   "cell_type": "markdown",
   "id": "5f21870b",
   "metadata": {},
   "source": [
    "## 7. Calculate Daily Returns\n",
    "Calculates the daily stock return as the percentage change in the closing price and adds it as a new column."
   ]
  },
  {
   "cell_type": "code",
   "execution_count": 7,
   "id": "a820c503",
   "metadata": {},
   "outputs": [
    {
     "data": {
      "text/html": [
       "<div>\n",
       "<style scoped>\n",
       "    .dataframe tbody tr th:only-of-type {\n",
       "        vertical-align: middle;\n",
       "    }\n",
       "\n",
       "    .dataframe tbody tr th {\n",
       "        vertical-align: top;\n",
       "    }\n",
       "\n",
       "    .dataframe thead th {\n",
       "        text-align: right;\n",
       "    }\n",
       "</style>\n",
       "<table border=\"1\" class=\"dataframe\">\n",
       "  <thead>\n",
       "    <tr style=\"text-align: right;\">\n",
       "      <th></th>\n",
       "      <th>headline</th>\n",
       "      <th>url</th>\n",
       "      <th>publisher</th>\n",
       "      <th>date</th>\n",
       "      <th>stock</th>\n",
       "      <th>sentiment</th>\n",
       "      <th>Date</th>\n",
       "      <th>Open</th>\n",
       "      <th>High</th>\n",
       "      <th>Low</th>\n",
       "      <th>Close</th>\n",
       "      <th>Adj Close</th>\n",
       "      <th>Volume</th>\n",
       "      <th>Dividends</th>\n",
       "      <th>Stock Splits</th>\n",
       "      <th>daily_return</th>\n",
       "    </tr>\n",
       "  </thead>\n",
       "  <tbody>\n",
       "    <tr>\n",
       "      <th>0</th>\n",
       "      <td>Update on the Luxury Sector: 2nd Quarter 2009</td>\n",
       "      <td>https://www.benzinga.com/charles-lewis-sizemor...</td>\n",
       "      <td>Charles Lewis Sizemore CFA</td>\n",
       "      <td>2009-04-27 00:00:00+00:00</td>\n",
       "      <td>Y</td>\n",
       "      <td>0.000000</td>\n",
       "      <td>2009-04-27 00:00:00+00:00</td>\n",
       "      <td>9.572619</td>\n",
       "      <td>9.700889</td>\n",
       "      <td>9.533018</td>\n",
       "      <td>9.612719</td>\n",
       "      <td>9.601792</td>\n",
       "      <td>91967429</td>\n",
       "      <td>0.0</td>\n",
       "      <td>0.0</td>\n",
       "      <td>NaN</td>\n",
       "    </tr>\n",
       "    <tr>\n",
       "      <th>1</th>\n",
       "      <td>Update on the Luxury Sector: 2nd Quarter 2009</td>\n",
       "      <td>https://www.benzinga.com/charles-lewis-sizemor...</td>\n",
       "      <td>Charles Lewis Sizemore CFA</td>\n",
       "      <td>2009-04-27 00:00:00+00:00</td>\n",
       "      <td>FT</td>\n",
       "      <td>0.000000</td>\n",
       "      <td>2009-04-27 00:00:00+00:00</td>\n",
       "      <td>9.572619</td>\n",
       "      <td>9.700889</td>\n",
       "      <td>9.533018</td>\n",
       "      <td>9.612719</td>\n",
       "      <td>9.601792</td>\n",
       "      <td>91967429</td>\n",
       "      <td>0.0</td>\n",
       "      <td>0.0</td>\n",
       "      <td>0.000000</td>\n",
       "    </tr>\n",
       "    <tr>\n",
       "      <th>2</th>\n",
       "      <td>Going Against the Herd</td>\n",
       "      <td>https://www.benzinga.com/charles-lewis-sizemor...</td>\n",
       "      <td>Charles Lewis Sizemore CFA</td>\n",
       "      <td>2009-04-29 00:00:00+00:00</td>\n",
       "      <td>A</td>\n",
       "      <td>0.000000</td>\n",
       "      <td>2009-04-29 00:00:00+00:00</td>\n",
       "      <td>9.613217</td>\n",
       "      <td>9.837377</td>\n",
       "      <td>9.609730</td>\n",
       "      <td>9.750204</td>\n",
       "      <td>9.739121</td>\n",
       "      <td>144941247</td>\n",
       "      <td>0.0</td>\n",
       "      <td>0.0</td>\n",
       "      <td>0.014302</td>\n",
       "    </tr>\n",
       "    <tr>\n",
       "      <th>3</th>\n",
       "      <td>Charles Sizemore Radio Interview Saturday Morning</td>\n",
       "      <td>https://www.benzinga.com/11218/charles-sizemor...</td>\n",
       "      <td>Charles Lewis Sizemore CFA</td>\n",
       "      <td>2009-05-22 00:00:00+00:00</td>\n",
       "      <td>AM</td>\n",
       "      <td>0.000000</td>\n",
       "      <td>2009-05-22 00:00:00+00:00</td>\n",
       "      <td>9.879469</td>\n",
       "      <td>9.929034</td>\n",
       "      <td>9.763404</td>\n",
       "      <td>9.800764</td>\n",
       "      <td>9.789624</td>\n",
       "      <td>69001669</td>\n",
       "      <td>0.0</td>\n",
       "      <td>0.0</td>\n",
       "      <td>0.005186</td>\n",
       "    </tr>\n",
       "    <tr>\n",
       "      <th>4</th>\n",
       "      <td>MRM a $15-$20+ stock - FIT new information - J...</td>\n",
       "      <td>https://www.benzinga.com/superman/2009/5/27/mr...</td>\n",
       "      <td>superman</td>\n",
       "      <td>2009-05-27 00:00:00+00:00</td>\n",
       "      <td>RF</td>\n",
       "      <td>0.268182</td>\n",
       "      <td>2009-05-27 00:00:00+00:00</td>\n",
       "      <td>10.103131</td>\n",
       "      <td>10.258050</td>\n",
       "      <td>10.082458</td>\n",
       "      <td>10.101138</td>\n",
       "      <td>10.089657</td>\n",
       "      <td>121826932</td>\n",
       "      <td>0.0</td>\n",
       "      <td>0.0</td>\n",
       "      <td>0.030648</td>\n",
       "    </tr>\n",
       "  </tbody>\n",
       "</table>\n",
       "</div>"
      ],
      "text/plain": [
       "                                            headline  \\\n",
       "0      Update on the Luxury Sector: 2nd Quarter 2009   \n",
       "1      Update on the Luxury Sector: 2nd Quarter 2009   \n",
       "2                             Going Against the Herd   \n",
       "3  Charles Sizemore Radio Interview Saturday Morning   \n",
       "4  MRM a $15-$20+ stock - FIT new information - J...   \n",
       "\n",
       "                                                 url  \\\n",
       "0  https://www.benzinga.com/charles-lewis-sizemor...   \n",
       "1  https://www.benzinga.com/charles-lewis-sizemor...   \n",
       "2  https://www.benzinga.com/charles-lewis-sizemor...   \n",
       "3  https://www.benzinga.com/11218/charles-sizemor...   \n",
       "4  https://www.benzinga.com/superman/2009/5/27/mr...   \n",
       "\n",
       "                    publisher                      date stock  sentiment  \\\n",
       "0  Charles Lewis Sizemore CFA 2009-04-27 00:00:00+00:00     Y   0.000000   \n",
       "1  Charles Lewis Sizemore CFA 2009-04-27 00:00:00+00:00    FT   0.000000   \n",
       "2  Charles Lewis Sizemore CFA 2009-04-29 00:00:00+00:00     A   0.000000   \n",
       "3  Charles Lewis Sizemore CFA 2009-05-22 00:00:00+00:00    AM   0.000000   \n",
       "4                    superman 2009-05-27 00:00:00+00:00    RF   0.268182   \n",
       "\n",
       "                       Date       Open       High        Low      Close  \\\n",
       "0 2009-04-27 00:00:00+00:00   9.572619   9.700889   9.533018   9.612719   \n",
       "1 2009-04-27 00:00:00+00:00   9.572619   9.700889   9.533018   9.612719   \n",
       "2 2009-04-29 00:00:00+00:00   9.613217   9.837377   9.609730   9.750204   \n",
       "3 2009-05-22 00:00:00+00:00   9.879469   9.929034   9.763404   9.800764   \n",
       "4 2009-05-27 00:00:00+00:00  10.103131  10.258050  10.082458  10.101138   \n",
       "\n",
       "   Adj Close     Volume  Dividends  Stock Splits  daily_return  \n",
       "0   9.601792   91967429        0.0           0.0           NaN  \n",
       "1   9.601792   91967429        0.0           0.0      0.000000  \n",
       "2   9.739121  144941247        0.0           0.0      0.014302  \n",
       "3   9.789624   69001669        0.0           0.0      0.005186  \n",
       "4  10.089657  121826932        0.0           0.0      0.030648  "
      ]
     },
     "execution_count": 7,
     "metadata": {},
     "output_type": "execute_result"
    }
   ],
   "source": [
    "merged_df['daily_return'] = merged_df['Close'].pct_change()  # Calculate daily returns\n",
    "merged_df.head()"
   ]
  },
  {
   "cell_type": "markdown",
   "id": "215f45a6",
   "metadata": {},
   "source": [
    "## 8. Pearson Correlation Calculation\n",
    "Drops rows with missing sentiment or daily return values, then calculates and prints the Pearson correlation coefficient and p-value to assess linear correlation."
   ]
  },
  {
   "cell_type": "code",
   "execution_count": 8,
   "id": "93a90bcf",
   "metadata": {},
   "outputs": [
    {
     "name": "stdout",
     "output_type": "stream",
     "text": [
      "Pearson correlation: 0.0017591308439439265, p-value: 0.042922326776410946\n"
     ]
    }
   ],
   "source": [
    "# Drop missing values before correlation calculation\n",
    "valid_data = merged_df.dropna(subset=['sentiment', 'daily_return'])\n",
    "\n",
    "# Pearson correlation (linear relationship)\n",
    "pearson_corr, pearson_p = pearsonr(valid_data['sentiment'], valid_data['daily_return'])\n",
    "print(f\"Pearson correlation: {pearson_corr}, p-value: {pearson_p}\")\n"
   ]
  },
  {
   "cell_type": "markdown",
   "id": "e870390b",
   "metadata": {},
   "source": [
    "## 9. Spearman Correlation Calculation\n",
    "Calculates and prints the Spearman rank correlation coefficient and p-value to assess monotonic relationships."
   ]
  },
  {
   "cell_type": "code",
   "execution_count": 9,
   "id": "d772f5f9",
   "metadata": {},
   "outputs": [
    {
     "name": "stdout",
     "output_type": "stream",
     "text": [
      "Spearman correlation: 0.0009247145388941313, p-value: 0.28724218715412064\n"
     ]
    }
   ],
   "source": [
    "# Spearman correlation (monotonic relationship, non-parametric)\n",
    "spearman_corr, spearman_p = spearmanr(valid_data['sentiment'], valid_data['daily_return'])\n",
    "print(f\"Spearman correlation: {spearman_corr}, p-value: {spearman_p}\")\n"
   ]
  },
  {
   "cell_type": "markdown",
   "id": "9e327432",
   "metadata": {},
   "source": [
    "## 10. Kendall Correlation Calculation\n",
    "Calculates and prints the Kendall tau correlation coefficient and p-value to assess ordinal associations."
   ]
  },
  {
   "cell_type": "code",
   "execution_count": 10,
   "id": "66f9ba3b",
   "metadata": {},
   "outputs": [
    {
     "name": "stdout",
     "output_type": "stream",
     "text": [
      "Kendall correlation: 0.0008530681192177873, p-value: 0.28724168958900564\n"
     ]
    }
   ],
   "source": [
    "# Kendall correlation (ordinal association, non-parametric)\n",
    "kendall_corr, kendall_p = kendalltau(valid_data['sentiment'], valid_data['daily_return'])\n",
    "print(f\"Kendall correlation: {kendall_corr}, p-value: {kendall_p}\")"
   ]
  },
  {
   "cell_type": "markdown",
   "id": "df69bb16",
   "metadata": {},
   "source": [
    "The results show the following correlation values between news sentiment and daily stock return for GOOG:\n",
    "\n",
    "- **Pearson correlation:** 0.0017 (p-value: 0.0429)\n",
    "- **Spearman correlation:** 0.00092 (p-value: 0.2872)\n",
    "- **Kendall correlation:** 0.00085 (p-value: 0.2872)\n",
    "\n",
    "**Interpretation:**\n",
    "\n",
    "All three correlation coefficients are extremely close to zero, indicating almost no relationship between news sentiment and daily stock return in the dataset.\n",
    "The p-values are much greater than 0.05, so these correlations are not statistically significant."
   ]
  },
  {
   "cell_type": "markdown",
   "id": "fad142d7",
   "metadata": {},
   "source": [
    "## 11. Scatter Plot of Sentiment vs. Daily Return\n",
    "Creates a scatter plot to visualize the relationship between news sentiment scores and daily stock returns."
   ]
  },
  {
   "cell_type": "code",
   "execution_count": 11,
   "id": "ee4f61bc",
   "metadata": {},
   "outputs": [
    {
     "data": {
      "image/png": "[encoded data removed]",
      "text/plain": [
       "<Figure size 1000x500 with 1 Axes>"
      ]
     },
     "metadata": {},
     "output_type": "display_data"
    }
   ],
   "source": [
    "plt.figure(figsize=(10,5))\n",
    "plt.scatter(valid_data['sentiment'], valid_data['daily_return'], alpha=0.5)\n",
    "plt.xlabel('News Sentiment Score')\n",
    "plt.ylabel('Daily Stock Return')\n",
    "plt.title('Correlation Between News Sentiment and Stock Price Movements')\n",
    "plt.show()"
   ]
  },
  {
   "cell_type": "markdown",
   "id": "ab19d04c",
   "metadata": {},
   "source": [
    "## 12. Correlation Heatmap\n",
    "Selects relevant numeric columns, computes the correlation matrix, and visualizes it as a heatmap to show the strength and direction of relationships between variables."
   ]
  },
  {
   "cell_type": "code",
   "execution_count": 12,
   "id": "cdce0bcb",
   "metadata": {},
   "outputs": [
    {
     "data": {
      "image/png": "[encoded data removed]",
      "text/plain": [
       "<Figure size 600x400 with 2 Axes>"
      ]
     },
     "metadata": {},
     "output_type": "display_data"
    }
   ],
   "source": [
    "# Select relevant numeric columns for correlation\n",
    "corr_data = valid_data[['sentiment', 'daily_return', 'Close']]\n",
    "\n",
    "# Compute correlation matrix\n",
    "corr_matrix = corr_data.corr(method='pearson')  # You can use 'spearman' or 'kendall' as well\n",
    "\n",
    "# Plot heatmap\n",
    "plt.figure(figsize=(6, 4))\n",
    "sns.heatmap(corr_matrix, annot=True, cmap='coolwarm', vmin=-1, vmax=1)\n",
    "plt.title('Correlation Heatmap')\n",
    "plt.show()"
   ]
  }
 ],
 "metadata": {
  "kernelspec": {
   "display_name": "venv",
   "language": "python",
   "name": "python3"
  },
  "language_info": {
   "codemirror_mode": {
    "name": "ipython",
    "version": 3
   },
   "file_extension": ".py",
   "mimetype": "text/x-python",
   "name": "python",
   "nbconvert_exporter": "python",
   "pygments_lexer": "ipython3",
   "version": "3.13.3"
  }
 },
 "nbformat": 4,
 "nbformat_minor": 5
}
