{
 "cells": [
  {
   "cell_type": "markdown",
   "id": "c2bdca92",
   "metadata": {},
   "source": [
    "## 1. Importing Libraries\n",
    "\n",
    "This block imports essential libraries for data analysis, visualization, statistics, and natural language processing. It sets the plotting style to 'ggplot' for consistent visuals."
   ]
  },
  {
   "cell_type": "code",
   "execution_count": 1,
   "id": "4738a888",
   "metadata": {},
   "outputs": [],
   "source": [
    "import matplotlib.pyplot as plt\n",
    "import pandas as pd\n",
    "import numpy as np\n",
    "import scipy.stats as stats\n",
    "plt.style.use('ggplot')\n"
   ]
  },
  {
   "cell_type": "markdown",
   "id": "faa48c19",
   "metadata": {},
   "source": [
    "## 2. NLTK and Scikit-learn Setup\n",
    "\n",
    "This block imports NLTK modules for tokenization and stopword removal, downloads required NLTK data, and imports scikit-learn tools for TF-IDF vectorization and topic modeling.\n"
   ]
  },
  {
   "cell_type": "code",
   "execution_count": 2,
   "id": "ffea1044",
   "metadata": {},
   "outputs": [
    {
     "name": "stderr",
     "output_type": "stream",
     "text": [
      "[nltk_data] Downloading package punkt to C:\\nltk_data...\n",
      "[nltk_data]   Package punkt is already up-to-date!\n",
      "[nltk_data] Downloading package stopwords to C:\\nltk_data...\n",
      "[nltk_data]   Package stopwords is already up-to-date!\n",
      "[nltk_data] Downloading package punkt_tab to\n",
      "[nltk_data]     C:\\Users\\est_lul\\AppData\\Roaming\\nltk_data...\n",
      "[nltk_data]   Package punkt_tab is already up-to-date!\n"
     ]
    }
   ],
   "source": [
    "import nltk\n",
    "from collections import Counter\n",
    "from nltk.tokenize import word_tokenize\n",
    "from nltk.corpus import stopwords\n",
    "\n",
    "nltk.download('punkt', download_dir='C:\\\\nltk_data')\n",
    "nltk.download('stopwords', download_dir='C:\\\\nltk_data')\n",
    "nltk.download('punkt_tab')\n",
    "\n",
    "from sklearn.feature_extraction.text import TfidfVectorizer\n",
    "from sklearn.decomposition import LatentDirichletAllocation"
   ]
  },
  {
   "cell_type": "markdown",
   "id": "c63bf64c",
   "metadata": {},
   "source": [
    "## 3. Load News Data\n",
    "\n",
    "Attempts to load the financial news dataset from a Parquet file. If the file is missing or an error occurs, it prints an error message and exits."
   ]
  },
  {
   "cell_type": "code",
   "execution_count": 3,
   "id": "6aa6cda7",
   "metadata": {},
   "outputs": [],
   "source": [
    "try:\n",
    "    # Load the parquet file\n",
    "    news_df = pd.read_parquet('../../data/raw_analyst_ratings.parquet')\n",
    "except FileNotFoundError:\n",
    "    print(\"File not found. Please ensure the path is correct and the file exists.\")\n",
    "    exit(1)\n",
    "except Exception as e:\n",
    "    print(f\"An error occurred while reading the parquet file: {e}\")\n",
    "    exit(1)"
   ]
  },
  {
   "cell_type": "markdown",
   "id": "23fb5ea4",
   "metadata": {},
   "source": [
    "## 4. Data Preprocessing & Headline Statistics\n",
    "\n",
    "Converts the date column to datetime, computes headline length in characters and words, and prints summary statistics (mean, median, std, min, max, skewness, kurtosis) for headline lengths. Shows a sample of the data."
   ]
  },
  {
   "cell_type": "code",
   "execution_count": 4,
   "id": "0f8d9674",
   "metadata": {},
   "outputs": [
    {
     "name": "stdout",
     "output_type": "stream",
     "text": [
      "Headline Length Statistics:\n",
      " {'Mean Length (Words)': np.float64(11.416705984674504), 'Median Length (Words)': np.float64(10.0), 'Standard Deviation': np.float64(6.352995020898485), 'Max Length': np.int64(77), 'Min Length': np.int64(1), 'Skewness': np.float64(2.1671569878139527), 'Kurtosis': np.float64(7.132395151646767)}\n"
     ]
    },
    {
     "data": {
      "text/html": [
       "<div>\n",
       "<style scoped>\n",
       "    .dataframe tbody tr th:only-of-type {\n",
       "        vertical-align: middle;\n",
       "    }\n",
       "\n",
       "    .dataframe tbody tr th {\n",
       "        vertical-align: top;\n",
       "    }\n",
       "\n",
       "    .dataframe thead th {\n",
       "        text-align: right;\n",
       "    }\n",
       "</style>\n",
       "<table border=\"1\" class=\"dataframe\">\n",
       "  <thead>\n",
       "    <tr style=\"text-align: right;\">\n",
       "      <th></th>\n",
       "      <th>Unnamed: 0</th>\n",
       "      <th>headline</th>\n",
       "      <th>url</th>\n",
       "      <th>publisher</th>\n",
       "      <th>date</th>\n",
       "      <th>stock</th>\n",
       "      <th>headline_length_chars</th>\n",
       "      <th>headline_length_words</th>\n",
       "    </tr>\n",
       "  </thead>\n",
       "  <tbody>\n",
       "    <tr>\n",
       "      <th>1390153</th>\n",
       "      <td>1396635</td>\n",
       "      <td>Yen Rises Following S&amp;P's Downgrade</td>\n",
       "      <td>https://www.benzinga.com/trading-ideas/long-id...</td>\n",
       "      <td>Emily Austin</td>\n",
       "      <td>2011-08-08 00:00:00+00:00</td>\n",
       "      <td>YCS</td>\n",
       "      <td>35</td>\n",
       "      <td>5</td>\n",
       "    </tr>\n",
       "    <tr>\n",
       "      <th>96865</th>\n",
       "      <td>97671</td>\n",
       "      <td>Mid-Day Market Movers (NLST, CVBK, BMJ, ARTW)</td>\n",
       "      <td>https://www.benzinga.com/markets/company-news/...</td>\n",
       "      <td>Monica Gerson</td>\n",
       "      <td>2010-07-07 00:00:00+00:00</td>\n",
       "      <td>ARTW</td>\n",
       "      <td>45</td>\n",
       "      <td>7</td>\n",
       "    </tr>\n",
       "    <tr>\n",
       "      <th>1291792</th>\n",
       "      <td>1297970</td>\n",
       "      <td>Top Metal Mining Stocks to watch on 5/23/11- U...</td>\n",
       "      <td>https://www.benzinga.com/11/05/1103828/top-met...</td>\n",
       "      <td>CEO World</td>\n",
       "      <td>2011-05-23 00:00:00+00:00</td>\n",
       "      <td>URZ</td>\n",
       "      <td>127</td>\n",
       "      <td>24</td>\n",
       "    </tr>\n",
       "    <tr>\n",
       "      <th>843451</th>\n",
       "      <td>847754</td>\n",
       "      <td>Marathon Petroleum Corporation Reports Q1 EPS ...</td>\n",
       "      <td>https://www.benzinga.com/news/earnings/14/05/4...</td>\n",
       "      <td>Paul Quintaro</td>\n",
       "      <td>2014-05-01 00:00:00+00:00</td>\n",
       "      <td>MPC</td>\n",
       "      <td>89</td>\n",
       "      <td>14</td>\n",
       "    </tr>\n",
       "    <tr>\n",
       "      <th>417823</th>\n",
       "      <td>420074</td>\n",
       "      <td>Eastman Chemical Sees FY19 Adj. EPS $7.50-$8 v...</td>\n",
       "      <td>https://www.benzinga.com/news/19/07/14139059/e...</td>\n",
       "      <td>Benzinga Newsdesk</td>\n",
       "      <td>2019-07-25 00:00:00+00:00</td>\n",
       "      <td>EMN</td>\n",
       "      <td>62</td>\n",
       "      <td>10</td>\n",
       "    </tr>\n",
       "    <tr>\n",
       "      <th>1128397</th>\n",
       "      <td>1133926</td>\n",
       "      <td>Mizuho Maintains Neutral on Shell Midstream Pa...</td>\n",
       "      <td>https://www.benzinga.com/news/20/03/15693111/m...</td>\n",
       "      <td>Vick Meyer</td>\n",
       "      <td>2020-03-30 00:00:00+00:00</td>\n",
       "      <td>SHLX</td>\n",
       "      <td>80</td>\n",
       "      <td>12</td>\n",
       "    </tr>\n",
       "    <tr>\n",
       "      <th>830882</th>\n",
       "      <td>835137</td>\n",
       "      <td>Mid-Day Market Update: ULTA Salon Rises After ...</td>\n",
       "      <td>https://www.benzinga.com/news/earnings/14/06/4...</td>\n",
       "      <td>Garrett Cook</td>\n",
       "      <td>2014-06-11 00:00:00+00:00</td>\n",
       "      <td>MMYT</td>\n",
       "      <td>83</td>\n",
       "      <td>12</td>\n",
       "    </tr>\n",
       "    <tr>\n",
       "      <th>917554</th>\n",
       "      <td>922295</td>\n",
       "      <td>Mid-Afternoon Market Update: Dow Jumps Over 15...</td>\n",
       "      <td>https://www.benzinga.com/news/earnings/15/12/6...</td>\n",
       "      <td>Lisa Levin</td>\n",
       "      <td>2015-12-22 00:00:00+00:00</td>\n",
       "      <td>NTAP</td>\n",
       "      <td>99</td>\n",
       "      <td>14</td>\n",
       "    </tr>\n",
       "    <tr>\n",
       "      <th>226048</th>\n",
       "      <td>227474</td>\n",
       "      <td>Career Education Reports CFO AJ Cederoth To Le...</td>\n",
       "      <td>https://www.benzinga.com/news/17/09/10085305/c...</td>\n",
       "      <td>Paul Quintaro</td>\n",
       "      <td>2017-09-21 00:00:00+00:00</td>\n",
       "      <td>CECO</td>\n",
       "      <td>83</td>\n",
       "      <td>13</td>\n",
       "    </tr>\n",
       "    <tr>\n",
       "      <th>114764</th>\n",
       "      <td>115621</td>\n",
       "      <td>Qorvo and Skyworks Weigh Bids for Broadcom's R...</td>\n",
       "      <td>https://www.benzinga.com/m-a/20/01/15178667/qo...</td>\n",
       "      <td>Charles Gross</td>\n",
       "      <td>2020-01-24 00:00:00+00:00</td>\n",
       "      <td>AVGO</td>\n",
       "      <td>57</td>\n",
       "      <td>10</td>\n",
       "    </tr>\n",
       "  </tbody>\n",
       "</table>\n",
       "</div>"
      ],
      "text/plain": [
       "         Unnamed: 0                                           headline  \\\n",
       "1390153     1396635                Yen Rises Following S&P's Downgrade   \n",
       "96865         97671      Mid-Day Market Movers (NLST, CVBK, BMJ, ARTW)   \n",
       "1291792     1297970  Top Metal Mining Stocks to watch on 5/23/11- U...   \n",
       "843451       847754  Marathon Petroleum Corporation Reports Q1 EPS ...   \n",
       "417823       420074  Eastman Chemical Sees FY19 Adj. EPS $7.50-$8 v...   \n",
       "1128397     1133926  Mizuho Maintains Neutral on Shell Midstream Pa...   \n",
       "830882       835137  Mid-Day Market Update: ULTA Salon Rises After ...   \n",
       "917554       922295  Mid-Afternoon Market Update: Dow Jumps Over 15...   \n",
       "226048       227474  Career Education Reports CFO AJ Cederoth To Le...   \n",
       "114764       115621  Qorvo and Skyworks Weigh Bids for Broadcom's R...   \n",
       "\n",
       "                                                       url          publisher  \\\n",
       "1390153  https://www.benzinga.com/trading-ideas/long-id...       Emily Austin   \n",
       "96865    https://www.benzinga.com/markets/company-news/...      Monica Gerson   \n",
       "1291792  https://www.benzinga.com/11/05/1103828/top-met...          CEO World   \n",
       "843451   https://www.benzinga.com/news/earnings/14/05/4...      Paul Quintaro   \n",
       "417823   https://www.benzinga.com/news/19/07/14139059/e...  Benzinga Newsdesk   \n",
       "1128397  https://www.benzinga.com/news/20/03/15693111/m...         Vick Meyer   \n",
       "830882   https://www.benzinga.com/news/earnings/14/06/4...       Garrett Cook   \n",
       "917554   https://www.benzinga.com/news/earnings/15/12/6...         Lisa Levin   \n",
       "226048   https://www.benzinga.com/news/17/09/10085305/c...      Paul Quintaro   \n",
       "114764   https://www.benzinga.com/m-a/20/01/15178667/qo...      Charles Gross   \n",
       "\n",
       "                             date stock  headline_length_chars  \\\n",
       "1390153 2011-08-08 00:00:00+00:00   YCS                     35   \n",
       "96865   2010-07-07 00:00:00+00:00  ARTW                     45   \n",
       "1291792 2011-05-23 00:00:00+00:00   URZ                    127   \n",
       "843451  2014-05-01 00:00:00+00:00   MPC                     89   \n",
       "417823  2019-07-25 00:00:00+00:00   EMN                     62   \n",
       "1128397 2020-03-30 00:00:00+00:00  SHLX                     80   \n",
       "830882  2014-06-11 00:00:00+00:00  MMYT                     83   \n",
       "917554  2015-12-22 00:00:00+00:00  NTAP                     99   \n",
       "226048  2017-09-21 00:00:00+00:00  CECO                     83   \n",
       "114764  2020-01-24 00:00:00+00:00  AVGO                     57   \n",
       "\n",
       "         headline_length_words  \n",
       "1390153                      5  \n",
       "96865                        7  \n",
       "1291792                     24  \n",
       "843451                      14  \n",
       "417823                      10  \n",
       "1128397                     12  \n",
       "830882                      12  \n",
       "917554                      14  \n",
       "226048                      13  \n",
       "114764                      10  "
      ]
     },
     "execution_count": 4,
     "metadata": {},
     "output_type": "execute_result"
    }
   ],
   "source": [
    "# Convert date column to datetime format\n",
    "news_df['date'] = pd.to_datetime(news_df['date'], format='mixed', utc=True)\n",
    "\n",
    "# Compute headline text length metrics (character and word count)\n",
    "news_df['headline_length_chars'] = news_df['headline'].apply(len)\n",
    "news_df['headline_length_words'] = news_df['headline'].apply(lambda x: len(x.split()))\n",
    "\n",
    "# Summary Statistics for Headline Length\n",
    "headline_stats = {\n",
    "    \"Mean Length (Words)\": np.mean(news_df['headline_length_words']),\n",
    "    \"Median Length (Words)\": np.median(news_df['headline_length_words']),\n",
    "    \"Standard Deviation\": np.std(news_df['headline_length_words']),\n",
    "    \"Max Length\": np.max(news_df['headline_length_words']),\n",
    "    \"Min Length\": np.min(news_df['headline_length_words']),\n",
    "    \"Skewness\": stats.skew(news_df['headline_length_words']),\n",
    "    \"Kurtosis\": stats.kurtosis(news_df['headline_length_words']),\n",
    "}\n",
    "print(\"Headline Length Statistics:\\n\", headline_stats)\n",
    "\n",
    "news_df.sample(10)"
   ]
  },
  {
   "cell_type": "markdown",
   "id": "d85d7cf3",
   "metadata": {},
   "source": [
    "## 5. Temporal Analysis\n",
    "\n",
    "Adds year, month, and hour columns to the dataset. Calculates and prints the number of news articles published per year, per month, and per hour to analyze temporal trends in news publication."
   ]
  },
  {
   "cell_type": "markdown",
   "id": "85574c34",
   "metadata": {},
   "source": [
    "## 6. Publisher Analysis\n",
    "\n",
    "Counts and displays the top publishers by the number of news articles published."
   ]
  },
  {
   "cell_type": "code",
   "execution_count": 5,
   "id": "1cd85d3d",
   "metadata": {},
   "outputs": [
    {
     "name": "stdout",
     "output_type": "stream",
     "text": [
      "\n",
      "Yearly News Article Counts:\n",
      " year\n",
      "2009     11489\n",
      "2010     81319\n",
      "2011    131322\n",
      "2012    122649\n",
      "2013    121529\n",
      "2014    134859\n",
      "2015    135295\n",
      "2016    141892\n",
      "2017    124456\n",
      "2018    146924\n",
      "2019    150380\n",
      "2020    105214\n",
      "Name: headline, dtype: int64\n",
      "\n",
      "Monthly News Article Counts:\n",
      " month\n",
      "1     121545\n",
      "2     122836\n",
      "3     121949\n",
      "4     121813\n",
      "5     130340\n",
      "6     106598\n",
      "7     110764\n",
      "8     124041\n",
      "9      96089\n",
      "10    124800\n",
      "11    121430\n",
      "12    105123\n",
      "Name: headline, dtype: int64\n",
      "\n",
      "Hourly Distribution of News:\n",
      " hour\n",
      "0     1351472\n",
      "1          82\n",
      "2          48\n",
      "3          27\n",
      "4          67\n",
      "5          14\n",
      "6          57\n",
      "7          93\n",
      "8        1469\n",
      "9        1829\n",
      "10       2476\n",
      "11       5033\n",
      "12       5527\n",
      "13       5965\n",
      "14       7669\n",
      "15       5701\n",
      "16       5732\n",
      "17       2710\n",
      "18       2075\n",
      "19       1612\n",
      "20       3939\n",
      "21       2800\n",
      "22        704\n",
      "23        227\n",
      "Name: headline, dtype: int64\n"
     ]
    }
   ],
   "source": [
    "# Temporal Analysis of News Publications (Yearly and Monthly Trends)\n",
    "news_df['year'] = news_df['date'].dt.year\n",
    "news_df['month'] = news_df['date'].dt.month\n",
    "\n",
    "yearly_counts = news_df.groupby('year')['headline'].count()\n",
    "monthly_counts = news_df.groupby('month')['headline'].count()\n",
    "\n",
    "# Time-of-Day Analysis (Are certain times more news-heavy?)\n",
    "news_df['hour'] = news_df['date'].dt.hour\n",
    "hourly_counts = news_df.groupby('hour')['headline'].count()\n",
    "\n",
    "print(\"\\nYearly News Article Counts:\\n\", yearly_counts)\n",
    "print(\"\\nMonthly News Article Counts:\\n\", monthly_counts)\n",
    "\n",
    "\n",
    "print(\"\\nHourly Distribution of News:\\n\", hourly_counts)"
   ]
  },
  {
   "cell_type": "code",
   "execution_count": 6,
   "id": "a0bdb577",
   "metadata": {},
   "outputs": [
    {
     "name": "stdout",
     "output_type": "stream",
     "text": [
      "\n",
      "Top Publishers by News Count:\n",
      " publisher\n",
      "Paul Quintaro        228373\n",
      "Lisa Levin           186979\n",
      "Benzinga Newsdesk    150484\n",
      "Charles Gross         96732\n",
      "Monica Gerson         82380\n",
      "Eddie Staley          57254\n",
      "Hal Lindon            49047\n",
      "ETF Professor         28489\n",
      "Juan Lopez            28438\n",
      "Benzinga Staff        28114\n",
      "Name: publisher, dtype: int64\n"
     ]
    }
   ],
   "source": [
    "publisher_counts = news_df['publisher'].groupby(news_df['publisher']).count().sort_values(ascending=False)\n",
    "print(\"\\nTop Publishers by News Count:\\n\", publisher_counts.head(10))"
   ]
  },
  {
   "cell_type": "markdown",
   "id": "aa61e64e",
   "metadata": {},
   "source": [
    "## 7. Most Common Words in Headlines\n",
    "\n",
    "Tokenizes all headlines, removes English stopwords, and counts word frequencies. Prints the top 10 most common words found in the headlines."
   ]
  },
  {
   "cell_type": "code",
   "execution_count": 7,
   "id": "be14762b",
   "metadata": {},
   "outputs": [
    {
     "name": "stdout",
     "output_type": "stream",
     "text": [
      "\n",
      "Top 10 Most Common Words in Headlines:\n",
      " [('stocks', 161702), ('for', 154728), ('vs', 140965), ('in', 130298), ('eps', 128801), ('to', 124595), ('the', 122317), ('est', 122289), ('shares', 114140), ('reports', 108688)]\n"
     ]
    }
   ],
   "source": [
    "stop_words = set(stopwords.words('english'))\n",
    "\n",
    "# Tokenize headlines and remove stop words\n",
    "all_words = [word.lower() for headline in news_df['headline'] for word in word_tokenize(headline) \n",
    "             if word.isalpha() and word not in stop_words]\n",
    "\n",
    "word_freq = Counter(all_words)\n",
    "\n",
    "# Show top 10 most common words\n",
    "print(\"\\nTop 10 Most Common Words in Headlines:\\n\", word_freq.most_common(10))"
   ]
  },
  {
   "cell_type": "markdown",
   "id": "ad98e8ee",
   "metadata": {},
   "source": [
    "## 8. Top Bigram Keywords (TF-IDF)\n",
    "\n",
    "Uses TF-IDF vectorization to extract the top 20 most important bigram (two-word) phrases from the headlines, ignoring English stopwords."
   ]
  },
  {
   "cell_type": "code",
   "execution_count": 8,
   "id": "f585176b",
   "metadata": {},
   "outputs": [
    {
     "name": "stdout",
     "output_type": "stream",
     "text": [
      "\n",
      "Top Keywords from Financial News:\n",
      " ['52 week' 'adj eps' 'benzinga upgrades' 'companies trading'\n",
      " 'earnings scheduled' 'initiates coverage' 'market session'\n",
      " 'market update' 'mid day' 'pre market' 'price target' 'q1 eps' 'q2 eps'\n",
      " 'q3 eps' 'raises pt' 'stocks hit' 'stocks moving' 'trading higher'\n",
      " 'trading lower' 'vs est']\n"
     ]
    }
   ],
   "source": [
    "vectorizer = TfidfVectorizer(stop_words='english', ngram_range=(2,2), max_features=20)\n",
    "tfidf_matrix = vectorizer.fit_transform(news_df['headline'])\n",
    "\n",
    "# Display top phrases with highest TF-IDF scores\n",
    "print(\"\\nTop Keywords from Financial News:\\n\", vectorizer.get_feature_names_out())"
   ]
  },
  {
   "cell_type": "markdown",
   "id": "c223076d",
   "metadata": {},
   "source": [
    "## 9. Daily News Publication Trend Plot\n",
    "\n",
    "Groups articles by date to count daily publications, then plots the number of articles published per day to visualize trends over time."
   ]
  },
  {
   "cell_type": "code",
   "execution_count": 10,
   "id": "37bd5a93",
   "metadata": {},
   "outputs": [
    {
     "data": {
      "image/png": "[encoded data removed]",
      "text/plain": [
       "<Figure size 1200x600 with 1 Axes>"
      ]
     },
     "metadata": {},
     "output_type": "display_data"
    }
   ],
   "source": [
    "# Count articles published per day\n",
    "daily_news_count = news_df.groupby('date').size().reset_index(name='num_articles')\n",
    "\n",
    "# Plot publication frequency over time\n",
    "plt.figure(figsize=(12,6))\n",
    "plt.plot(daily_news_count['date'], daily_news_count['num_articles'], label='Articles per Day')\n",
    "plt.xlabel('Date')\n",
    "plt.ylabel('Number of Articles')\n",
    "plt.title('Daily Financial News Publication Trend')\n",
    "plt.legend()\n",
    "plt.show()"
   ]
  }
 ],
 "metadata": {
  "kernelspec": {
   "display_name": "venv",
   "language": "python",
   "name": "python3"
  },
  "language_info": {
   "codemirror_mode": {
    "name": "ipython",
    "version": 3
   },
   "file_extension": ".py",
   "mimetype": "text/x-python",
   "name": "python",
   "nbconvert_exporter": "python",
   "pygments_lexer": "ipython3",
   "version": "3.13.3"
  }
 },
 "nbformat": 4,
 "nbformat_minor": 5
}
