{
 "cells": [
  {
   "cell_type": "markdown",
   "id": "8cc1cb63",
   "metadata": {},
   "source": [
    "## 1. Import Libraries\n",
    "This block imports essential libraries for data manipulation (pandas, numpy), sentiment analysis (TextBlob), statistical correlation (scipy.stats), and visualization (matplotlib, seaborn)."
   ]
  },
  {
   "cell_type": "code",
   "execution_count": 16,
   "id": "d61a4499",
   "metadata": {},
   "outputs": [],
   "source": [
    "import pandas as pd\n",
    "from scipy.stats import pearsonr, spearmanr, kendalltau\n",
    "import matplotlib.pyplot as plt\n",
    "import seaborn as sns"
   ]
  },
  {
   "cell_type": "markdown",
   "id": "b5f4f97c",
   "metadata": {},
   "source": [
    "## 2. Load News and Stock Data\n",
    "Loads the processed news sentiment data and Apple's historical stock data from CSV files. Handles file errors and ensures the required files are present."
   ]
  },
  {
   "cell_type": "code",
   "execution_count": 17,
   "id": "c8ff7f8c",
   "metadata": {},
   "outputs": [],
   "source": [
    "try:\n",
    "    # Load the news csv file\n",
    "    news_df = pd.read_csv('../../data/processed_analyst_ratings.csv')\n",
    "    # Load Historical Data\n",
    "    stock_df = pd.read_csv('../../data/yfinance_data/NVDA_historical_data.csv')\n",
    "except FileNotFoundError:\n",
    "    print(\"File not found. Please ensure the path is correct and the file exists.\")\n",
    "    exit(1)\n",
    "except Exception as e:\n",
    "    print(f\"An error occurred while reading the parquet file: {e}\")\n",
    "    exit(1)"
   ]
  },
  {
   "cell_type": "markdown",
   "id": "81e77d69",
   "metadata": {},
   "source": [
    "## 3. Convert Date Columns to Datetime\n",
    "Converts the date columns in both DataFrames to datetime format for accurate merging and time-based analysis."
   ]
  },
  {
   "cell_type": "code",
   "execution_count": 18,
   "id": "c6e6ca98",
   "metadata": {},
   "outputs": [],
   "source": [
    "news_df['date'] = pd.to_datetime(news_df['date'], format='mixed', utc=True)\n",
    "stock_df['Date'] = pd.to_datetime(stock_df['Date'], format='mixed', utc=True)"
   ]
  },
  {
   "cell_type": "markdown",
   "id": "13b62f0c",
   "metadata": {},
   "source": [
    "## 4. Merge News and Stock Data\n",
    "Merges the news and stock DataFrames on the date columns to align sentiment scores with corresponding stock prices."
   ]
  },
  {
   "cell_type": "code",
   "execution_count": 21,
   "id": "d2f5b0f1",
   "metadata": {},
   "outputs": [],
   "source": [
    "merged_df = pd.merge(news_df[news_df['stock'] == 'NVDA'], \n",
    "                     stock_df, left_on='date', right_on='Date', how='left')"
   ]
  },
  {
   "cell_type": "markdown",
   "id": "d1020c4d",
   "metadata": {},
   "source": [
    "## 5. Inspect Merged Data\n",
    "Displays the shape and a sample of the merged DataFrame to verify the merge and inspect the data."
   ]
  },
  {
   "cell_type": "code",
   "execution_count": 22,
   "id": "20556bbb",
   "metadata": {},
   "outputs": [
    {
     "name": "stdout",
     "output_type": "stream",
     "text": [
      "(3061, 15)\n"
     ]
    },
    {
     "data": {
      "text/html": [
       "<div>\n",
       "<style scoped>\n",
       "    .dataframe tbody tr th:only-of-type {\n",
       "        vertical-align: middle;\n",
       "    }\n",
       "\n",
       "    .dataframe tbody tr th {\n",
       "        vertical-align: top;\n",
       "    }\n",
       "\n",
       "    .dataframe thead th {\n",
       "        text-align: right;\n",
       "    }\n",
       "</style>\n",
       "<table border=\"1\" class=\"dataframe\">\n",
       "  <thead>\n",
       "    <tr style=\"text-align: right;\">\n",
       "      <th></th>\n",
       "      <th>headline</th>\n",
       "      <th>url</th>\n",
       "      <th>publisher</th>\n",
       "      <th>date</th>\n",
       "      <th>stock</th>\n",
       "      <th>sentiment</th>\n",
       "      <th>Date</th>\n",
       "      <th>Open</th>\n",
       "      <th>High</th>\n",
       "      <th>Low</th>\n",
       "      <th>Close</th>\n",
       "      <th>Adj Close</th>\n",
       "      <th>Volume</th>\n",
       "      <th>Dividends</th>\n",
       "      <th>Stock Splits</th>\n",
       "    </tr>\n",
       "  </thead>\n",
       "  <tbody>\n",
       "    <tr>\n",
       "      <th>0</th>\n",
       "      <td>Nvidia Goes Negative (NVDA)</td>\n",
       "      <td>https://www.benzinga.com/market-update/11/03/9...</td>\n",
       "      <td>Scott Rubin</td>\n",
       "      <td>2011-03-03 00:00:00+00:00</td>\n",
       "      <td>NVDA</td>\n",
       "      <td>-0.30</td>\n",
       "      <td>2011-03-03 00:00:00+00:00</td>\n",
       "      <td>0.53075</td>\n",
       "      <td>0.53375</td>\n",
       "      <td>0.50600</td>\n",
       "      <td>0.52175</td>\n",
       "      <td>0.478563</td>\n",
       "      <td>1593704000</td>\n",
       "      <td>0.0</td>\n",
       "      <td>0.0</td>\n",
       "    </tr>\n",
       "    <tr>\n",
       "      <th>1</th>\n",
       "      <td>Auriga Still Not Sure Where Reality Lies For N...</td>\n",
       "      <td>https://www.benzinga.com/analyst-ratings/analy...</td>\n",
       "      <td>BenzingaStaffB</td>\n",
       "      <td>2011-03-07 00:00:00+00:00</td>\n",
       "      <td>NVDA</td>\n",
       "      <td>-0.25</td>\n",
       "      <td>2011-03-07 00:00:00+00:00</td>\n",
       "      <td>0.52275</td>\n",
       "      <td>0.52450</td>\n",
       "      <td>0.49875</td>\n",
       "      <td>0.51175</td>\n",
       "      <td>0.469391</td>\n",
       "      <td>1019140000</td>\n",
       "      <td>0.0</td>\n",
       "      <td>0.0</td>\n",
       "    </tr>\n",
       "    <tr>\n",
       "      <th>2</th>\n",
       "      <td>Goldman Sachs Gives Color On Semiconductors (N...</td>\n",
       "      <td>https://www.benzinga.com/analyst-ratings/analy...</td>\n",
       "      <td>Benzinga Staff</td>\n",
       "      <td>2011-03-07 00:00:00+00:00</td>\n",
       "      <td>NVDA</td>\n",
       "      <td>0.00</td>\n",
       "      <td>2011-03-07 00:00:00+00:00</td>\n",
       "      <td>0.52275</td>\n",
       "      <td>0.52450</td>\n",
       "      <td>0.49875</td>\n",
       "      <td>0.51175</td>\n",
       "      <td>0.469391</td>\n",
       "      <td>1019140000</td>\n",
       "      <td>0.0</td>\n",
       "      <td>0.0</td>\n",
       "    </tr>\n",
       "    <tr>\n",
       "      <th>3</th>\n",
       "      <td>J.P. Morgan Upgrades NVIDIA Corporation To Neu...</td>\n",
       "      <td>https://www.benzinga.com/analyst-ratings/analy...</td>\n",
       "      <td>Mark Page</td>\n",
       "      <td>2011-03-08 00:00:00+00:00</td>\n",
       "      <td>NVDA</td>\n",
       "      <td>0.00</td>\n",
       "      <td>2011-03-08 00:00:00+00:00</td>\n",
       "      <td>0.51725</td>\n",
       "      <td>0.52000</td>\n",
       "      <td>0.47800</td>\n",
       "      <td>0.48875</td>\n",
       "      <td>0.448295</td>\n",
       "      <td>1947184000</td>\n",
       "      <td>0.0</td>\n",
       "      <td>0.0</td>\n",
       "    </tr>\n",
       "    <tr>\n",
       "      <th>4</th>\n",
       "      <td>JP Morgan Upgrades NVIDIA To Neutral, $21 PT</td>\n",
       "      <td>https://www.benzinga.com/analyst-ratings/upgra...</td>\n",
       "      <td>Joe Young</td>\n",
       "      <td>2011-03-08 00:00:00+00:00</td>\n",
       "      <td>NVDA</td>\n",
       "      <td>0.00</td>\n",
       "      <td>2011-03-08 00:00:00+00:00</td>\n",
       "      <td>0.51725</td>\n",
       "      <td>0.52000</td>\n",
       "      <td>0.47800</td>\n",
       "      <td>0.48875</td>\n",
       "      <td>0.448295</td>\n",
       "      <td>1947184000</td>\n",
       "      <td>0.0</td>\n",
       "      <td>0.0</td>\n",
       "    </tr>\n",
       "  </tbody>\n",
       "</table>\n",
       "</div>"
      ],
      "text/plain": [
       "                                            headline  \\\n",
       "0                        Nvidia Goes Negative (NVDA)   \n",
       "1  Auriga Still Not Sure Where Reality Lies For N...   \n",
       "2  Goldman Sachs Gives Color On Semiconductors (N...   \n",
       "3  J.P. Morgan Upgrades NVIDIA Corporation To Neu...   \n",
       "4       JP Morgan Upgrades NVIDIA To Neutral, $21 PT   \n",
       "\n",
       "                                                 url       publisher  \\\n",
       "0  https://www.benzinga.com/market-update/11/03/9...     Scott Rubin   \n",
       "1  https://www.benzinga.com/analyst-ratings/analy...  BenzingaStaffB   \n",
       "2  https://www.benzinga.com/analyst-ratings/analy...  Benzinga Staff   \n",
       "3  https://www.benzinga.com/analyst-ratings/analy...       Mark Page   \n",
       "4  https://www.benzinga.com/analyst-ratings/upgra...       Joe Young   \n",
       "\n",
       "                       date stock  sentiment                      Date  \\\n",
       "0 2011-03-03 00:00:00+00:00  NVDA      -0.30 2011-03-03 00:00:00+00:00   \n",
       "1 2011-03-07 00:00:00+00:00  NVDA      -0.25 2011-03-07 00:00:00+00:00   \n",
       "2 2011-03-07 00:00:00+00:00  NVDA       0.00 2011-03-07 00:00:00+00:00   \n",
       "3 2011-03-08 00:00:00+00:00  NVDA       0.00 2011-03-08 00:00:00+00:00   \n",
       "4 2011-03-08 00:00:00+00:00  NVDA       0.00 2011-03-08 00:00:00+00:00   \n",
       "\n",
       "      Open     High      Low    Close  Adj Close      Volume  Dividends  \\\n",
       "0  0.53075  0.53375  0.50600  0.52175   0.478563  1593704000        0.0   \n",
       "1  0.52275  0.52450  0.49875  0.51175   0.469391  1019140000        0.0   \n",
       "2  0.52275  0.52450  0.49875  0.51175   0.469391  1019140000        0.0   \n",
       "3  0.51725  0.52000  0.47800  0.48875   0.448295  1947184000        0.0   \n",
       "4  0.51725  0.52000  0.47800  0.48875   0.448295  1947184000        0.0   \n",
       "\n",
       "   Stock Splits  \n",
       "0           0.0  \n",
       "1           0.0  \n",
       "2           0.0  \n",
       "3           0.0  \n",
       "4           0.0  "
      ]
     },
     "execution_count": 22,
     "metadata": {},
     "output_type": "execute_result"
    }
   ],
   "source": [
    "print(merged_df.shape)\n",
    "merged_df.head(5)"
   ]
  },
  {
   "cell_type": "markdown",
   "id": "23f45d36",
   "metadata": {},
   "source": [
    "## 6. Handle Missing Values\n",
    "Checks for missing values in the merged DataFrame, drops any rows with missing data, and displays the new shape."
   ]
  },
  {
   "cell_type": "code",
   "execution_count": 23,
   "id": "2d82ce93",
   "metadata": {},
   "outputs": [
    {
     "name": "stdout",
     "output_type": "stream",
     "text": [
      "0\n"
     ]
    },
    {
     "data": {
      "text/plain": [
       "(3061, 15)"
      ]
     },
     "execution_count": 23,
     "metadata": {},
     "output_type": "execute_result"
    }
   ],
   "source": [
    "# Check for missing values\n",
    "print(merged_df['date'].isnull().sum())\n",
    "merged_df.dropna(inplace=True)  # Drop missing values if necessary\n",
    "merged_df.shape"
   ]
  },
  {
   "cell_type": "markdown",
   "id": "5f21870b",
   "metadata": {},
   "source": [
    "## 7. Calculate Daily Returns\n",
    "Calculates the daily stock return as the percentage change in the closing price and adds it as a new column."
   ]
  },
  {
   "cell_type": "code",
   "execution_count": 24,
   "id": "a820c503",
   "metadata": {},
   "outputs": [
    {
     "data": {
      "text/html": [
       "<div>\n",
       "<style scoped>\n",
       "    .dataframe tbody tr th:only-of-type {\n",
       "        vertical-align: middle;\n",
       "    }\n",
       "\n",
       "    .dataframe tbody tr th {\n",
       "        vertical-align: top;\n",
       "    }\n",
       "\n",
       "    .dataframe thead th {\n",
       "        text-align: right;\n",
       "    }\n",
       "</style>\n",
       "<table border=\"1\" class=\"dataframe\">\n",
       "  <thead>\n",
       "    <tr style=\"text-align: right;\">\n",
       "      <th></th>\n",
       "      <th>headline</th>\n",
       "      <th>url</th>\n",
       "      <th>publisher</th>\n",
       "      <th>date</th>\n",
       "      <th>stock</th>\n",
       "      <th>sentiment</th>\n",
       "      <th>Date</th>\n",
       "      <th>Open</th>\n",
       "      <th>High</th>\n",
       "      <th>Low</th>\n",
       "      <th>Close</th>\n",
       "      <th>Adj Close</th>\n",
       "      <th>Volume</th>\n",
       "      <th>Dividends</th>\n",
       "      <th>Stock Splits</th>\n",
       "      <th>daily_return</th>\n",
       "    </tr>\n",
       "  </thead>\n",
       "  <tbody>\n",
       "    <tr>\n",
       "      <th>0</th>\n",
       "      <td>Nvidia Goes Negative (NVDA)</td>\n",
       "      <td>https://www.benzinga.com/market-update/11/03/9...</td>\n",
       "      <td>Scott Rubin</td>\n",
       "      <td>2011-03-03 00:00:00+00:00</td>\n",
       "      <td>NVDA</td>\n",
       "      <td>-0.30</td>\n",
       "      <td>2011-03-03 00:00:00+00:00</td>\n",
       "      <td>0.53075</td>\n",
       "      <td>0.53375</td>\n",
       "      <td>0.50600</td>\n",
       "      <td>0.52175</td>\n",
       "      <td>0.478563</td>\n",
       "      <td>1593704000</td>\n",
       "      <td>0.0</td>\n",
       "      <td>0.0</td>\n",
       "      <td>NaN</td>\n",
       "    </tr>\n",
       "    <tr>\n",
       "      <th>1</th>\n",
       "      <td>Auriga Still Not Sure Where Reality Lies For N...</td>\n",
       "      <td>https://www.benzinga.com/analyst-ratings/analy...</td>\n",
       "      <td>BenzingaStaffB</td>\n",
       "      <td>2011-03-07 00:00:00+00:00</td>\n",
       "      <td>NVDA</td>\n",
       "      <td>-0.25</td>\n",
       "      <td>2011-03-07 00:00:00+00:00</td>\n",
       "      <td>0.52275</td>\n",
       "      <td>0.52450</td>\n",
       "      <td>0.49875</td>\n",
       "      <td>0.51175</td>\n",
       "      <td>0.469391</td>\n",
       "      <td>1019140000</td>\n",
       "      <td>0.0</td>\n",
       "      <td>0.0</td>\n",
       "      <td>-0.019166</td>\n",
       "    </tr>\n",
       "    <tr>\n",
       "      <th>2</th>\n",
       "      <td>Goldman Sachs Gives Color On Semiconductors (N...</td>\n",
       "      <td>https://www.benzinga.com/analyst-ratings/analy...</td>\n",
       "      <td>Benzinga Staff</td>\n",
       "      <td>2011-03-07 00:00:00+00:00</td>\n",
       "      <td>NVDA</td>\n",
       "      <td>0.00</td>\n",
       "      <td>2011-03-07 00:00:00+00:00</td>\n",
       "      <td>0.52275</td>\n",
       "      <td>0.52450</td>\n",
       "      <td>0.49875</td>\n",
       "      <td>0.51175</td>\n",
       "      <td>0.469391</td>\n",
       "      <td>1019140000</td>\n",
       "      <td>0.0</td>\n",
       "      <td>0.0</td>\n",
       "      <td>0.000000</td>\n",
       "    </tr>\n",
       "    <tr>\n",
       "      <th>3</th>\n",
       "      <td>J.P. Morgan Upgrades NVIDIA Corporation To Neu...</td>\n",
       "      <td>https://www.benzinga.com/analyst-ratings/analy...</td>\n",
       "      <td>Mark Page</td>\n",
       "      <td>2011-03-08 00:00:00+00:00</td>\n",
       "      <td>NVDA</td>\n",
       "      <td>0.00</td>\n",
       "      <td>2011-03-08 00:00:00+00:00</td>\n",
       "      <td>0.51725</td>\n",
       "      <td>0.52000</td>\n",
       "      <td>0.47800</td>\n",
       "      <td>0.48875</td>\n",
       "      <td>0.448295</td>\n",
       "      <td>1947184000</td>\n",
       "      <td>0.0</td>\n",
       "      <td>0.0</td>\n",
       "      <td>-0.044944</td>\n",
       "    </tr>\n",
       "    <tr>\n",
       "      <th>4</th>\n",
       "      <td>JP Morgan Upgrades NVIDIA To Neutral, $21 PT</td>\n",
       "      <td>https://www.benzinga.com/analyst-ratings/upgra...</td>\n",
       "      <td>Joe Young</td>\n",
       "      <td>2011-03-08 00:00:00+00:00</td>\n",
       "      <td>NVDA</td>\n",
       "      <td>0.00</td>\n",
       "      <td>2011-03-08 00:00:00+00:00</td>\n",
       "      <td>0.51725</td>\n",
       "      <td>0.52000</td>\n",
       "      <td>0.47800</td>\n",
       "      <td>0.48875</td>\n",
       "      <td>0.448295</td>\n",
       "      <td>1947184000</td>\n",
       "      <td>0.0</td>\n",
       "      <td>0.0</td>\n",
       "      <td>0.000000</td>\n",
       "    </tr>\n",
       "  </tbody>\n",
       "</table>\n",
       "</div>"
      ],
      "text/plain": [
       "                                            headline  \\\n",
       "0                        Nvidia Goes Negative (NVDA)   \n",
       "1  Auriga Still Not Sure Where Reality Lies For N...   \n",
       "2  Goldman Sachs Gives Color On Semiconductors (N...   \n",
       "3  J.P. Morgan Upgrades NVIDIA Corporation To Neu...   \n",
       "4       JP Morgan Upgrades NVIDIA To Neutral, $21 PT   \n",
       "\n",
       "                                                 url       publisher  \\\n",
       "0  https://www.benzinga.com/market-update/11/03/9...     Scott Rubin   \n",
       "1  https://www.benzinga.com/analyst-ratings/analy...  BenzingaStaffB   \n",
       "2  https://www.benzinga.com/analyst-ratings/analy...  Benzinga Staff   \n",
       "3  https://www.benzinga.com/analyst-ratings/analy...       Mark Page   \n",
       "4  https://www.benzinga.com/analyst-ratings/upgra...       Joe Young   \n",
       "\n",
       "                       date stock  sentiment                      Date  \\\n",
       "0 2011-03-03 00:00:00+00:00  NVDA      -0.30 2011-03-03 00:00:00+00:00   \n",
       "1 2011-03-07 00:00:00+00:00  NVDA      -0.25 2011-03-07 00:00:00+00:00   \n",
       "2 2011-03-07 00:00:00+00:00  NVDA       0.00 2011-03-07 00:00:00+00:00   \n",
       "3 2011-03-08 00:00:00+00:00  NVDA       0.00 2011-03-08 00:00:00+00:00   \n",
       "4 2011-03-08 00:00:00+00:00  NVDA       0.00 2011-03-08 00:00:00+00:00   \n",
       "\n",
       "      Open     High      Low    Close  Adj Close      Volume  Dividends  \\\n",
       "0  0.53075  0.53375  0.50600  0.52175   0.478563  1593704000        0.0   \n",
       "1  0.52275  0.52450  0.49875  0.51175   0.469391  1019140000        0.0   \n",
       "2  0.52275  0.52450  0.49875  0.51175   0.469391  1019140000        0.0   \n",
       "3  0.51725  0.52000  0.47800  0.48875   0.448295  1947184000        0.0   \n",
       "4  0.51725  0.52000  0.47800  0.48875   0.448295  1947184000        0.0   \n",
       "\n",
       "   Stock Splits  daily_return  \n",
       "0           0.0           NaN  \n",
       "1           0.0     -0.019166  \n",
       "2           0.0      0.000000  \n",
       "3           0.0     -0.044944  \n",
       "4           0.0      0.000000  "
      ]
     },
     "execution_count": 24,
     "metadata": {},
     "output_type": "execute_result"
    }
   ],
   "source": [
    "merged_df['daily_return'] = merged_df['Close'].pct_change()  # Calculate daily returns\n",
    "merged_df.head()"
   ]
  },
  {
   "cell_type": "markdown",
   "id": "215f45a6",
   "metadata": {},
   "source": [
    "## 8. Pearson Correlation Calculation\n",
    "Drops rows with missing sentiment or daily return values, then calculates and prints the Pearson correlation coefficient and p-value to assess linear correlation."
   ]
  },
  {
   "cell_type": "code",
   "execution_count": 25,
   "id": "93a90bcf",
   "metadata": {},
   "outputs": [
    {
     "name": "stdout",
     "output_type": "stream",
     "text": [
      "Pearson correlation: 0.048216369692975804, p-value: 0.007638160432847857\n"
     ]
    }
   ],
   "source": [
    "# Drop missing values before correlation calculation\n",
    "valid_data = merged_df.dropna(subset=['sentiment', 'daily_return'])\n",
    "\n",
    "# Pearson correlation (linear relationship)\n",
    "pearson_corr, pearson_p = pearsonr(valid_data['sentiment'], valid_data['daily_return'])\n",
    "print(f\"Pearson correlation: {pearson_corr}, p-value: {pearson_p}\")\n"
   ]
  },
  {
   "cell_type": "markdown",
   "id": "e870390b",
   "metadata": {},
   "source": [
    "## 9. Spearman Correlation Calculation\n",
    "Calculates and prints the Spearman rank correlation coefficient and p-value to assess monotonic relationships."
   ]
  },
  {
   "cell_type": "code",
   "execution_count": 26,
   "id": "d772f5f9",
   "metadata": {},
   "outputs": [
    {
     "name": "stdout",
     "output_type": "stream",
     "text": [
      "Spearman correlation: 0.06108423859841351, p-value: 0.0007227782719344931\n"
     ]
    }
   ],
   "source": [
    "# Spearman correlation (monotonic relationship, non-parametric)\n",
    "spearman_corr, spearman_p = spearmanr(valid_data['sentiment'], valid_data['daily_return'])\n",
    "print(f\"Spearman correlation: {spearman_corr}, p-value: {spearman_p}\")\n"
   ]
  },
  {
   "cell_type": "markdown",
   "id": "9e327432",
   "metadata": {},
   "source": [
    "## 10. Kendall Correlation Calculation\n",
    "Calculates and prints the Kendall tau correlation coefficient and p-value to assess ordinal associations."
   ]
  },
  {
   "cell_type": "code",
   "execution_count": 27,
   "id": "66f9ba3b",
   "metadata": {},
   "outputs": [
    {
     "name": "stdout",
     "output_type": "stream",
     "text": [
      "Kendall correlation: 0.05086489763578197, p-value: 0.0006614114537899783\n"
     ]
    }
   ],
   "source": [
    "# Kendall correlation (ordinal association, non-parametric)\n",
    "kendall_corr, kendall_p = kendalltau(valid_data['sentiment'], valid_data['daily_return'])\n",
    "print(f\"Kendall correlation: {kendall_corr}, p-value: {kendall_p}\")"
   ]
  },
  {
   "cell_type": "markdown",
   "id": "df69bb16",
   "metadata": {},
   "source": [
    "The results show the following correlation values between news sentiment and daily stock return for NVDA:\n",
    "\n",
    "- **Pearson correlation:** 0.04821 (p-value: 0.00763)\n",
    "- **Spearman correlation:** 0.06108 (p-value: 0.000722)\n",
    "- **Kendall correlation:** 0.05086 (p-value: 0.00066)\n",
    "\n",
    "**Interpretation:**\n",
    "\n",
    "There is a statistically significant but extremely weak positive association between news sentiment and daily stock returns for NVDA. In practical terms, sentiment scores have almost no meaningful predictive power for daily returns, even though the relationship is statistically detectable due to the large sample size."
   ]
  },
  {
   "cell_type": "markdown",
   "id": "fad142d7",
   "metadata": {},
   "source": [
    "## 11. Scatter Plot of Sentiment vs. Daily Return\n",
    "Creates a scatter plot to visualize the relationship between news sentiment scores and daily stock returns."
   ]
  },
  {
   "cell_type": "code",
   "execution_count": 30,
   "id": "ee4f61bc",
   "metadata": {},
   "outputs": [
    {
     "data": {
      "image/png": "[encoded data removed]",
      "text/plain": [
       "<Figure size 1000x500 with 1 Axes>"
      ]
     },
     "metadata": {},
     "output_type": "display_data"
    }
   ],
   "source": [
    "plt.figure(figsize=(10,5))\n",
    "plt.scatter(valid_data['sentiment'], valid_data['daily_return'], alpha=0.5)\n",
    "plt.xlabel('News Sentiment Score')\n",
    "plt.ylabel('Daily Stock Return')\n",
    "plt.title('Correlation Between News Sentiment and Stock Price Movements')\n",
    "plt.show()"
   ]
  },
  {
   "cell_type": "markdown",
   "id": "ab19d04c",
   "metadata": {},
   "source": [
    "## 12. Correlation Heatmap\n",
    "Selects relevant numeric columns, computes the correlation matrix, and visualizes it as a heatmap to show the strength and direction of relationships between variables."
   ]
  },
  {
   "cell_type": "code",
   "execution_count": 31,
   "id": "cdce0bcb",
   "metadata": {},
   "outputs": [
    {
     "data": {
      "image/png": "[encoded data removed]",
      "text/plain": [
       "<Figure size 600x400 with 2 Axes>"
      ]
     },
     "metadata": {},
     "output_type": "display_data"
    }
   ],
   "source": [
    "# Select relevant numeric columns for correlation\n",
    "corr_data = valid_data[['sentiment', 'daily_return', 'Close']]\n",
    "\n",
    "# Compute correlation matrix\n",
    "corr_matrix = corr_data.corr(method='pearson')  # You can use 'spearman' or 'kendall' as well\n",
    "\n",
    "# Plot heatmap\n",
    "plt.figure(figsize=(6, 4))\n",
    "sns.heatmap(corr_matrix, annot=True, cmap='coolwarm', vmin=-1, vmax=1)\n",
    "plt.title('Correlation Heatmap')\n",
    "plt.show()"
   ]
  }
 ],
 "metadata": {
  "kernelspec": {
   "display_name": "venv",
   "language": "python",
   "name": "python3"
  },
  "language_info": {
   "codemirror_mode": {
    "name": "ipython",
    "version": 3
   },
   "file_extension": ".py",
   "mimetype": "text/x-python",
   "name": "python",
   "nbconvert_exporter": "python",
   "pygments_lexer": "ipython3",
   "version": "3.13.3"
  }
 },
 "nbformat": 4,
 "nbformat_minor": 5
}
