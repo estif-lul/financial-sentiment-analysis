{
 "cells": [
  {
   "cell_type": "markdown",
   "id": "8cc1cb63",
   "metadata": {},
   "source": [
    "## 1. Import Libraries\n",
    "This block imports essential libraries for data manipulation (pandas, numpy), sentiment analysis (TextBlob), statistical correlation (scipy.stats), and visualization (matplotlib, seaborn)."
   ]
  },
  {
   "cell_type": "code",
   "execution_count": 3,
   "id": "d61a4499",
   "metadata": {},
   "outputs": [],
   "source": [
    "import pandas as pd\n",
    "from scipy.stats import pearsonr, spearmanr, kendalltau\n",
    "import matplotlib.pyplot as plt\n",
    "import seaborn as sns"
   ]
  },
  {
   "cell_type": "markdown",
   "id": "b5f4f97c",
   "metadata": {},
   "source": [
    "## 2. Load News and Stock Data\n",
    "Loads the processed news sentiment data and Apple's historical stock data from CSV files. Handles file errors and ensures the required files are present."
   ]
  },
  {
   "cell_type": "code",
   "execution_count": 4,
   "id": "c8ff7f8c",
   "metadata": {},
   "outputs": [],
   "source": [
    "try:\n",
    "    # Load the news csv file\n",
    "    news_df = pd.read_csv('../../data/processed_analyst_ratings.csv')\n",
    "    # Load Historical Data\n",
    "    stock_df = pd.read_csv('../../data/yfinance_data/NVDA_historical_data.csv')\n",
    "except FileNotFoundError:\n",
    "    print(\"File not found. Please ensure the path is correct and the file exists.\")\n",
    "    exit(1)\n",
    "except Exception as e:\n",
    "    print(f\"An error occurred while reading the parquet file: {e}\")\n",
    "    exit(1)"
   ]
  },
  {
   "cell_type": "markdown",
   "id": "81e77d69",
   "metadata": {},
   "source": [
    "## 3. Convert Date Columns to Datetime\n",
    "Converts the date columns in both DataFrames to datetime format for accurate merging and time-based analysis."
   ]
  },
  {
   "cell_type": "code",
   "execution_count": 5,
   "id": "c6e6ca98",
   "metadata": {},
   "outputs": [],
   "source": [
    "news_df['date'] = pd.to_datetime(news_df['date'], format='mixed', utc=True)\n",
    "stock_df['Date'] = pd.to_datetime(stock_df['Date'], format='mixed', utc=True)"
   ]
  },
  {
   "cell_type": "markdown",
   "id": "13b62f0c",
   "metadata": {},
   "source": [
    "## 4. Merge News and Stock Data\n",
    "Merges the news and stock DataFrames on the date columns to align sentiment scores with corresponding stock prices."
   ]
  },
  {
   "cell_type": "code",
   "execution_count": 6,
   "id": "d2f5b0f1",
   "metadata": {},
   "outputs": [],
   "source": [
    "merged_df = pd.merge(news_df, stock_df, left_on='date', right_on='Date', how='left')"
   ]
  },
  {
   "cell_type": "markdown",
   "id": "d1020c4d",
   "metadata": {},
   "source": [
    "## 5. Inspect Merged Data\n",
    "Displays the shape and a sample of the merged DataFrame to verify the merge and inspect the data."
   ]
  },
  {
   "cell_type": "code",
   "execution_count": 7,
   "id": "20556bbb",
   "metadata": {},
   "outputs": [
    {
     "data": {
      "text/html": [
       "<div>\n",
       "<style scoped>\n",
       "    .dataframe tbody tr th:only-of-type {\n",
       "        vertical-align: middle;\n",
       "    }\n",
       "\n",
       "    .dataframe tbody tr th {\n",
       "        vertical-align: top;\n",
       "    }\n",
       "\n",
       "    .dataframe thead th {\n",
       "        text-align: right;\n",
       "    }\n",
       "</style>\n",
       "<table border=\"1\" class=\"dataframe\">\n",
       "  <thead>\n",
       "    <tr style=\"text-align: right;\">\n",
       "      <th></th>\n",
       "      <th>headline</th>\n",
       "      <th>url</th>\n",
       "      <th>publisher</th>\n",
       "      <th>date</th>\n",
       "      <th>stock</th>\n",
       "      <th>sentiment</th>\n",
       "      <th>Date</th>\n",
       "      <th>Open</th>\n",
       "      <th>High</th>\n",
       "      <th>Low</th>\n",
       "      <th>Close</th>\n",
       "      <th>Adj Close</th>\n",
       "      <th>Volume</th>\n",
       "      <th>Dividends</th>\n",
       "      <th>Stock Splits</th>\n",
       "    </tr>\n",
       "  </thead>\n",
       "  <tbody>\n",
       "    <tr>\n",
       "      <th>663981</th>\n",
       "      <td>HSBC Upgrades China Unicom to Hold</td>\n",
       "      <td>https://www.benzinga.com/news/15/07/5723408/hs...</td>\n",
       "      <td>Paul Quintaro</td>\n",
       "      <td>2015-07-31 00:00:00+00:00</td>\n",
       "      <td>CHU</td>\n",
       "      <td>0.0</td>\n",
       "      <td>2015-07-31 00:00:00+00:00</td>\n",
       "      <td>0.50250</td>\n",
       "      <td>0.50275</td>\n",
       "      <td>0.49575</td>\n",
       "      <td>0.49875</td>\n",
       "      <td>0.482966</td>\n",
       "      <td>218340000</td>\n",
       "      <td>0.0</td>\n",
       "      <td>0.0</td>\n",
       "    </tr>\n",
       "    <tr>\n",
       "      <th>1073220</th>\n",
       "      <td>UPDATE: ADMA Says FDA Established PDUFA Date O...</td>\n",
       "      <td>https://www.benzinga.com/news/18/10/12491689/u...</td>\n",
       "      <td>Benzinga Newsdesk</td>\n",
       "      <td>2018-10-11 00:00:00+00:00</td>\n",
       "      <td>ADMA</td>\n",
       "      <td>0.0</td>\n",
       "      <td>2018-10-11 00:00:00+00:00</td>\n",
       "      <td>6.05425</td>\n",
       "      <td>6.18900</td>\n",
       "      <td>5.85650</td>\n",
       "      <td>5.87825</td>\n",
       "      <td>5.826009</td>\n",
       "      <td>725436000</td>\n",
       "      <td>0.0</td>\n",
       "      <td>0.0</td>\n",
       "    </tr>\n",
       "    <tr>\n",
       "      <th>328655</th>\n",
       "      <td>Mid-Day Market Update: Markets Go Red; AMD Pos...</td>\n",
       "      <td>https://www.benzinga.com/news/earnings/12/12/3...</td>\n",
       "      <td>Jake L'Ecuyer</td>\n",
       "      <td>2012-12-03 00:00:00+00:00</td>\n",
       "      <td>SXC</td>\n",
       "      <td>0.0</td>\n",
       "      <td>2012-12-03 00:00:00+00:00</td>\n",
       "      <td>0.30300</td>\n",
       "      <td>0.30300</td>\n",
       "      <td>0.29300</td>\n",
       "      <td>0.29375</td>\n",
       "      <td>0.271174</td>\n",
       "      <td>391380000</td>\n",
       "      <td>0.0</td>\n",
       "      <td>0.0</td>\n",
       "    </tr>\n",
       "    <tr>\n",
       "      <th>789117</th>\n",
       "      <td>Morgan Stanley Downgrades Yahoo, Needs A Tax E...</td>\n",
       "      <td>https://www.benzinga.com/analyst-ratings/analy...</td>\n",
       "      <td>Monica Gerson</td>\n",
       "      <td>2016-07-26 00:00:00+00:00</td>\n",
       "      <td>YHOO</td>\n",
       "      <td>0.0</td>\n",
       "      <td>2016-07-26 00:00:00+00:00</td>\n",
       "      <td>1.40425</td>\n",
       "      <td>1.42300</td>\n",
       "      <td>1.40225</td>\n",
       "      <td>1.41575</td>\n",
       "      <td>1.390579</td>\n",
       "      <td>514508000</td>\n",
       "      <td>0.0</td>\n",
       "      <td>0.0</td>\n",
       "    </tr>\n",
       "    <tr>\n",
       "      <th>383711</th>\n",
       "      <td>Sterne Agee Maintains Buy on Nationstar Mortga...</td>\n",
       "      <td>https://www.benzinga.com/news/13/05/3591133/st...</td>\n",
       "      <td>Juan Lopez</td>\n",
       "      <td>2013-05-15 00:00:00+00:00</td>\n",
       "      <td>NSM</td>\n",
       "      <td>0.0</td>\n",
       "      <td>2013-05-15 00:00:00+00:00</td>\n",
       "      <td>0.35950</td>\n",
       "      <td>0.36875</td>\n",
       "      <td>0.35950</td>\n",
       "      <td>0.36750</td>\n",
       "      <td>0.341337</td>\n",
       "      <td>313172000</td>\n",
       "      <td>0.0</td>\n",
       "      <td>0.0</td>\n",
       "    </tr>\n",
       "  </tbody>\n",
       "</table>\n",
       "</div>"
      ],
      "text/plain": [
       "                                                  headline  \\\n",
       "663981                  HSBC Upgrades China Unicom to Hold   \n",
       "1073220  UPDATE: ADMA Says FDA Established PDUFA Date O...   \n",
       "328655   Mid-Day Market Update: Markets Go Red; AMD Pos...   \n",
       "789117   Morgan Stanley Downgrades Yahoo, Needs A Tax E...   \n",
       "383711   Sterne Agee Maintains Buy on Nationstar Mortga...   \n",
       "\n",
       "                                                       url          publisher  \\\n",
       "663981   https://www.benzinga.com/news/15/07/5723408/hs...      Paul Quintaro   \n",
       "1073220  https://www.benzinga.com/news/18/10/12491689/u...  Benzinga Newsdesk   \n",
       "328655   https://www.benzinga.com/news/earnings/12/12/3...      Jake L'Ecuyer   \n",
       "789117   https://www.benzinga.com/analyst-ratings/analy...      Monica Gerson   \n",
       "383711   https://www.benzinga.com/news/13/05/3591133/st...         Juan Lopez   \n",
       "\n",
       "                             date stock  sentiment                      Date  \\\n",
       "663981  2015-07-31 00:00:00+00:00   CHU        0.0 2015-07-31 00:00:00+00:00   \n",
       "1073220 2018-10-11 00:00:00+00:00  ADMA        0.0 2018-10-11 00:00:00+00:00   \n",
       "328655  2012-12-03 00:00:00+00:00   SXC        0.0 2012-12-03 00:00:00+00:00   \n",
       "789117  2016-07-26 00:00:00+00:00  YHOO        0.0 2016-07-26 00:00:00+00:00   \n",
       "383711  2013-05-15 00:00:00+00:00   NSM        0.0 2013-05-15 00:00:00+00:00   \n",
       "\n",
       "            Open     High      Low    Close  Adj Close     Volume  Dividends  \\\n",
       "663981   0.50250  0.50275  0.49575  0.49875   0.482966  218340000        0.0   \n",
       "1073220  6.05425  6.18900  5.85650  5.87825   5.826009  725436000        0.0   \n",
       "328655   0.30300  0.30300  0.29300  0.29375   0.271174  391380000        0.0   \n",
       "789117   1.40425  1.42300  1.40225  1.41575   1.390579  514508000        0.0   \n",
       "383711   0.35950  0.36875  0.35950  0.36750   0.341337  313172000        0.0   \n",
       "\n",
       "         Stock Splits  \n",
       "663981            0.0  \n",
       "1073220           0.0  \n",
       "328655            0.0  \n",
       "789117            0.0  \n",
       "383711            0.0  "
      ]
     },
     "execution_count": 7,
     "metadata": {},
     "output_type": "execute_result"
    }
   ],
   "source": [
    "merged_df.shape\n",
    "merged_df.sample(5)"
   ]
  },
  {
   "cell_type": "markdown",
   "id": "23f45d36",
   "metadata": {},
   "source": [
    "## 6. Handle Missing Values\n",
    "Checks for missing values in the merged DataFrame, drops any rows with missing data, and displays the new shape."
   ]
  },
  {
   "cell_type": "code",
   "execution_count": 8,
   "id": "2d82ce93",
   "metadata": {},
   "outputs": [
    {
     "name": "stdout",
     "output_type": "stream",
     "text": [
      "0\n"
     ]
    },
    {
     "data": {
      "text/plain": [
       "(1324417, 15)"
      ]
     },
     "execution_count": 8,
     "metadata": {},
     "output_type": "execute_result"
    }
   ],
   "source": [
    "# Check for missing values\n",
    "print(merged_df['date'].isnull().sum())\n",
    "merged_df.dropna(inplace=True)  # Drop missing values if necessary\n",
    "merged_df.shape"
   ]
  },
  {
   "cell_type": "markdown",
   "id": "5f21870b",
   "metadata": {},
   "source": [
    "## 7. Calculate Daily Returns\n",
    "Calculates the daily stock return as the percentage change in the closing price and adds it as a new column."
   ]
  },
  {
   "cell_type": "code",
   "execution_count": 9,
   "id": "a820c503",
   "metadata": {},
   "outputs": [
    {
     "data": {
      "text/html": [
       "<div>\n",
       "<style scoped>\n",
       "    .dataframe tbody tr th:only-of-type {\n",
       "        vertical-align: middle;\n",
       "    }\n",
       "\n",
       "    .dataframe tbody tr th {\n",
       "        vertical-align: top;\n",
       "    }\n",
       "\n",
       "    .dataframe thead th {\n",
       "        text-align: right;\n",
       "    }\n",
       "</style>\n",
       "<table border=\"1\" class=\"dataframe\">\n",
       "  <thead>\n",
       "    <tr style=\"text-align: right;\">\n",
       "      <th></th>\n",
       "      <th>headline</th>\n",
       "      <th>url</th>\n",
       "      <th>publisher</th>\n",
       "      <th>date</th>\n",
       "      <th>stock</th>\n",
       "      <th>sentiment</th>\n",
       "      <th>Date</th>\n",
       "      <th>Open</th>\n",
       "      <th>High</th>\n",
       "      <th>Low</th>\n",
       "      <th>Close</th>\n",
       "      <th>Adj Close</th>\n",
       "      <th>Volume</th>\n",
       "      <th>Dividends</th>\n",
       "      <th>Stock Splits</th>\n",
       "      <th>daily_return</th>\n",
       "    </tr>\n",
       "  </thead>\n",
       "  <tbody>\n",
       "    <tr>\n",
       "      <th>0</th>\n",
       "      <td>Update on the Luxury Sector: 2nd Quarter 2009</td>\n",
       "      <td>https://www.benzinga.com/charles-lewis-sizemor...</td>\n",
       "      <td>Charles Lewis Sizemore CFA</td>\n",
       "      <td>2009-04-27 00:00:00+00:00</td>\n",
       "      <td>Y</td>\n",
       "      <td>0.000000</td>\n",
       "      <td>2009-04-27 00:00:00+00:00</td>\n",
       "      <td>0.28200</td>\n",
       "      <td>0.29000</td>\n",
       "      <td>0.27375</td>\n",
       "      <td>0.27550</td>\n",
       "      <td>0.252696</td>\n",
       "      <td>787024000</td>\n",
       "      <td>0.0</td>\n",
       "      <td>0.0</td>\n",
       "      <td>NaN</td>\n",
       "    </tr>\n",
       "    <tr>\n",
       "      <th>1</th>\n",
       "      <td>Update on the Luxury Sector: 2nd Quarter 2009</td>\n",
       "      <td>https://www.benzinga.com/charles-lewis-sizemor...</td>\n",
       "      <td>Charles Lewis Sizemore CFA</td>\n",
       "      <td>2009-04-27 00:00:00+00:00</td>\n",
       "      <td>FT</td>\n",
       "      <td>0.000000</td>\n",
       "      <td>2009-04-27 00:00:00+00:00</td>\n",
       "      <td>0.28200</td>\n",
       "      <td>0.29000</td>\n",
       "      <td>0.27375</td>\n",
       "      <td>0.27550</td>\n",
       "      <td>0.252696</td>\n",
       "      <td>787024000</td>\n",
       "      <td>0.0</td>\n",
       "      <td>0.0</td>\n",
       "      <td>0.000000</td>\n",
       "    </tr>\n",
       "    <tr>\n",
       "      <th>2</th>\n",
       "      <td>Going Against the Herd</td>\n",
       "      <td>https://www.benzinga.com/charles-lewis-sizemor...</td>\n",
       "      <td>Charles Lewis Sizemore CFA</td>\n",
       "      <td>2009-04-29 00:00:00+00:00</td>\n",
       "      <td>A</td>\n",
       "      <td>0.000000</td>\n",
       "      <td>2009-04-29 00:00:00+00:00</td>\n",
       "      <td>0.27750</td>\n",
       "      <td>0.27875</td>\n",
       "      <td>0.26875</td>\n",
       "      <td>0.27200</td>\n",
       "      <td>0.249486</td>\n",
       "      <td>859668000</td>\n",
       "      <td>0.0</td>\n",
       "      <td>0.0</td>\n",
       "      <td>-0.012704</td>\n",
       "    </tr>\n",
       "    <tr>\n",
       "      <th>3</th>\n",
       "      <td>Charles Sizemore Radio Interview Saturday Morning</td>\n",
       "      <td>https://www.benzinga.com/11218/charles-sizemor...</td>\n",
       "      <td>Charles Lewis Sizemore CFA</td>\n",
       "      <td>2009-05-22 00:00:00+00:00</td>\n",
       "      <td>AM</td>\n",
       "      <td>0.000000</td>\n",
       "      <td>2009-05-22 00:00:00+00:00</td>\n",
       "      <td>0.24175</td>\n",
       "      <td>0.24900</td>\n",
       "      <td>0.23725</td>\n",
       "      <td>0.24550</td>\n",
       "      <td>0.225179</td>\n",
       "      <td>718260000</td>\n",
       "      <td>0.0</td>\n",
       "      <td>0.0</td>\n",
       "      <td>-0.097427</td>\n",
       "    </tr>\n",
       "    <tr>\n",
       "      <th>4</th>\n",
       "      <td>MRM a $15-$20+ stock - FIT new information - J...</td>\n",
       "      <td>https://www.benzinga.com/superman/2009/5/27/mr...</td>\n",
       "      <td>superman</td>\n",
       "      <td>2009-05-27 00:00:00+00:00</td>\n",
       "      <td>RF</td>\n",
       "      <td>0.268182</td>\n",
       "      <td>2009-05-27 00:00:00+00:00</td>\n",
       "      <td>0.25750</td>\n",
       "      <td>0.26700</td>\n",
       "      <td>0.25500</td>\n",
       "      <td>0.25925</td>\n",
       "      <td>0.237791</td>\n",
       "      <td>814152000</td>\n",
       "      <td>0.0</td>\n",
       "      <td>0.0</td>\n",
       "      <td>0.056008</td>\n",
       "    </tr>\n",
       "  </tbody>\n",
       "</table>\n",
       "</div>"
      ],
      "text/plain": [
       "                                            headline  \\\n",
       "0      Update on the Luxury Sector: 2nd Quarter 2009   \n",
       "1      Update on the Luxury Sector: 2nd Quarter 2009   \n",
       "2                             Going Against the Herd   \n",
       "3  Charles Sizemore Radio Interview Saturday Morning   \n",
       "4  MRM a $15-$20+ stock - FIT new information - J...   \n",
       "\n",
       "                                                 url  \\\n",
       "0  https://www.benzinga.com/charles-lewis-sizemor...   \n",
       "1  https://www.benzinga.com/charles-lewis-sizemor...   \n",
       "2  https://www.benzinga.com/charles-lewis-sizemor...   \n",
       "3  https://www.benzinga.com/11218/charles-sizemor...   \n",
       "4  https://www.benzinga.com/superman/2009/5/27/mr...   \n",
       "\n",
       "                    publisher                      date stock  sentiment  \\\n",
       "0  Charles Lewis Sizemore CFA 2009-04-27 00:00:00+00:00     Y   0.000000   \n",
       "1  Charles Lewis Sizemore CFA 2009-04-27 00:00:00+00:00    FT   0.000000   \n",
       "2  Charles Lewis Sizemore CFA 2009-04-29 00:00:00+00:00     A   0.000000   \n",
       "3  Charles Lewis Sizemore CFA 2009-05-22 00:00:00+00:00    AM   0.000000   \n",
       "4                    superman 2009-05-27 00:00:00+00:00    RF   0.268182   \n",
       "\n",
       "                       Date     Open     High      Low    Close  Adj Close  \\\n",
       "0 2009-04-27 00:00:00+00:00  0.28200  0.29000  0.27375  0.27550   0.252696   \n",
       "1 2009-04-27 00:00:00+00:00  0.28200  0.29000  0.27375  0.27550   0.252696   \n",
       "2 2009-04-29 00:00:00+00:00  0.27750  0.27875  0.26875  0.27200   0.249486   \n",
       "3 2009-05-22 00:00:00+00:00  0.24175  0.24900  0.23725  0.24550   0.225179   \n",
       "4 2009-05-27 00:00:00+00:00  0.25750  0.26700  0.25500  0.25925   0.237791   \n",
       "\n",
       "      Volume  Dividends  Stock Splits  daily_return  \n",
       "0  787024000        0.0           0.0           NaN  \n",
       "1  787024000        0.0           0.0      0.000000  \n",
       "2  859668000        0.0           0.0     -0.012704  \n",
       "3  718260000        0.0           0.0     -0.097427  \n",
       "4  814152000        0.0           0.0      0.056008  "
      ]
     },
     "execution_count": 9,
     "metadata": {},
     "output_type": "execute_result"
    }
   ],
   "source": [
    "merged_df['daily_return'] = merged_df['Close'].pct_change()  # Calculate daily returns\n",
    "merged_df.head()"
   ]
  },
  {
   "cell_type": "markdown",
   "id": "215f45a6",
   "metadata": {},
   "source": [
    "## 8. Pearson Correlation Calculation\n",
    "Drops rows with missing sentiment or daily return values, then calculates and prints the Pearson correlation coefficient and p-value to assess linear correlation."
   ]
  },
  {
   "cell_type": "code",
   "execution_count": 10,
   "id": "93a90bcf",
   "metadata": {},
   "outputs": [
    {
     "name": "stdout",
     "output_type": "stream",
     "text": [
      "Pearson correlation: -0.00043633112735137996, p-value: 0.6155664440252498\n"
     ]
    }
   ],
   "source": [
    "# Drop missing values before correlation calculation\n",
    "valid_data = merged_df.dropna(subset=['sentiment', 'daily_return'])\n",
    "\n",
    "# Pearson correlation (linear relationship)\n",
    "pearson_corr, pearson_p = pearsonr(valid_data['sentiment'], valid_data['daily_return'])\n",
    "print(f\"Pearson correlation: {pearson_corr}, p-value: {pearson_p}\")\n"
   ]
  },
  {
   "cell_type": "markdown",
   "id": "e870390b",
   "metadata": {},
   "source": [
    "## 9. Spearman Correlation Calculation\n",
    "Calculates and prints the Spearman rank correlation coefficient and p-value to assess monotonic relationships."
   ]
  },
  {
   "cell_type": "code",
   "execution_count": 11,
   "id": "d772f5f9",
   "metadata": {},
   "outputs": [
    {
     "name": "stdout",
     "output_type": "stream",
     "text": [
      "Spearman correlation: -0.001970399664957251, p-value: 0.023353566578483725\n"
     ]
    }
   ],
   "source": [
    "# Spearman correlation (monotonic relationship, non-parametric)\n",
    "spearman_corr, spearman_p = spearmanr(valid_data['sentiment'], valid_data['daily_return'])\n",
    "print(f\"Spearman correlation: {spearman_corr}, p-value: {spearman_p}\")\n"
   ]
  },
  {
   "cell_type": "markdown",
   "id": "9e327432",
   "metadata": {},
   "source": [
    "## 10. Kendall Correlation Calculation\n",
    "Calculates and prints the Kendall tau correlation coefficient and p-value to assess ordinal associations."
   ]
  },
  {
   "cell_type": "code",
   "execution_count": 12,
   "id": "66f9ba3b",
   "metadata": {},
   "outputs": [
    {
     "name": "stdout",
     "output_type": "stream",
     "text": [
      "Kendall correlation: -0.0018177469824223807, p-value: 0.023353095690959825\n"
     ]
    }
   ],
   "source": [
    "# Kendall correlation (ordinal association, non-parametric)\n",
    "kendall_corr, kendall_p = kendalltau(valid_data['sentiment'], valid_data['daily_return'])\n",
    "print(f\"Kendall correlation: {kendall_corr}, p-value: {kendall_p}\")"
   ]
  },
  {
   "cell_type": "markdown",
   "id": "df69bb16",
   "metadata": {},
   "source": [
    "The results show the following correlation values between news sentiment and daily stock return for NVDA:\n",
    "\n",
    "- **Pearson correlation:** -0.000436 (p-value: 0.61556)\n",
    "- **Spearman correlation:** -0.00197 (p-value: 0.02335)\n",
    "- **Kendall correlation:** -0.00181 (p-value: 0.02335)\n",
    "\n",
    "**Interpretation:**\n",
    "\n",
    "All three correlation coefficients are extremely close to zero, indicating almost no relationship between news sentiment and daily stock return in the dataset.\n",
    "The p-values are much greater than 0.05, so these correlations are not statistically significant."
   ]
  },
  {
   "cell_type": "markdown",
   "id": "fad142d7",
   "metadata": {},
   "source": [
    "## 11. Scatter Plot of Sentiment vs. Daily Return\n",
    "Creates a scatter plot to visualize the relationship between news sentiment scores and daily stock returns."
   ]
  },
  {
   "cell_type": "code",
   "execution_count": 13,
   "id": "ee4f61bc",
   "metadata": {},
   "outputs": [
    {
     "data": {
      "image/png": "[encoded data removed]",
      "text/plain": [
       "<Figure size 1000x500 with 1 Axes>"
      ]
     },
     "metadata": {},
     "output_type": "display_data"
    }
   ],
   "source": [
    "plt.figure(figsize=(10,5))\n",
    "plt.scatter(valid_data['sentiment'], valid_data['daily_return'], alpha=0.5)\n",
    "plt.xlabel('News Sentiment Score')\n",
    "plt.ylabel('Daily Stock Return')\n",
    "plt.title('Correlation Between News Sentiment and Stock Price Movements')\n",
    "plt.show()"
   ]
  },
  {
   "cell_type": "markdown",
   "id": "ab19d04c",
   "metadata": {},
   "source": [
    "## 12. Correlation Heatmap\n",
    "Selects relevant numeric columns, computes the correlation matrix, and visualizes it as a heatmap to show the strength and direction of relationships between variables."
   ]
  },
  {
   "cell_type": "code",
   "execution_count": 14,
   "id": "cdce0bcb",
   "metadata": {},
   "outputs": [
    {
     "data": {
      "image/png": "[encoded data removed]",
      "text/plain": [
       "<Figure size 600x400 with 2 Axes>"
      ]
     },
     "metadata": {},
     "output_type": "display_data"
    }
   ],
   "source": [
    "# Select relevant numeric columns for correlation\n",
    "corr_data = valid_data[['sentiment', 'daily_return', 'Close']]\n",
    "\n",
    "# Compute correlation matrix\n",
    "corr_matrix = corr_data.corr(method='pearson')  # You can use 'spearman' or 'kendall' as well\n",
    "\n",
    "# Plot heatmap\n",
    "plt.figure(figsize=(6, 4))\n",
    "sns.heatmap(corr_matrix, annot=True, cmap='coolwarm', vmin=-1, vmax=1)\n",
    "plt.title('Correlation Heatmap')\n",
    "plt.show()"
   ]
  }
 ],
 "metadata": {
  "kernelspec": {
   "display_name": "venv",
   "language": "python",
   "name": "python3"
  },
  "language_info": {
   "codemirror_mode": {
    "name": "ipython",
    "version": 3
   },
   "file_extension": ".py",
   "mimetype": "text/x-python",
   "name": "python",
   "nbconvert_exporter": "python",
   "pygments_lexer": "ipython3",
   "version": "3.13.3"
  }
 },
 "nbformat": 4,
 "nbformat_minor": 5
}
