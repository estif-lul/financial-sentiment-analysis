{
 "cells": [
  {
   "cell_type": "markdown",
   "id": "8cc1cb63",
   "metadata": {},
   "source": [
    "## 1. Import Libraries\n",
    "This block imports essential libraries for data manipulation (pandas, numpy), sentiment analysis (TextBlob), statistical correlation (scipy.stats), and visualization (matplotlib, seaborn)."
   ]
  },
  {
   "cell_type": "code",
   "execution_count": null,
   "id": "d61a4499",
   "metadata": {},
   "outputs": [],
   "source": [
    "import pandas as pd\n",
    "from scipy.stats import pearsonr, spearmanr, kendalltau\n",
    "import matplotlib.pyplot as plt\n",
    "import seaborn as sns"
   ]
  },
  {
   "cell_type": "markdown",
   "id": "b5f4f97c",
   "metadata": {},
   "source": [
    "## 2. Load News and Stock Data\n",
    "Loads the processed news sentiment data and Apple's historical stock data from CSV files. Handles file errors and ensures the required files are present."
   ]
  },
  {
   "cell_type": "code",
   "execution_count": 9,
   "id": "c8ff7f8c",
   "metadata": {},
   "outputs": [],
   "source": [
    "try:\n",
    "    # Load the news csv file\n",
    "    news_df = pd.read_csv('../../data/processed_analyst_ratings.csv')\n",
    "    # Load Historical Data\n",
    "    stock_df = pd.read_csv('../../data/yfinance_data/AAPL_historical_data.csv')\n",
    "except FileNotFoundError:\n",
    "    print(\"File not found. Please ensure the path is correct and the file exists.\")\n",
    "    exit(1)\n",
    "except Exception as e:\n",
    "    print(f\"An error occurred while reading the parquet file: {e}\")\n",
    "    exit(1)"
   ]
  },
  {
   "cell_type": "markdown",
   "id": "81e77d69",
   "metadata": {},
   "source": [
    "## 3. Convert Date Columns to Datetime\n",
    "Converts the date columns in both DataFrames to datetime format for accurate merging and time-based analysis."
   ]
  },
  {
   "cell_type": "code",
   "execution_count": null,
   "id": "c6e6ca98",
   "metadata": {},
   "outputs": [],
   "source": [
    "news_df['date'] = pd.to_datetime(news_df['date'], format='mixed', utc=True)\n",
    "stock_df['Date'] = pd.to_datetime(stock_df['Date'], format='mixed', utc=True)"
   ]
  },
  {
   "cell_type": "markdown",
   "id": "13b62f0c",
   "metadata": {},
   "source": [
    "## 4. Merge News and Stock Data\n",
    "Merges the news and stock DataFrames on the date columns to align sentiment scores with corresponding stock prices."
   ]
  },
  {
   "cell_type": "code",
   "execution_count": 11,
   "id": "d2f5b0f1",
   "metadata": {},
   "outputs": [],
   "source": [
    "merged_df = pd.merge(news_df, stock_df, left_on='date', right_on='Date', how='left')"
   ]
  },
  {
   "cell_type": "markdown",
   "id": "d1020c4d",
   "metadata": {},
   "source": [
    "## 5. Inspect Merged Data\n",
    "Displays the shape and a sample of the merged DataFrame to verify the merge and inspect the data."
   ]
  },
  {
   "cell_type": "code",
   "execution_count": 12,
   "id": "20556bbb",
   "metadata": {},
   "outputs": [
    {
     "data": {
      "text/html": [
       "<div>\n",
       "<style scoped>\n",
       "    .dataframe tbody tr th:only-of-type {\n",
       "        vertical-align: middle;\n",
       "    }\n",
       "\n",
       "    .dataframe tbody tr th {\n",
       "        vertical-align: top;\n",
       "    }\n",
       "\n",
       "    .dataframe thead th {\n",
       "        text-align: right;\n",
       "    }\n",
       "</style>\n",
       "<table border=\"1\" class=\"dataframe\">\n",
       "  <thead>\n",
       "    <tr style=\"text-align: right;\">\n",
       "      <th></th>\n",
       "      <th>headline</th>\n",
       "      <th>url</th>\n",
       "      <th>publisher</th>\n",
       "      <th>date</th>\n",
       "      <th>stock</th>\n",
       "      <th>sentiment</th>\n",
       "      <th>Date</th>\n",
       "      <th>Open</th>\n",
       "      <th>High</th>\n",
       "      <th>Low</th>\n",
       "      <th>Close</th>\n",
       "      <th>Adj Close</th>\n",
       "      <th>Volume</th>\n",
       "      <th>Dividends</th>\n",
       "      <th>Stock Splits</th>\n",
       "    </tr>\n",
       "  </thead>\n",
       "  <tbody>\n",
       "    <tr>\n",
       "      <th>541611</th>\n",
       "      <td>Stocks Hitting 52-Week Highs</td>\n",
       "      <td>https://www.benzinga.com/news/14/09/4845983/st...</td>\n",
       "      <td>Lisa Levin</td>\n",
       "      <td>2014-09-12 00:00:00+00:00</td>\n",
       "      <td>MARA</td>\n",
       "      <td>0.000000</td>\n",
       "      <td>2014-09-12 00:00:00+00:00</td>\n",
       "      <td>25.302500</td>\n",
       "      <td>25.547501</td>\n",
       "      <td>25.270000</td>\n",
       "      <td>25.415001</td>\n",
       "      <td>22.566160</td>\n",
       "      <td>250504400</td>\n",
       "      <td>0.0</td>\n",
       "      <td>0.0</td>\n",
       "    </tr>\n",
       "    <tr>\n",
       "      <th>617283</th>\n",
       "      <td>Guggenheim Securities Initiates Coverage on Ar...</td>\n",
       "      <td>https://www.benzinga.com/news/15/03/5361230/gu...</td>\n",
       "      <td>Paul Quintaro</td>\n",
       "      <td>2015-03-26 00:00:00+00:00</td>\n",
       "      <td>ANET</td>\n",
       "      <td>0.000000</td>\n",
       "      <td>2015-03-26 00:00:00+00:00</td>\n",
       "      <td>30.690001</td>\n",
       "      <td>31.219999</td>\n",
       "      <td>30.650000</td>\n",
       "      <td>31.059999</td>\n",
       "      <td>27.807295</td>\n",
       "      <td>190291600</td>\n",
       "      <td>0.0</td>\n",
       "      <td>0.0</td>\n",
       "    </tr>\n",
       "    <tr>\n",
       "      <th>689794</th>\n",
       "      <td>Earnings Scheduled For October 23, 2015</td>\n",
       "      <td>https://www.benzinga.com/news/earnings/15/10/5...</td>\n",
       "      <td>Monica Gerson</td>\n",
       "      <td>2015-10-23 00:00:00+00:00</td>\n",
       "      <td>LYB</td>\n",
       "      <td>0.000000</td>\n",
       "      <td>2015-10-23 00:00:00+00:00</td>\n",
       "      <td>29.174999</td>\n",
       "      <td>29.807501</td>\n",
       "      <td>29.082500</td>\n",
       "      <td>29.770000</td>\n",
       "      <td>26.884863</td>\n",
       "      <td>237467600</td>\n",
       "      <td>0.0</td>\n",
       "      <td>0.0</td>\n",
       "    </tr>\n",
       "    <tr>\n",
       "      <th>1020022</th>\n",
       "      <td>Sabby Management Reports New 8.81% Stake In Fi...</td>\n",
       "      <td>https://www.benzinga.com/general/hedge-funds/1...</td>\n",
       "      <td>Eddie Staley</td>\n",
       "      <td>2018-05-31 00:00:00+00:00</td>\n",
       "      <td>FCSC</td>\n",
       "      <td>0.136364</td>\n",
       "      <td>2018-05-31 00:00:00+00:00</td>\n",
       "      <td>46.805000</td>\n",
       "      <td>47.057499</td>\n",
       "      <td>46.535000</td>\n",
       "      <td>46.717499</td>\n",
       "      <td>44.359558</td>\n",
       "      <td>109931200</td>\n",
       "      <td>0.0</td>\n",
       "      <td>0.0</td>\n",
       "    </tr>\n",
       "    <tr>\n",
       "      <th>273937</th>\n",
       "      <td>Biogen Idec to Highlight Innovative Pipeline a...</td>\n",
       "      <td>https://www.benzinga.com/news/12/06/2661169/bi...</td>\n",
       "      <td>Allie Wickman</td>\n",
       "      <td>2012-06-12 00:00:00+00:00</td>\n",
       "      <td>BIIB</td>\n",
       "      <td>0.250000</td>\n",
       "      <td>2012-06-12 00:00:00+00:00</td>\n",
       "      <td>20.516430</td>\n",
       "      <td>20.593571</td>\n",
       "      <td>20.239286</td>\n",
       "      <td>20.577143</td>\n",
       "      <td>17.376881</td>\n",
       "      <td>435380400</td>\n",
       "      <td>0.0</td>\n",
       "      <td>0.0</td>\n",
       "    </tr>\n",
       "  </tbody>\n",
       "</table>\n",
       "</div>"
      ],
      "text/plain": [
       "                                                  headline  \\\n",
       "541611                        Stocks Hitting 52-Week Highs   \n",
       "617283   Guggenheim Securities Initiates Coverage on Ar...   \n",
       "689794             Earnings Scheduled For October 23, 2015   \n",
       "1020022  Sabby Management Reports New 8.81% Stake In Fi...   \n",
       "273937   Biogen Idec to Highlight Innovative Pipeline a...   \n",
       "\n",
       "                                                       url      publisher  \\\n",
       "541611   https://www.benzinga.com/news/14/09/4845983/st...     Lisa Levin   \n",
       "617283   https://www.benzinga.com/news/15/03/5361230/gu...  Paul Quintaro   \n",
       "689794   https://www.benzinga.com/news/earnings/15/10/5...  Monica Gerson   \n",
       "1020022  https://www.benzinga.com/general/hedge-funds/1...   Eddie Staley   \n",
       "273937   https://www.benzinga.com/news/12/06/2661169/bi...  Allie Wickman   \n",
       "\n",
       "                             date stock  sentiment                      Date  \\\n",
       "541611  2014-09-12 00:00:00+00:00  MARA   0.000000 2014-09-12 00:00:00+00:00   \n",
       "617283  2015-03-26 00:00:00+00:00  ANET   0.000000 2015-03-26 00:00:00+00:00   \n",
       "689794  2015-10-23 00:00:00+00:00   LYB   0.000000 2015-10-23 00:00:00+00:00   \n",
       "1020022 2018-05-31 00:00:00+00:00  FCSC   0.136364 2018-05-31 00:00:00+00:00   \n",
       "273937  2012-06-12 00:00:00+00:00  BIIB   0.250000 2012-06-12 00:00:00+00:00   \n",
       "\n",
       "              Open       High        Low      Close  Adj Close     Volume  \\\n",
       "541611   25.302500  25.547501  25.270000  25.415001  22.566160  250504400   \n",
       "617283   30.690001  31.219999  30.650000  31.059999  27.807295  190291600   \n",
       "689794   29.174999  29.807501  29.082500  29.770000  26.884863  237467600   \n",
       "1020022  46.805000  47.057499  46.535000  46.717499  44.359558  109931200   \n",
       "273937   20.516430  20.593571  20.239286  20.577143  17.376881  435380400   \n",
       "\n",
       "         Dividends  Stock Splits  \n",
       "541611         0.0           0.0  \n",
       "617283         0.0           0.0  \n",
       "689794         0.0           0.0  \n",
       "1020022        0.0           0.0  \n",
       "273937         0.0           0.0  "
      ]
     },
     "execution_count": 12,
     "metadata": {},
     "output_type": "execute_result"
    }
   ],
   "source": [
    "merged_df.shape\n",
    "merged_df.sample(5)"
   ]
  },
  {
   "cell_type": "markdown",
   "id": "23f45d36",
   "metadata": {},
   "source": [
    "## 6. Handle Missing Values\n",
    "Checks for missing values in the merged DataFrame, drops any rows with missing data, and displays the new shape."
   ]
  },
  {
   "cell_type": "code",
   "execution_count": 13,
   "id": "2d82ce93",
   "metadata": {},
   "outputs": [
    {
     "name": "stdout",
     "output_type": "stream",
     "text": [
      "0\n"
     ]
    },
    {
     "data": {
      "text/plain": [
       "(1324417, 15)"
      ]
     },
     "execution_count": 13,
     "metadata": {},
     "output_type": "execute_result"
    }
   ],
   "source": [
    "# Check for missing values\n",
    "print(merged_df['date'].isnull().sum())\n",
    "merged_df.dropna(inplace=True)  # Drop missing values if necessary\n",
    "merged_df.shape"
   ]
  },
  {
   "cell_type": "markdown",
   "id": "5f21870b",
   "metadata": {},
   "source": [
    "## 7. Calculate Daily Returns\n",
    "Calculates the daily stock return as the percentage change in the closing price and adds it as a new column."
   ]
  },
  {
   "cell_type": "code",
   "execution_count": 16,
   "id": "a820c503",
   "metadata": {},
   "outputs": [
    {
     "data": {
      "text/html": [
       "<div>\n",
       "<style scoped>\n",
       "    .dataframe tbody tr th:only-of-type {\n",
       "        vertical-align: middle;\n",
       "    }\n",
       "\n",
       "    .dataframe tbody tr th {\n",
       "        vertical-align: top;\n",
       "    }\n",
       "\n",
       "    .dataframe thead th {\n",
       "        text-align: right;\n",
       "    }\n",
       "</style>\n",
       "<table border=\"1\" class=\"dataframe\">\n",
       "  <thead>\n",
       "    <tr style=\"text-align: right;\">\n",
       "      <th></th>\n",
       "      <th>headline</th>\n",
       "      <th>url</th>\n",
       "      <th>publisher</th>\n",
       "      <th>date</th>\n",
       "      <th>stock</th>\n",
       "      <th>sentiment</th>\n",
       "      <th>Date</th>\n",
       "      <th>Open</th>\n",
       "      <th>High</th>\n",
       "      <th>Low</th>\n",
       "      <th>Close</th>\n",
       "      <th>Adj Close</th>\n",
       "      <th>Volume</th>\n",
       "      <th>Dividends</th>\n",
       "      <th>Stock Splits</th>\n",
       "      <th>daily_return</th>\n",
       "    </tr>\n",
       "  </thead>\n",
       "  <tbody>\n",
       "    <tr>\n",
       "      <th>0</th>\n",
       "      <td>Update on the Luxury Sector: 2nd Quarter 2009</td>\n",
       "      <td>https://www.benzinga.com/charles-lewis-sizemor...</td>\n",
       "      <td>Charles Lewis Sizemore CFA</td>\n",
       "      <td>2009-04-27 00:00:00+00:00</td>\n",
       "      <td>Y</td>\n",
       "      <td>0.000000</td>\n",
       "      <td>2009-04-27 00:00:00+00:00</td>\n",
       "      <td>4.389286</td>\n",
       "      <td>4.464286</td>\n",
       "      <td>4.380714</td>\n",
       "      <td>4.454643</td>\n",
       "      <td>3.761836</td>\n",
       "      <td>480690000</td>\n",
       "      <td>0.0</td>\n",
       "      <td>0.0</td>\n",
       "      <td>NaN</td>\n",
       "    </tr>\n",
       "    <tr>\n",
       "      <th>1</th>\n",
       "      <td>Update on the Luxury Sector: 2nd Quarter 2009</td>\n",
       "      <td>https://www.benzinga.com/charles-lewis-sizemor...</td>\n",
       "      <td>Charles Lewis Sizemore CFA</td>\n",
       "      <td>2009-04-27 00:00:00+00:00</td>\n",
       "      <td>FT</td>\n",
       "      <td>0.000000</td>\n",
       "      <td>2009-04-27 00:00:00+00:00</td>\n",
       "      <td>4.389286</td>\n",
       "      <td>4.464286</td>\n",
       "      <td>4.380714</td>\n",
       "      <td>4.454643</td>\n",
       "      <td>3.761836</td>\n",
       "      <td>480690000</td>\n",
       "      <td>0.0</td>\n",
       "      <td>0.0</td>\n",
       "      <td>0.000000</td>\n",
       "    </tr>\n",
       "    <tr>\n",
       "      <th>2</th>\n",
       "      <td>Going Against the Herd</td>\n",
       "      <td>https://www.benzinga.com/charles-lewis-sizemor...</td>\n",
       "      <td>Charles Lewis Sizemore CFA</td>\n",
       "      <td>2009-04-29 00:00:00+00:00</td>\n",
       "      <td>A</td>\n",
       "      <td>0.000000</td>\n",
       "      <td>2009-04-29 00:00:00+00:00</td>\n",
       "      <td>4.458929</td>\n",
       "      <td>4.530357</td>\n",
       "      <td>4.422500</td>\n",
       "      <td>4.469286</td>\n",
       "      <td>3.774201</td>\n",
       "      <td>458110800</td>\n",
       "      <td>0.0</td>\n",
       "      <td>0.0</td>\n",
       "      <td>0.003287</td>\n",
       "    </tr>\n",
       "    <tr>\n",
       "      <th>3</th>\n",
       "      <td>Charles Sizemore Radio Interview Saturday Morning</td>\n",
       "      <td>https://www.benzinga.com/11218/charles-sizemor...</td>\n",
       "      <td>Charles Lewis Sizemore CFA</td>\n",
       "      <td>2009-05-22 00:00:00+00:00</td>\n",
       "      <td>AM</td>\n",
       "      <td>0.000000</td>\n",
       "      <td>2009-05-22 00:00:00+00:00</td>\n",
       "      <td>4.430357</td>\n",
       "      <td>4.435000</td>\n",
       "      <td>4.348214</td>\n",
       "      <td>4.375000</td>\n",
       "      <td>3.694580</td>\n",
       "      <td>297998400</td>\n",
       "      <td>0.0</td>\n",
       "      <td>0.0</td>\n",
       "      <td>-0.021096</td>\n",
       "    </tr>\n",
       "    <tr>\n",
       "      <th>4</th>\n",
       "      <td>MRM a $15-$20+ stock - FIT new information - J...</td>\n",
       "      <td>https://www.benzinga.com/superman/2009/5/27/mr...</td>\n",
       "      <td>superman</td>\n",
       "      <td>2009-05-27 00:00:00+00:00</td>\n",
       "      <td>RF</td>\n",
       "      <td>0.268182</td>\n",
       "      <td>2009-05-27 00:00:00+00:00</td>\n",
       "      <td>4.706429</td>\n",
       "      <td>4.820714</td>\n",
       "      <td>4.675357</td>\n",
       "      <td>4.751786</td>\n",
       "      <td>4.012765</td>\n",
       "      <td>646422000</td>\n",
       "      <td>0.0</td>\n",
       "      <td>0.0</td>\n",
       "      <td>0.086123</td>\n",
       "    </tr>\n",
       "  </tbody>\n",
       "</table>\n",
       "</div>"
      ],
      "text/plain": [
       "                                            headline  \\\n",
       "0      Update on the Luxury Sector: 2nd Quarter 2009   \n",
       "1      Update on the Luxury Sector: 2nd Quarter 2009   \n",
       "2                             Going Against the Herd   \n",
       "3  Charles Sizemore Radio Interview Saturday Morning   \n",
       "4  MRM a $15-$20+ stock - FIT new information - J...   \n",
       "\n",
       "                                                 url  \\\n",
       "0  https://www.benzinga.com/charles-lewis-sizemor...   \n",
       "1  https://www.benzinga.com/charles-lewis-sizemor...   \n",
       "2  https://www.benzinga.com/charles-lewis-sizemor...   \n",
       "3  https://www.benzinga.com/11218/charles-sizemor...   \n",
       "4  https://www.benzinga.com/superman/2009/5/27/mr...   \n",
       "\n",
       "                    publisher                      date stock  sentiment  \\\n",
       "0  Charles Lewis Sizemore CFA 2009-04-27 00:00:00+00:00     Y   0.000000   \n",
       "1  Charles Lewis Sizemore CFA 2009-04-27 00:00:00+00:00    FT   0.000000   \n",
       "2  Charles Lewis Sizemore CFA 2009-04-29 00:00:00+00:00     A   0.000000   \n",
       "3  Charles Lewis Sizemore CFA 2009-05-22 00:00:00+00:00    AM   0.000000   \n",
       "4                    superman 2009-05-27 00:00:00+00:00    RF   0.268182   \n",
       "\n",
       "                       Date      Open      High       Low     Close  \\\n",
       "0 2009-04-27 00:00:00+00:00  4.389286  4.464286  4.380714  4.454643   \n",
       "1 2009-04-27 00:00:00+00:00  4.389286  4.464286  4.380714  4.454643   \n",
       "2 2009-04-29 00:00:00+00:00  4.458929  4.530357  4.422500  4.469286   \n",
       "3 2009-05-22 00:00:00+00:00  4.430357  4.435000  4.348214  4.375000   \n",
       "4 2009-05-27 00:00:00+00:00  4.706429  4.820714  4.675357  4.751786   \n",
       "\n",
       "   Adj Close     Volume  Dividends  Stock Splits  daily_return  \n",
       "0   3.761836  480690000        0.0           0.0           NaN  \n",
       "1   3.761836  480690000        0.0           0.0      0.000000  \n",
       "2   3.774201  458110800        0.0           0.0      0.003287  \n",
       "3   3.694580  297998400        0.0           0.0     -0.021096  \n",
       "4   4.012765  646422000        0.0           0.0      0.086123  "
      ]
     },
     "execution_count": 16,
     "metadata": {},
     "output_type": "execute_result"
    }
   ],
   "source": [
    "merged_df['daily_return'] = merged_df['Close'].pct_change()  # Calculate daily returns\n",
    "merged_df.head()"
   ]
  },
  {
   "cell_type": "markdown",
   "id": "215f45a6",
   "metadata": {},
   "source": [
    "## 8. Pearson Correlation Calculation\n",
    "Drops rows with missing sentiment or daily return values, then calculates and prints the Pearson correlation coefficient and p-value to assess linear correlation."
   ]
  },
  {
   "cell_type": "code",
   "execution_count": 17,
   "id": "93a90bcf",
   "metadata": {},
   "outputs": [
    {
     "name": "stdout",
     "output_type": "stream",
     "text": [
      "Pearson correlation: 0.0009220945880360673, p-value: 0.2886099845714106\n"
     ]
    }
   ],
   "source": [
    "# Drop missing values before correlation calculation\n",
    "valid_data = merged_df.dropna(subset=['sentiment', 'daily_return'])\n",
    "\n",
    "# Pearson correlation (linear relationship)\n",
    "pearson_corr, pearson_p = pearsonr(valid_data['sentiment'], valid_data['daily_return'])\n",
    "print(f\"Pearson correlation: {pearson_corr}, p-value: {pearson_p}\")\n"
   ]
  },
  {
   "cell_type": "markdown",
   "id": "e870390b",
   "metadata": {},
   "source": [
    "## 9. Spearman Correlation Calculation\n",
    "Calculates and prints the Spearman rank correlation coefficient and p-value to assess monotonic relationships."
   ]
  },
  {
   "cell_type": "code",
   "execution_count": 18,
   "id": "d772f5f9",
   "metadata": {},
   "outputs": [
    {
     "name": "stdout",
     "output_type": "stream",
     "text": [
      "Spearman correlation: 0.0005879609553436371, p-value: 0.4986317672843176\n"
     ]
    }
   ],
   "source": [
    "# Spearman correlation (monotonic relationship, non-parametric)\n",
    "spearman_corr, spearman_p = spearmanr(valid_data['sentiment'], valid_data['daily_return'])\n",
    "print(f\"Spearman correlation: {spearman_corr}, p-value: {spearman_p}\")\n"
   ]
  },
  {
   "cell_type": "markdown",
   "id": "9e327432",
   "metadata": {},
   "source": [
    "## 10. Kendall Correlation Calculation\n",
    "Calculates and prints the Kendall tau correlation coefficient and p-value to assess ordinal associations."
   ]
  },
  {
   "cell_type": "code",
   "execution_count": 19,
   "id": "66f9ba3b",
   "metadata": {},
   "outputs": [
    {
     "name": "stdout",
     "output_type": "stream",
     "text": [
      "Kendall correlation: 0.0005424146313346874, p-value: 0.4986246256889344\n"
     ]
    }
   ],
   "source": [
    "# Kendall correlation (ordinal association, non-parametric)\n",
    "kendall_corr, kendall_p = kendalltau(valid_data['sentiment'], valid_data['daily_return'])\n",
    "print(f\"Kendall correlation: {kendall_corr}, p-value: {kendall_p}\")"
   ]
  },
  {
   "cell_type": "markdown",
   "id": "df69bb16",
   "metadata": {},
   "source": [
    "The results show the following correlation values between news sentiment and daily stock return for AAPL:\n",
    "\n",
    "- **Pearson correlation:** 0.00092 (p-value: 0.2886)\n",
    "- **Spearman correlation:** 0.00059 (p-value: 0.4986)\n",
    "- **Kendall correlation:** 0.00054 (p-value: 0.4986)\n",
    "\n",
    "**Interpretation:**\n",
    "\n",
    "All three correlation coefficients are extremely close to zero, indicating almost no relationship between news sentiment and daily stock return in the dataset.\n",
    "The p-values are much greater than 0.05, so these correlations are not statistically significant."
   ]
  },
  {
   "cell_type": "markdown",
   "id": "fad142d7",
   "metadata": {},
   "source": [
    "## 11. Scatter Plot of Sentiment vs. Daily Return\n",
    "Creates a scatter plot to visualize the relationship between news sentiment scores and daily stock returns."
   ]
  },
  {
   "cell_type": "code",
   "execution_count": 20,
   "id": "ee4f61bc",
   "metadata": {},
   "outputs": [
    {
     "data": {
      "image/png": "[encoded data removed]",
      "text/plain": [
       "<Figure size 1000x500 with 1 Axes>"
      ]
     },
     "metadata": {},
     "output_type": "display_data"
    }
   ],
   "source": [
    "plt.figure(figsize=(10,5))\n",
    "plt.scatter(valid_data['sentiment'], valid_data['daily_return'], alpha=0.5)\n",
    "plt.xlabel('News Sentiment Score')\n",
    "plt.ylabel('Daily Stock Return')\n",
    "plt.title('Correlation Between News Sentiment and Stock Price Movements')\n",
    "plt.show()"
   ]
  },
  {
   "cell_type": "markdown",
   "id": "ab19d04c",
   "metadata": {},
   "source": [
    "## 12. Correlation Heatmap\n",
    "Selects relevant numeric columns, computes the correlation matrix, and visualizes it as a heatmap to show the strength and direction of relationships between variables."
   ]
  },
  {
   "cell_type": "code",
   "execution_count": 21,
   "id": "cdce0bcb",
   "metadata": {},
   "outputs": [
    {
     "data": {
      "image/png": "[encoded data removed]",
      "text/plain": [
       "<Figure size 600x400 with 2 Axes>"
      ]
     },
     "metadata": {},
     "output_type": "display_data"
    }
   ],
   "source": [
    "# Select relevant numeric columns for correlation\n",
    "corr_data = valid_data[['sentiment', 'daily_return', 'Close']]\n",
    "\n",
    "# Compute correlation matrix\n",
    "corr_matrix = corr_data.corr(method='pearson')  # You can use 'spearman' or 'kendall' as well\n",
    "\n",
    "# Plot heatmap\n",
    "plt.figure(figsize=(6, 4))\n",
    "sns.heatmap(corr_matrix, annot=True, cmap='coolwarm', vmin=-1, vmax=1)\n",
    "plt.title('Correlation Heatmap')\n",
    "plt.show()"
   ]
  }
 ],
 "metadata": {
  "kernelspec": {
   "display_name": "venv",
   "language": "python",
   "name": "python3"
  },
  "language_info": {
   "codemirror_mode": {
    "name": "ipython",
    "version": 3
   },
   "file_extension": ".py",
   "mimetype": "text/x-python",
   "name": "python",
   "nbconvert_exporter": "python",
   "pygments_lexer": "ipython3",
   "version": "3.13.3"
  }
 },
 "nbformat": 4,
 "nbformat_minor": 5
}
