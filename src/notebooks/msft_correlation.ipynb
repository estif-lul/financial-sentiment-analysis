{
 "cells": [
  {
   "cell_type": "markdown",
   "id": "8cc1cb63",
   "metadata": {},
   "source": [
    "## 1. Import Libraries\n",
    "This block imports essential libraries for data manipulation (pandas, numpy), sentiment analysis (TextBlob), statistical correlation (scipy.stats), and visualization (matplotlib, seaborn)."
   ]
  },
  {
   "cell_type": "code",
   "execution_count": 13,
   "id": "d61a4499",
   "metadata": {},
   "outputs": [],
   "source": [
    "import pandas as pd\n",
    "from scipy.stats import pearsonr, spearmanr, kendalltau\n",
    "import matplotlib.pyplot as plt\n",
    "import seaborn as sns"
   ]
  },
  {
   "cell_type": "markdown",
   "id": "b5f4f97c",
   "metadata": {},
   "source": [
    "## 2. Load News and Stock Data\n",
    "Loads the processed news sentiment data and Apple's historical stock data from CSV files. Handles file errors and ensures the required files are present."
   ]
  },
  {
   "cell_type": "code",
   "execution_count": 14,
   "id": "c8ff7f8c",
   "metadata": {},
   "outputs": [],
   "source": [
    "try:\n",
    "    # Load the news csv file\n",
    "    news_df = pd.read_csv('../../data/processed_analyst_ratings.csv')\n",
    "    # Load Historical Data\n",
    "    stock_df = pd.read_csv('../../data/yfinance_data/MSFT_historical_data.csv')\n",
    "except FileNotFoundError:\n",
    "    print(\"File not found. Please ensure the path is correct and the file exists.\")\n",
    "    exit(1)\n",
    "except Exception as e:\n",
    "    print(f\"An error occurred while reading the parquet file: {e}\")\n",
    "    exit(1)"
   ]
  },
  {
   "cell_type": "markdown",
   "id": "81e77d69",
   "metadata": {},
   "source": [
    "## 3. Convert Date Columns to Datetime\n",
    "Converts the date columns in both DataFrames to datetime format for accurate merging and time-based analysis."
   ]
  },
  {
   "cell_type": "code",
   "execution_count": 15,
   "id": "c6e6ca98",
   "metadata": {},
   "outputs": [],
   "source": [
    "news_df['date'] = pd.to_datetime(news_df['date'], format='mixed', utc=True)\n",
    "stock_df['Date'] = pd.to_datetime(stock_df['Date'], format='mixed', utc=True)"
   ]
  },
  {
   "cell_type": "markdown",
   "id": "13b62f0c",
   "metadata": {},
   "source": [
    "## 4. Merge News and Stock Data\n",
    "Merges the news and stock DataFrames on the date columns to align sentiment scores with corresponding stock prices."
   ]
  },
  {
   "cell_type": "code",
   "execution_count": 16,
   "id": "d2f5b0f1",
   "metadata": {},
   "outputs": [],
   "source": [
    "merged_df = pd.merge(news_df, stock_df, left_on='date', right_on='Date', how='left')"
   ]
  },
  {
   "cell_type": "markdown",
   "id": "d1020c4d",
   "metadata": {},
   "source": [
    "## 5. Inspect Merged Data\n",
    "Displays the shape and a sample of the merged DataFrame to verify the merge and inspect the data."
   ]
  },
  {
   "cell_type": "code",
   "execution_count": 17,
   "id": "20556bbb",
   "metadata": {},
   "outputs": [
    {
     "data": {
      "text/html": [
       "<div>\n",
       "<style scoped>\n",
       "    .dataframe tbody tr th:only-of-type {\n",
       "        vertical-align: middle;\n",
       "    }\n",
       "\n",
       "    .dataframe tbody tr th {\n",
       "        vertical-align: top;\n",
       "    }\n",
       "\n",
       "    .dataframe thead th {\n",
       "        text-align: right;\n",
       "    }\n",
       "</style>\n",
       "<table border=\"1\" class=\"dataframe\">\n",
       "  <thead>\n",
       "    <tr style=\"text-align: right;\">\n",
       "      <th></th>\n",
       "      <th>headline</th>\n",
       "      <th>url</th>\n",
       "      <th>publisher</th>\n",
       "      <th>date</th>\n",
       "      <th>stock</th>\n",
       "      <th>sentiment</th>\n",
       "      <th>Date</th>\n",
       "      <th>Open</th>\n",
       "      <th>High</th>\n",
       "      <th>Low</th>\n",
       "      <th>Close</th>\n",
       "      <th>Adj Close</th>\n",
       "      <th>Volume</th>\n",
       "      <th>Dividends</th>\n",
       "      <th>Stock Splits</th>\n",
       "    </tr>\n",
       "  </thead>\n",
       "  <tbody>\n",
       "    <tr>\n",
       "      <th>491691</th>\n",
       "      <td>Morning Market Movers</td>\n",
       "      <td>https://www.benzinga.com/news/14/04/4507661/mo...</td>\n",
       "      <td>Monica Gerson</td>\n",
       "      <td>2014-04-29 00:00:00+00:00</td>\n",
       "      <td>CBST</td>\n",
       "      <td>0.0000</td>\n",
       "      <td>2014-04-29 00:00:00+00:00</td>\n",
       "      <td>41.099998</td>\n",
       "      <td>41.189999</td>\n",
       "      <td>40.389999</td>\n",
       "      <td>40.509998</td>\n",
       "      <td>34.180691</td>\n",
       "      <td>29636200</td>\n",
       "      <td>0.0</td>\n",
       "      <td>0.0</td>\n",
       "    </tr>\n",
       "    <tr>\n",
       "      <th>201225</th>\n",
       "      <td>CACI Awarded Prime Position on $2.5 Billion Mu...</td>\n",
       "      <td>https://www.benzinga.com/news/11/11/2100632/ca...</td>\n",
       "      <td>Allie Wickman</td>\n",
       "      <td>2011-11-07 00:00:00+00:00</td>\n",
       "      <td>CACI</td>\n",
       "      <td>0.0000</td>\n",
       "      <td>2011-11-07 00:00:00+00:00</td>\n",
       "      <td>26.209999</td>\n",
       "      <td>26.820000</td>\n",
       "      <td>26.129999</td>\n",
       "      <td>26.799999</td>\n",
       "      <td>21.027739</td>\n",
       "      <td>42589700</td>\n",
       "      <td>0.0</td>\n",
       "      <td>0.0</td>\n",
       "    </tr>\n",
       "    <tr>\n",
       "      <th>1161938</th>\n",
       "      <td>Shares of several industrial companies are tra...</td>\n",
       "      <td>https://www.benzinga.com/markets/wiim/19/06/13...</td>\n",
       "      <td>Benzinga Newsdesk</td>\n",
       "      <td>2019-06-04 00:00:00+00:00</td>\n",
       "      <td>XYL</td>\n",
       "      <td>0.0625</td>\n",
       "      <td>2019-06-04 00:00:00+00:00</td>\n",
       "      <td>121.279999</td>\n",
       "      <td>123.279999</td>\n",
       "      <td>120.650002</td>\n",
       "      <td>123.160004</td>\n",
       "      <td>117.245819</td>\n",
       "      <td>29382600</td>\n",
       "      <td>0.0</td>\n",
       "      <td>0.0</td>\n",
       "    </tr>\n",
       "    <tr>\n",
       "      <th>1190298</th>\n",
       "      <td>31 Stocks Moving In Tuesday's Pre-Market Session</td>\n",
       "      <td>https://www.benzinga.com/news/19/08/14255240/3...</td>\n",
       "      <td>Lisa Levin</td>\n",
       "      <td>2019-08-13 00:00:00+00:00</td>\n",
       "      <td>DRD</td>\n",
       "      <td>0.0000</td>\n",
       "      <td>2019-08-13 00:00:00+00:00</td>\n",
       "      <td>136.050003</td>\n",
       "      <td>138.800003</td>\n",
       "      <td>135.000000</td>\n",
       "      <td>138.600006</td>\n",
       "      <td>131.944397</td>\n",
       "      <td>25154600</td>\n",
       "      <td>0.0</td>\n",
       "      <td>0.0</td>\n",
       "    </tr>\n",
       "    <tr>\n",
       "      <th>160450</th>\n",
       "      <td>Robert W. Baird Downgrades Avery Dennison To N...</td>\n",
       "      <td>https://www.benzinga.com/analyst-ratings/downg...</td>\n",
       "      <td>Joe Young</td>\n",
       "      <td>2011-07-19 00:00:00+00:00</td>\n",
       "      <td>AVY</td>\n",
       "      <td>0.0000</td>\n",
       "      <td>2011-07-19 00:00:00+00:00</td>\n",
       "      <td>26.809999</td>\n",
       "      <td>27.639999</td>\n",
       "      <td>26.780001</td>\n",
       "      <td>27.540001</td>\n",
       "      <td>21.472822</td>\n",
       "      <td>86730600</td>\n",
       "      <td>0.0</td>\n",
       "      <td>0.0</td>\n",
       "    </tr>\n",
       "  </tbody>\n",
       "</table>\n",
       "</div>"
      ],
      "text/plain": [
       "                                                  headline  \\\n",
       "491691                               Morning Market Movers   \n",
       "201225   CACI Awarded Prime Position on $2.5 Billion Mu...   \n",
       "1161938  Shares of several industrial companies are tra...   \n",
       "1190298   31 Stocks Moving In Tuesday's Pre-Market Session   \n",
       "160450   Robert W. Baird Downgrades Avery Dennison To N...   \n",
       "\n",
       "                                                       url          publisher  \\\n",
       "491691   https://www.benzinga.com/news/14/04/4507661/mo...      Monica Gerson   \n",
       "201225   https://www.benzinga.com/news/11/11/2100632/ca...      Allie Wickman   \n",
       "1161938  https://www.benzinga.com/markets/wiim/19/06/13...  Benzinga Newsdesk   \n",
       "1190298  https://www.benzinga.com/news/19/08/14255240/3...         Lisa Levin   \n",
       "160450   https://www.benzinga.com/analyst-ratings/downg...          Joe Young   \n",
       "\n",
       "                             date stock  sentiment                      Date  \\\n",
       "491691  2014-04-29 00:00:00+00:00  CBST     0.0000 2014-04-29 00:00:00+00:00   \n",
       "201225  2011-11-07 00:00:00+00:00  CACI     0.0000 2011-11-07 00:00:00+00:00   \n",
       "1161938 2019-06-04 00:00:00+00:00   XYL     0.0625 2019-06-04 00:00:00+00:00   \n",
       "1190298 2019-08-13 00:00:00+00:00   DRD     0.0000 2019-08-13 00:00:00+00:00   \n",
       "160450  2011-07-19 00:00:00+00:00   AVY     0.0000 2011-07-19 00:00:00+00:00   \n",
       "\n",
       "               Open        High         Low       Close   Adj Close    Volume  \\\n",
       "491691    41.099998   41.189999   40.389999   40.509998   34.180691  29636200   \n",
       "201225    26.209999   26.820000   26.129999   26.799999   21.027739  42589700   \n",
       "1161938  121.279999  123.279999  120.650002  123.160004  117.245819  29382600   \n",
       "1190298  136.050003  138.800003  135.000000  138.600006  131.944397  25154600   \n",
       "160450    26.809999   27.639999   26.780001   27.540001   21.472822  86730600   \n",
       "\n",
       "         Dividends  Stock Splits  \n",
       "491691         0.0           0.0  \n",
       "201225         0.0           0.0  \n",
       "1161938        0.0           0.0  \n",
       "1190298        0.0           0.0  \n",
       "160450         0.0           0.0  "
      ]
     },
     "execution_count": 17,
     "metadata": {},
     "output_type": "execute_result"
    }
   ],
   "source": [
    "merged_df.shape\n",
    "merged_df.sample(5)"
   ]
  },
  {
   "cell_type": "markdown",
   "id": "23f45d36",
   "metadata": {},
   "source": [
    "## 6. Handle Missing Values\n",
    "Checks for missing values in the merged DataFrame, drops any rows with missing data, and displays the new shape."
   ]
  },
  {
   "cell_type": "code",
   "execution_count": 19,
   "id": "2d82ce93",
   "metadata": {},
   "outputs": [
    {
     "name": "stdout",
     "output_type": "stream",
     "text": [
      "0\n"
     ]
    },
    {
     "data": {
      "text/plain": [
       "(1324417, 15)"
      ]
     },
     "execution_count": 19,
     "metadata": {},
     "output_type": "execute_result"
    }
   ],
   "source": [
    "# Check for missing values\n",
    "print(merged_df['date'].isnull().sum())\n",
    "merged_df.dropna(inplace=True)  # Drop missing values if necessary\n",
    "merged_df.shape"
   ]
  },
  {
   "cell_type": "markdown",
   "id": "5f21870b",
   "metadata": {},
   "source": [
    "## 7. Calculate Daily Returns\n",
    "Calculates the daily stock return as the percentage change in the closing price and adds it as a new column."
   ]
  },
  {
   "cell_type": "code",
   "execution_count": 20,
   "id": "a820c503",
   "metadata": {},
   "outputs": [
    {
     "data": {
      "text/html": [
       "<div>\n",
       "<style scoped>\n",
       "    .dataframe tbody tr th:only-of-type {\n",
       "        vertical-align: middle;\n",
       "    }\n",
       "\n",
       "    .dataframe tbody tr th {\n",
       "        vertical-align: top;\n",
       "    }\n",
       "\n",
       "    .dataframe thead th {\n",
       "        text-align: right;\n",
       "    }\n",
       "</style>\n",
       "<table border=\"1\" class=\"dataframe\">\n",
       "  <thead>\n",
       "    <tr style=\"text-align: right;\">\n",
       "      <th></th>\n",
       "      <th>headline</th>\n",
       "      <th>url</th>\n",
       "      <th>publisher</th>\n",
       "      <th>date</th>\n",
       "      <th>stock</th>\n",
       "      <th>sentiment</th>\n",
       "      <th>Date</th>\n",
       "      <th>Open</th>\n",
       "      <th>High</th>\n",
       "      <th>Low</th>\n",
       "      <th>Close</th>\n",
       "      <th>Adj Close</th>\n",
       "      <th>Volume</th>\n",
       "      <th>Dividends</th>\n",
       "      <th>Stock Splits</th>\n",
       "      <th>daily_return</th>\n",
       "    </tr>\n",
       "  </thead>\n",
       "  <tbody>\n",
       "    <tr>\n",
       "      <th>0</th>\n",
       "      <td>Update on the Luxury Sector: 2nd Quarter 2009</td>\n",
       "      <td>https://www.benzinga.com/charles-lewis-sizemor...</td>\n",
       "      <td>Charles Lewis Sizemore CFA</td>\n",
       "      <td>2009-04-27 00:00:00+00:00</td>\n",
       "      <td>Y</td>\n",
       "      <td>0.000000</td>\n",
       "      <td>2009-04-27 00:00:00+00:00</td>\n",
       "      <td>20.549999</td>\n",
       "      <td>20.820000</td>\n",
       "      <td>20.280001</td>\n",
       "      <td>20.400000</td>\n",
       "      <td>15.139336</td>\n",
       "      <td>68219600</td>\n",
       "      <td>0.0</td>\n",
       "      <td>0.0</td>\n",
       "      <td>NaN</td>\n",
       "    </tr>\n",
       "    <tr>\n",
       "      <th>1</th>\n",
       "      <td>Update on the Luxury Sector: 2nd Quarter 2009</td>\n",
       "      <td>https://www.benzinga.com/charles-lewis-sizemor...</td>\n",
       "      <td>Charles Lewis Sizemore CFA</td>\n",
       "      <td>2009-04-27 00:00:00+00:00</td>\n",
       "      <td>FT</td>\n",
       "      <td>0.000000</td>\n",
       "      <td>2009-04-27 00:00:00+00:00</td>\n",
       "      <td>20.549999</td>\n",
       "      <td>20.820000</td>\n",
       "      <td>20.280001</td>\n",
       "      <td>20.400000</td>\n",
       "      <td>15.139336</td>\n",
       "      <td>68219600</td>\n",
       "      <td>0.0</td>\n",
       "      <td>0.0</td>\n",
       "      <td>0.000000</td>\n",
       "    </tr>\n",
       "    <tr>\n",
       "      <th>2</th>\n",
       "      <td>Going Against the Herd</td>\n",
       "      <td>https://www.benzinga.com/charles-lewis-sizemor...</td>\n",
       "      <td>Charles Lewis Sizemore CFA</td>\n",
       "      <td>2009-04-29 00:00:00+00:00</td>\n",
       "      <td>A</td>\n",
       "      <td>0.000000</td>\n",
       "      <td>2009-04-29 00:00:00+00:00</td>\n",
       "      <td>20.110001</td>\n",
       "      <td>20.889999</td>\n",
       "      <td>20.059999</td>\n",
       "      <td>20.250000</td>\n",
       "      <td>15.028007</td>\n",
       "      <td>79301600</td>\n",
       "      <td>0.0</td>\n",
       "      <td>0.0</td>\n",
       "      <td>-0.007353</td>\n",
       "    </tr>\n",
       "    <tr>\n",
       "      <th>3</th>\n",
       "      <td>Charles Sizemore Radio Interview Saturday Morning</td>\n",
       "      <td>https://www.benzinga.com/11218/charles-sizemor...</td>\n",
       "      <td>Charles Lewis Sizemore CFA</td>\n",
       "      <td>2009-05-22 00:00:00+00:00</td>\n",
       "      <td>AM</td>\n",
       "      <td>0.000000</td>\n",
       "      <td>2009-05-22 00:00:00+00:00</td>\n",
       "      <td>19.930000</td>\n",
       "      <td>20.170000</td>\n",
       "      <td>19.469999</td>\n",
       "      <td>19.750000</td>\n",
       "      <td>14.750029</td>\n",
       "      <td>37318700</td>\n",
       "      <td>0.0</td>\n",
       "      <td>0.0</td>\n",
       "      <td>-0.024691</td>\n",
       "    </tr>\n",
       "    <tr>\n",
       "      <th>4</th>\n",
       "      <td>MRM a $15-$20+ stock - FIT new information - J...</td>\n",
       "      <td>https://www.benzinga.com/superman/2009/5/27/mr...</td>\n",
       "      <td>superman</td>\n",
       "      <td>2009-05-27 00:00:00+00:00</td>\n",
       "      <td>RF</td>\n",
       "      <td>0.268182</td>\n",
       "      <td>2009-05-27 00:00:00+00:00</td>\n",
       "      <td>20.250000</td>\n",
       "      <td>20.600000</td>\n",
       "      <td>20.070000</td>\n",
       "      <td>20.129999</td>\n",
       "      <td>15.033827</td>\n",
       "      <td>42892900</td>\n",
       "      <td>0.0</td>\n",
       "      <td>0.0</td>\n",
       "      <td>0.019240</td>\n",
       "    </tr>\n",
       "  </tbody>\n",
       "</table>\n",
       "</div>"
      ],
      "text/plain": [
       "                                            headline  \\\n",
       "0      Update on the Luxury Sector: 2nd Quarter 2009   \n",
       "1      Update on the Luxury Sector: 2nd Quarter 2009   \n",
       "2                             Going Against the Herd   \n",
       "3  Charles Sizemore Radio Interview Saturday Morning   \n",
       "4  MRM a $15-$20+ stock - FIT new information - J...   \n",
       "\n",
       "                                                 url  \\\n",
       "0  https://www.benzinga.com/charles-lewis-sizemor...   \n",
       "1  https://www.benzinga.com/charles-lewis-sizemor...   \n",
       "2  https://www.benzinga.com/charles-lewis-sizemor...   \n",
       "3  https://www.benzinga.com/11218/charles-sizemor...   \n",
       "4  https://www.benzinga.com/superman/2009/5/27/mr...   \n",
       "\n",
       "                    publisher                      date stock  sentiment  \\\n",
       "0  Charles Lewis Sizemore CFA 2009-04-27 00:00:00+00:00     Y   0.000000   \n",
       "1  Charles Lewis Sizemore CFA 2009-04-27 00:00:00+00:00    FT   0.000000   \n",
       "2  Charles Lewis Sizemore CFA 2009-04-29 00:00:00+00:00     A   0.000000   \n",
       "3  Charles Lewis Sizemore CFA 2009-05-22 00:00:00+00:00    AM   0.000000   \n",
       "4                    superman 2009-05-27 00:00:00+00:00    RF   0.268182   \n",
       "\n",
       "                       Date       Open       High        Low      Close  \\\n",
       "0 2009-04-27 00:00:00+00:00  20.549999  20.820000  20.280001  20.400000   \n",
       "1 2009-04-27 00:00:00+00:00  20.549999  20.820000  20.280001  20.400000   \n",
       "2 2009-04-29 00:00:00+00:00  20.110001  20.889999  20.059999  20.250000   \n",
       "3 2009-05-22 00:00:00+00:00  19.930000  20.170000  19.469999  19.750000   \n",
       "4 2009-05-27 00:00:00+00:00  20.250000  20.600000  20.070000  20.129999   \n",
       "\n",
       "   Adj Close    Volume  Dividends  Stock Splits  daily_return  \n",
       "0  15.139336  68219600        0.0           0.0           NaN  \n",
       "1  15.139336  68219600        0.0           0.0      0.000000  \n",
       "2  15.028007  79301600        0.0           0.0     -0.007353  \n",
       "3  14.750029  37318700        0.0           0.0     -0.024691  \n",
       "4  15.033827  42892900        0.0           0.0      0.019240  "
      ]
     },
     "execution_count": 20,
     "metadata": {},
     "output_type": "execute_result"
    }
   ],
   "source": [
    "merged_df['daily_return'] = merged_df['Close'].pct_change()  # Calculate daily returns\n",
    "merged_df.head()"
   ]
  },
  {
   "cell_type": "markdown",
   "id": "215f45a6",
   "metadata": {},
   "source": [
    "## 8. Pearson Correlation Calculation\n",
    "Drops rows with missing sentiment or daily return values, then calculates and prints the Pearson correlation coefficient and p-value to assess linear correlation."
   ]
  },
  {
   "cell_type": "code",
   "execution_count": 21,
   "id": "93a90bcf",
   "metadata": {},
   "outputs": [
    {
     "name": "stdout",
     "output_type": "stream",
     "text": [
      "Pearson correlation: 0.0013487133232533727, p-value: 0.12062808461068686\n"
     ]
    }
   ],
   "source": [
    "# Drop missing values before correlation calculation\n",
    "valid_data = merged_df.dropna(subset=['sentiment', 'daily_return'])\n",
    "\n",
    "# Pearson correlation (linear relationship)\n",
    "pearson_corr, pearson_p = pearsonr(valid_data['sentiment'], valid_data['daily_return'])\n",
    "print(f\"Pearson correlation: {pearson_corr}, p-value: {pearson_p}\")\n"
   ]
  },
  {
   "cell_type": "markdown",
   "id": "e870390b",
   "metadata": {},
   "source": [
    "## 9. Spearman Correlation Calculation\n",
    "Calculates and prints the Spearman rank correlation coefficient and p-value to assess monotonic relationships."
   ]
  },
  {
   "cell_type": "code",
   "execution_count": 22,
   "id": "d772f5f9",
   "metadata": {},
   "outputs": [
    {
     "name": "stdout",
     "output_type": "stream",
     "text": [
      "Spearman correlation: 0.00105201949172561, p-value: 0.22601129627035885\n"
     ]
    }
   ],
   "source": [
    "# Spearman correlation (monotonic relationship, non-parametric)\n",
    "spearman_corr, spearman_p = spearmanr(valid_data['sentiment'], valid_data['daily_return'])\n",
    "print(f\"Spearman correlation: {spearman_corr}, p-value: {spearman_p}\")\n"
   ]
  },
  {
   "cell_type": "markdown",
   "id": "9e327432",
   "metadata": {},
   "source": [
    "## 10. Kendall Correlation Calculation\n",
    "Calculates and prints the Kendall tau correlation coefficient and p-value to assess ordinal associations."
   ]
  },
  {
   "cell_type": "code",
   "execution_count": 23,
   "id": "66f9ba3b",
   "metadata": {},
   "outputs": [
    {
     "name": "stdout",
     "output_type": "stream",
     "text": [
      "Kendall correlation: 0.0009705288116221683, p-value: 0.22600400009144006\n"
     ]
    }
   ],
   "source": [
    "# Kendall correlation (ordinal association, non-parametric)\n",
    "kendall_corr, kendall_p = kendalltau(valid_data['sentiment'], valid_data['daily_return'])\n",
    "print(f\"Kendall correlation: {kendall_corr}, p-value: {kendall_p}\")"
   ]
  },
  {
   "cell_type": "markdown",
   "id": "df69bb16",
   "metadata": {},
   "source": [
    "The results show the following correlation values between news sentiment and daily stock return for MSFT:\n",
    "\n",
    "- **Pearson correlation:** 0.00134 (p-value: 0.12062)\n",
    "- **Spearman correlation:** 0.00105 (p-value: 0.22601)\n",
    "- **Kendall correlation:** 0.00097 (p-value: 0.226)\n",
    "\n",
    "**Interpretation:**\n",
    "\n",
    "All three correlation coefficients are extremely close to zero, indicating almost no relationship between news sentiment and daily stock return in the dataset.\n",
    "The p-values are much greater than 0.05, so these correlations are not statistically significant."
   ]
  },
  {
   "cell_type": "markdown",
   "id": "fad142d7",
   "metadata": {},
   "source": [
    "## 11. Scatter Plot of Sentiment vs. Daily Return\n",
    "Creates a scatter plot to visualize the relationship between news sentiment scores and daily stock returns."
   ]
  },
  {
   "cell_type": "code",
   "execution_count": 24,
   "id": "ee4f61bc",
   "metadata": {},
   "outputs": [
    {
     "data": {
      "image/png": "[encoded data removed]",
      "text/plain": [
       "<Figure size 1000x500 with 1 Axes>"
      ]
     },
     "metadata": {},
     "output_type": "display_data"
    }
   ],
   "source": [
    "plt.figure(figsize=(10,5))\n",
    "plt.scatter(valid_data['sentiment'], valid_data['daily_return'], alpha=0.5)\n",
    "plt.xlabel('News Sentiment Score')\n",
    "plt.ylabel('Daily Stock Return')\n",
    "plt.title('Correlation Between News Sentiment and Stock Price Movements')\n",
    "plt.show()"
   ]
  },
  {
   "cell_type": "markdown",
   "id": "ab19d04c",
   "metadata": {},
   "source": [
    "## 12. Correlation Heatmap\n",
    "Selects relevant numeric columns, computes the correlation matrix, and visualizes it as a heatmap to show the strength and direction of relationships between variables."
   ]
  },
  {
   "cell_type": "code",
   "execution_count": 25,
   "id": "cdce0bcb",
   "metadata": {},
   "outputs": [
    {
     "data": {
      "image/png": "[encoded data removed]",
      "text/plain": [
       "<Figure size 600x400 with 2 Axes>"
      ]
     },
     "metadata": {},
     "output_type": "display_data"
    }
   ],
   "source": [
    "# Select relevant numeric columns for correlation\n",
    "corr_data = valid_data[['sentiment', 'daily_return', 'Close']]\n",
    "\n",
    "# Compute correlation matrix\n",
    "corr_matrix = corr_data.corr(method='pearson')  # You can use 'spearman' or 'kendall' as well\n",
    "\n",
    "# Plot heatmap\n",
    "plt.figure(figsize=(6, 4))\n",
    "sns.heatmap(corr_matrix, annot=True, cmap='coolwarm', vmin=-1, vmax=1)\n",
    "plt.title('Correlation Heatmap')\n",
    "plt.show()"
   ]
  }
 ],
 "metadata": {
  "kernelspec": {
   "display_name": "venv",
   "language": "python",
   "name": "python3"
  },
  "language_info": {
   "codemirror_mode": {
    "name": "ipython",
    "version": 3
   },
   "file_extension": ".py",
   "mimetype": "text/x-python",
   "name": "python",
   "nbconvert_exporter": "python",
   "pygments_lexer": "ipython3",
   "version": "3.13.3"
  }
 },
 "nbformat": 4,
 "nbformat_minor": 5
}
