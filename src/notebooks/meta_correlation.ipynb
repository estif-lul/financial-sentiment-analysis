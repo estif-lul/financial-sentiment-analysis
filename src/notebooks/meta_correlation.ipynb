{
 "cells": [
  {
   "cell_type": "markdown",
   "id": "8cc1cb63",
   "metadata": {},
   "source": [
    "## 1. Import Libraries\n",
    "This block imports essential libraries for data manipulation (pandas, numpy), sentiment analysis (TextBlob), statistical correlation (scipy.stats), and visualization (matplotlib, seaborn)."
   ]
  },
  {
   "cell_type": "code",
   "execution_count": 1,
   "id": "d61a4499",
   "metadata": {},
   "outputs": [],
   "source": [
    "import pandas as pd\n",
    "from scipy.stats import pearsonr, spearmanr, kendalltau\n",
    "import matplotlib.pyplot as plt\n",
    "import seaborn as sns"
   ]
  },
  {
   "cell_type": "markdown",
   "id": "b5f4f97c",
   "metadata": {},
   "source": [
    "## 2. Load News and Stock Data\n",
    "Loads the processed news sentiment data and Apple's historical stock data from CSV files. Handles file errors and ensures the required files are present."
   ]
  },
  {
   "cell_type": "code",
   "execution_count": 3,
   "id": "c8ff7f8c",
   "metadata": {},
   "outputs": [],
   "source": [
    "try:\n",
    "    # Load the news csv file\n",
    "    news_df = pd.read_csv('../../data/processed_analyst_ratings.csv')\n",
    "    # Load Historical Data\n",
    "    stock_df = pd.read_csv('../../data/yfinance_data/META_historical_data.csv')\n",
    "except FileNotFoundError:\n",
    "    print(\"File not found. Please ensure the path is correct and the file exists.\")\n",
    "    exit(1)\n",
    "except Exception as e:\n",
    "    print(f\"An error occurred while reading the parquet file: {e}\")\n",
    "    exit(1)"
   ]
  },
  {
   "cell_type": "markdown",
   "id": "81e77d69",
   "metadata": {},
   "source": [
    "## 3. Convert Date Columns to Datetime\n",
    "Converts the date columns in both DataFrames to datetime format for accurate merging and time-based analysis."
   ]
  },
  {
   "cell_type": "code",
   "execution_count": 4,
   "id": "c6e6ca98",
   "metadata": {},
   "outputs": [],
   "source": [
    "news_df['date'] = pd.to_datetime(news_df['date'], format='mixed', utc=True)\n",
    "stock_df['Date'] = pd.to_datetime(stock_df['Date'], format='mixed', utc=True)"
   ]
  },
  {
   "cell_type": "markdown",
   "id": "13b62f0c",
   "metadata": {},
   "source": [
    "## 4. Merge News and Stock Data\n",
    "Merges the news and stock DataFrames on the date columns to align sentiment scores with corresponding stock prices."
   ]
  },
  {
   "cell_type": "code",
   "execution_count": 5,
   "id": "d2f5b0f1",
   "metadata": {},
   "outputs": [],
   "source": [
    "merged_df = pd.merge(news_df, stock_df, left_on='date', right_on='Date', how='left')"
   ]
  },
  {
   "cell_type": "markdown",
   "id": "d1020c4d",
   "metadata": {},
   "source": [
    "## 5. Inspect Merged Data\n",
    "Displays the shape and a sample of the merged DataFrame to verify the merge and inspect the data."
   ]
  },
  {
   "cell_type": "code",
   "execution_count": 6,
   "id": "20556bbb",
   "metadata": {},
   "outputs": [
    {
     "data": {
      "text/html": [
       "<div>\n",
       "<style scoped>\n",
       "    .dataframe tbody tr th:only-of-type {\n",
       "        vertical-align: middle;\n",
       "    }\n",
       "\n",
       "    .dataframe tbody tr th {\n",
       "        vertical-align: top;\n",
       "    }\n",
       "\n",
       "    .dataframe thead th {\n",
       "        text-align: right;\n",
       "    }\n",
       "</style>\n",
       "<table border=\"1\" class=\"dataframe\">\n",
       "  <thead>\n",
       "    <tr style=\"text-align: right;\">\n",
       "      <th></th>\n",
       "      <th>headline</th>\n",
       "      <th>url</th>\n",
       "      <th>publisher</th>\n",
       "      <th>date</th>\n",
       "      <th>stock</th>\n",
       "      <th>sentiment</th>\n",
       "      <th>Date</th>\n",
       "      <th>Open</th>\n",
       "      <th>High</th>\n",
       "      <th>Low</th>\n",
       "      <th>Close</th>\n",
       "      <th>Adj Close</th>\n",
       "      <th>Volume</th>\n",
       "      <th>Dividends</th>\n",
       "      <th>Stock Splits</th>\n",
       "    </tr>\n",
       "  </thead>\n",
       "  <tbody>\n",
       "    <tr>\n",
       "      <th>560852</th>\n",
       "      <td>eBay to Integrate Visa QIWI Wallet In Russia</td>\n",
       "      <td>https://www.benzinga.com/news/14/10/4965705/eb...</td>\n",
       "      <td>Hal Lindon</td>\n",
       "      <td>2014-10-30 00:00:00+00:00</td>\n",
       "      <td>QIWI</td>\n",
       "      <td>0.000000</td>\n",
       "      <td>2014-10-30 00:00:00+00:00</td>\n",
       "      <td>75.050003</td>\n",
       "      <td>75.349998</td>\n",
       "      <td>72.900002</td>\n",
       "      <td>74.110001</td>\n",
       "      <td>73.958023</td>\n",
       "      <td>83270000.0</td>\n",
       "      <td>0.0</td>\n",
       "      <td>0.0</td>\n",
       "    </tr>\n",
       "    <tr>\n",
       "      <th>536416</th>\n",
       "      <td>Deutsche Bank Says Pfizer Has A Strong Financi...</td>\n",
       "      <td>https://www.benzinga.com/analyst-ratings/analy...</td>\n",
       "      <td>Jayson Derrick</td>\n",
       "      <td>2014-08-27 00:00:00+00:00</td>\n",
       "      <td>AZN</td>\n",
       "      <td>0.411111</td>\n",
       "      <td>2014-08-27 00:00:00+00:00</td>\n",
       "      <td>75.269997</td>\n",
       "      <td>75.489998</td>\n",
       "      <td>74.459999</td>\n",
       "      <td>74.629997</td>\n",
       "      <td>74.476959</td>\n",
       "      <td>36323000.0</td>\n",
       "      <td>0.0</td>\n",
       "      <td>0.0</td>\n",
       "    </tr>\n",
       "    <tr>\n",
       "      <th>907440</th>\n",
       "      <td>Cardiome Reports Licensing Agreement for XYDAL...</td>\n",
       "      <td>https://www.benzinga.com/news/17/06/9634980/ca...</td>\n",
       "      <td>Paul Quintaro</td>\n",
       "      <td>2017-06-21 00:00:00+00:00</td>\n",
       "      <td>CRME</td>\n",
       "      <td>0.000000</td>\n",
       "      <td>2017-06-21 00:00:00+00:00</td>\n",
       "      <td>152.360001</td>\n",
       "      <td>154.080002</td>\n",
       "      <td>151.880005</td>\n",
       "      <td>153.910004</td>\n",
       "      <td>153.594376</td>\n",
       "      <td>15039800.0</td>\n",
       "      <td>0.0</td>\n",
       "      <td>0.0</td>\n",
       "    </tr>\n",
       "    <tr>\n",
       "      <th>321979</th>\n",
       "      <td>Orient Paper Cuts FY EPS Guidance from $0.98-1...</td>\n",
       "      <td>https://www.benzinga.com/news/12/11/3072919/or...</td>\n",
       "      <td>Paul Quintaro</td>\n",
       "      <td>2012-11-08 00:00:00+00:00</td>\n",
       "      <td>ONP</td>\n",
       "      <td>0.000000</td>\n",
       "      <td>NaT</td>\n",
       "      <td>NaN</td>\n",
       "      <td>NaN</td>\n",
       "      <td>NaN</td>\n",
       "      <td>NaN</td>\n",
       "      <td>NaN</td>\n",
       "      <td>NaN</td>\n",
       "      <td>NaN</td>\n",
       "      <td>NaN</td>\n",
       "    </tr>\n",
       "    <tr>\n",
       "      <th>1078021</th>\n",
       "      <td>Compass Minerals Sees Q3 EPS $2.20-$2.50 vs $2...</td>\n",
       "      <td>https://www.benzinga.com/news/18/10/12548673/c...</td>\n",
       "      <td>Benzinga Newsdesk</td>\n",
       "      <td>2018-10-23 00:00:00+00:00</td>\n",
       "      <td>CMP</td>\n",
       "      <td>0.000000</td>\n",
       "      <td>2018-10-23 00:00:00+00:00</td>\n",
       "      <td>151.220001</td>\n",
       "      <td>154.770004</td>\n",
       "      <td>150.850006</td>\n",
       "      <td>154.389999</td>\n",
       "      <td>154.073395</td>\n",
       "      <td>19095000.0</td>\n",
       "      <td>0.0</td>\n",
       "      <td>0.0</td>\n",
       "    </tr>\n",
       "  </tbody>\n",
       "</table>\n",
       "</div>"
      ],
      "text/plain": [
       "                                                  headline  \\\n",
       "560852        eBay to Integrate Visa QIWI Wallet In Russia   \n",
       "536416   Deutsche Bank Says Pfizer Has A Strong Financi...   \n",
       "907440   Cardiome Reports Licensing Agreement for XYDAL...   \n",
       "321979   Orient Paper Cuts FY EPS Guidance from $0.98-1...   \n",
       "1078021  Compass Minerals Sees Q3 EPS $2.20-$2.50 vs $2...   \n",
       "\n",
       "                                                       url          publisher  \\\n",
       "560852   https://www.benzinga.com/news/14/10/4965705/eb...         Hal Lindon   \n",
       "536416   https://www.benzinga.com/analyst-ratings/analy...     Jayson Derrick   \n",
       "907440   https://www.benzinga.com/news/17/06/9634980/ca...      Paul Quintaro   \n",
       "321979   https://www.benzinga.com/news/12/11/3072919/or...      Paul Quintaro   \n",
       "1078021  https://www.benzinga.com/news/18/10/12548673/c...  Benzinga Newsdesk   \n",
       "\n",
       "                             date stock  sentiment                      Date  \\\n",
       "560852  2014-10-30 00:00:00+00:00  QIWI   0.000000 2014-10-30 00:00:00+00:00   \n",
       "536416  2014-08-27 00:00:00+00:00   AZN   0.411111 2014-08-27 00:00:00+00:00   \n",
       "907440  2017-06-21 00:00:00+00:00  CRME   0.000000 2017-06-21 00:00:00+00:00   \n",
       "321979  2012-11-08 00:00:00+00:00   ONP   0.000000                       NaT   \n",
       "1078021 2018-10-23 00:00:00+00:00   CMP   0.000000 2018-10-23 00:00:00+00:00   \n",
       "\n",
       "               Open        High         Low       Close   Adj Close  \\\n",
       "560852    75.050003   75.349998   72.900002   74.110001   73.958023   \n",
       "536416    75.269997   75.489998   74.459999   74.629997   74.476959   \n",
       "907440   152.360001  154.080002  151.880005  153.910004  153.594376   \n",
       "321979          NaN         NaN         NaN         NaN         NaN   \n",
       "1078021  151.220001  154.770004  150.850006  154.389999  154.073395   \n",
       "\n",
       "             Volume  Dividends  Stock Splits  \n",
       "560852   83270000.0        0.0           0.0  \n",
       "536416   36323000.0        0.0           0.0  \n",
       "907440   15039800.0        0.0           0.0  \n",
       "321979          NaN        NaN           NaN  \n",
       "1078021  19095000.0        0.0           0.0  "
      ]
     },
     "execution_count": 6,
     "metadata": {},
     "output_type": "execute_result"
    }
   ],
   "source": [
    "merged_df.shape\n",
    "merged_df.sample(5)"
   ]
  },
  {
   "cell_type": "markdown",
   "id": "23f45d36",
   "metadata": {},
   "source": [
    "## 6. Handle Missing Values\n",
    "Checks for missing values in the merged DataFrame, drops any rows with missing data, and displays the new shape."
   ]
  },
  {
   "cell_type": "code",
   "execution_count": 7,
   "id": "2d82ce93",
   "metadata": {},
   "outputs": [
    {
     "name": "stdout",
     "output_type": "stream",
     "text": [
      "0\n"
     ]
    },
    {
     "data": {
      "text/plain": [
       "(992704, 15)"
      ]
     },
     "execution_count": 7,
     "metadata": {},
     "output_type": "execute_result"
    }
   ],
   "source": [
    "# Check for missing values\n",
    "print(merged_df['date'].isnull().sum())\n",
    "merged_df.dropna(inplace=True)  # Drop missing values if necessary\n",
    "merged_df.shape"
   ]
  },
  {
   "cell_type": "markdown",
   "id": "5f21870b",
   "metadata": {},
   "source": [
    "## 7. Calculate Daily Returns\n",
    "Calculates the daily stock return as the percentage change in the closing price and adds it as a new column."
   ]
  },
  {
   "cell_type": "code",
   "execution_count": 8,
   "id": "a820c503",
   "metadata": {},
   "outputs": [
    {
     "data": {
      "text/html": [
       "<div>\n",
       "<style scoped>\n",
       "    .dataframe tbody tr th:only-of-type {\n",
       "        vertical-align: middle;\n",
       "    }\n",
       "\n",
       "    .dataframe tbody tr th {\n",
       "        vertical-align: top;\n",
       "    }\n",
       "\n",
       "    .dataframe thead th {\n",
       "        text-align: right;\n",
       "    }\n",
       "</style>\n",
       "<table border=\"1\" class=\"dataframe\">\n",
       "  <thead>\n",
       "    <tr style=\"text-align: right;\">\n",
       "      <th></th>\n",
       "      <th>headline</th>\n",
       "      <th>url</th>\n",
       "      <th>publisher</th>\n",
       "      <th>date</th>\n",
       "      <th>stock</th>\n",
       "      <th>sentiment</th>\n",
       "      <th>Date</th>\n",
       "      <th>Open</th>\n",
       "      <th>High</th>\n",
       "      <th>Low</th>\n",
       "      <th>Close</th>\n",
       "      <th>Adj Close</th>\n",
       "      <th>Volume</th>\n",
       "      <th>Dividends</th>\n",
       "      <th>Stock Splits</th>\n",
       "      <th>daily_return</th>\n",
       "    </tr>\n",
       "  </thead>\n",
       "  <tbody>\n",
       "    <tr>\n",
       "      <th>331713</th>\n",
       "      <td>Citigroup Reiterates Buy Rating, $58 PT on Dic...</td>\n",
       "      <td>https://www.benzinga.com/analyst-ratings/analy...</td>\n",
       "      <td>Dwight Einhorn</td>\n",
       "      <td>2012-12-12 00:00:00+00:00</td>\n",
       "      <td>DKS</td>\n",
       "      <td>0.0</td>\n",
       "      <td>2012-12-12 00:00:00+00:00</td>\n",
       "      <td>28.0</td>\n",
       "      <td>28.139999</td>\n",
       "      <td>27.370001</td>\n",
       "      <td>27.58</td>\n",
       "      <td>27.523441</td>\n",
       "      <td>46704200.0</td>\n",
       "      <td>0.0</td>\n",
       "      <td>0.0</td>\n",
       "      <td>NaN</td>\n",
       "    </tr>\n",
       "    <tr>\n",
       "      <th>331714</th>\n",
       "      <td>Blackout Averted: AMC and Verizon Make Peace</td>\n",
       "      <td>https://www.benzinga.com/news/12/12/3168146/bl...</td>\n",
       "      <td>Minyanville</td>\n",
       "      <td>2012-12-12 00:00:00+00:00</td>\n",
       "      <td>DTV</td>\n",
       "      <td>0.0</td>\n",
       "      <td>2012-12-12 00:00:00+00:00</td>\n",
       "      <td>28.0</td>\n",
       "      <td>28.139999</td>\n",
       "      <td>27.370001</td>\n",
       "      <td>27.58</td>\n",
       "      <td>27.523441</td>\n",
       "      <td>46704200.0</td>\n",
       "      <td>0.0</td>\n",
       "      <td>0.0</td>\n",
       "      <td>0.0</td>\n",
       "    </tr>\n",
       "    <tr>\n",
       "      <th>331715</th>\n",
       "      <td>Muni Bond ETFs Wither on Tax Talk</td>\n",
       "      <td>https://www.benzinga.com/markets/bonds/12/12/3...</td>\n",
       "      <td>ETF Professor</td>\n",
       "      <td>2012-12-12 00:00:00+00:00</td>\n",
       "      <td>MUB</td>\n",
       "      <td>0.0</td>\n",
       "      <td>2012-12-12 00:00:00+00:00</td>\n",
       "      <td>28.0</td>\n",
       "      <td>28.139999</td>\n",
       "      <td>27.370001</td>\n",
       "      <td>27.58</td>\n",
       "      <td>27.523441</td>\n",
       "      <td>46704200.0</td>\n",
       "      <td>0.0</td>\n",
       "      <td>0.0</td>\n",
       "      <td>0.0</td>\n",
       "    </tr>\n",
       "    <tr>\n",
       "      <th>331716</th>\n",
       "      <td>US Stock Futures Up Ahead Of Fed Decision</td>\n",
       "      <td>https://www.benzinga.com/news/12/12/3165817/us...</td>\n",
       "      <td>Monica Gerson</td>\n",
       "      <td>2012-12-12 00:00:00+00:00</td>\n",
       "      <td>INFY</td>\n",
       "      <td>0.0</td>\n",
       "      <td>2012-12-12 00:00:00+00:00</td>\n",
       "      <td>28.0</td>\n",
       "      <td>28.139999</td>\n",
       "      <td>27.370001</td>\n",
       "      <td>27.58</td>\n",
       "      <td>27.523441</td>\n",
       "      <td>46704200.0</td>\n",
       "      <td>0.0</td>\n",
       "      <td>0.0</td>\n",
       "      <td>0.0</td>\n",
       "    </tr>\n",
       "    <tr>\n",
       "      <th>331717</th>\n",
       "      <td>6 Undervalued Utility Stocks for the Beginning...</td>\n",
       "      <td>https://www.benzinga.com/markets/12/12/3168383...</td>\n",
       "      <td>investingdaily</td>\n",
       "      <td>2012-12-12 00:00:00+00:00</td>\n",
       "      <td>ITC</td>\n",
       "      <td>0.0</td>\n",
       "      <td>2012-12-12 00:00:00+00:00</td>\n",
       "      <td>28.0</td>\n",
       "      <td>28.139999</td>\n",
       "      <td>27.370001</td>\n",
       "      <td>27.58</td>\n",
       "      <td>27.523441</td>\n",
       "      <td>46704200.0</td>\n",
       "      <td>0.0</td>\n",
       "      <td>0.0</td>\n",
       "      <td>0.0</td>\n",
       "    </tr>\n",
       "  </tbody>\n",
       "</table>\n",
       "</div>"
      ],
      "text/plain": [
       "                                                 headline  \\\n",
       "331713  Citigroup Reiterates Buy Rating, $58 PT on Dic...   \n",
       "331714       Blackout Averted: AMC and Verizon Make Peace   \n",
       "331715                  Muni Bond ETFs Wither on Tax Talk   \n",
       "331716          US Stock Futures Up Ahead Of Fed Decision   \n",
       "331717  6 Undervalued Utility Stocks for the Beginning...   \n",
       "\n",
       "                                                      url       publisher  \\\n",
       "331713  https://www.benzinga.com/analyst-ratings/analy...  Dwight Einhorn   \n",
       "331714  https://www.benzinga.com/news/12/12/3168146/bl...     Minyanville   \n",
       "331715  https://www.benzinga.com/markets/bonds/12/12/3...   ETF Professor   \n",
       "331716  https://www.benzinga.com/news/12/12/3165817/us...   Monica Gerson   \n",
       "331717  https://www.benzinga.com/markets/12/12/3168383...  investingdaily   \n",
       "\n",
       "                            date stock  sentiment                      Date  \\\n",
       "331713 2012-12-12 00:00:00+00:00   DKS        0.0 2012-12-12 00:00:00+00:00   \n",
       "331714 2012-12-12 00:00:00+00:00   DTV        0.0 2012-12-12 00:00:00+00:00   \n",
       "331715 2012-12-12 00:00:00+00:00   MUB        0.0 2012-12-12 00:00:00+00:00   \n",
       "331716 2012-12-12 00:00:00+00:00  INFY        0.0 2012-12-12 00:00:00+00:00   \n",
       "331717 2012-12-12 00:00:00+00:00   ITC        0.0 2012-12-12 00:00:00+00:00   \n",
       "\n",
       "        Open       High        Low  Close  Adj Close      Volume  Dividends  \\\n",
       "331713  28.0  28.139999  27.370001  27.58  27.523441  46704200.0        0.0   \n",
       "331714  28.0  28.139999  27.370001  27.58  27.523441  46704200.0        0.0   \n",
       "331715  28.0  28.139999  27.370001  27.58  27.523441  46704200.0        0.0   \n",
       "331716  28.0  28.139999  27.370001  27.58  27.523441  46704200.0        0.0   \n",
       "331717  28.0  28.139999  27.370001  27.58  27.523441  46704200.0        0.0   \n",
       "\n",
       "        Stock Splits  daily_return  \n",
       "331713           0.0           NaN  \n",
       "331714           0.0           0.0  \n",
       "331715           0.0           0.0  \n",
       "331716           0.0           0.0  \n",
       "331717           0.0           0.0  "
      ]
     },
     "execution_count": 8,
     "metadata": {},
     "output_type": "execute_result"
    }
   ],
   "source": [
    "merged_df['daily_return'] = merged_df['Close'].pct_change()  # Calculate daily returns\n",
    "merged_df.head()"
   ]
  },
  {
   "cell_type": "markdown",
   "id": "215f45a6",
   "metadata": {},
   "source": [
    "## 8. Pearson Correlation Calculation\n",
    "Drops rows with missing sentiment or daily return values, then calculates and prints the Pearson correlation coefficient and p-value to assess linear correlation."
   ]
  },
  {
   "cell_type": "code",
   "execution_count": 9,
   "id": "93a90bcf",
   "metadata": {},
   "outputs": [
    {
     "name": "stdout",
     "output_type": "stream",
     "text": [
      "Pearson correlation: -0.0006722202402201589, p-value: 0.5030092747845426\n"
     ]
    }
   ],
   "source": [
    "# Drop missing values before correlation calculation\n",
    "valid_data = merged_df.dropna(subset=['sentiment', 'daily_return'])\n",
    "\n",
    "# Pearson correlation (linear relationship)\n",
    "pearson_corr, pearson_p = pearsonr(valid_data['sentiment'], valid_data['daily_return'])\n",
    "print(f\"Pearson correlation: {pearson_corr}, p-value: {pearson_p}\")\n"
   ]
  },
  {
   "cell_type": "markdown",
   "id": "e870390b",
   "metadata": {},
   "source": [
    "## 9. Spearman Correlation Calculation\n",
    "Calculates and prints the Spearman rank correlation coefficient and p-value to assess monotonic relationships."
   ]
  },
  {
   "cell_type": "code",
   "execution_count": 10,
   "id": "d772f5f9",
   "metadata": {},
   "outputs": [
    {
     "name": "stdout",
     "output_type": "stream",
     "text": [
      "Spearman correlation: -0.00029601377624764567, p-value: 0.7680462634177821\n"
     ]
    }
   ],
   "source": [
    "# Spearman correlation (monotonic relationship, non-parametric)\n",
    "spearman_corr, spearman_p = spearmanr(valid_data['sentiment'], valid_data['daily_return'])\n",
    "print(f\"Spearman correlation: {spearman_corr}, p-value: {spearman_p}\")\n"
   ]
  },
  {
   "cell_type": "markdown",
   "id": "9e327432",
   "metadata": {},
   "source": [
    "## 10. Kendall Correlation Calculation\n",
    "Calculates and prints the Kendall tau correlation coefficient and p-value to assess ordinal associations."
   ]
  },
  {
   "cell_type": "code",
   "execution_count": 11,
   "id": "66f9ba3b",
   "metadata": {},
   "outputs": [
    {
     "name": "stdout",
     "output_type": "stream",
     "text": [
      "Kendall correlation: -0.0002725664953514895, p-value: 0.768056194332984\n"
     ]
    }
   ],
   "source": [
    "# Kendall correlation (ordinal association, non-parametric)\n",
    "kendall_corr, kendall_p = kendalltau(valid_data['sentiment'], valid_data['daily_return'])\n",
    "print(f\"Kendall correlation: {kendall_corr}, p-value: {kendall_p}\")"
   ]
  },
  {
   "cell_type": "markdown",
   "id": "df69bb16",
   "metadata": {},
   "source": [
    "The results show the following correlation values between news sentiment and daily stock return for META:\n",
    "\n",
    "- **Pearson correlation:** -0.00067 (p-value: 0.5030)\n",
    "- **Spearman correlation:** -0.00029 (p-value: 0.76804)\n",
    "- **Kendall correlation:** -0.00027 (p-value: 0.76805)\n",
    "\n",
    "**Interpretation:**\n",
    "\n",
    "All three correlation coefficients are extremely close to zero, indicating almost no relationship between news sentiment and daily stock return in the dataset.\n",
    "The p-values are much greater than 0.05, so these correlations are not statistically significant."
   ]
  },
  {
   "cell_type": "markdown",
   "id": "fad142d7",
   "metadata": {},
   "source": [
    "## 11. Scatter Plot of Sentiment vs. Daily Return\n",
    "Creates a scatter plot to visualize the relationship between news sentiment scores and daily stock returns."
   ]
  },
  {
   "cell_type": "code",
   "execution_count": 14,
   "id": "ee4f61bc",
   "metadata": {},
   "outputs": [
    {
     "data": {
      "image/png": "[encoded data removed]",
      "text/plain": [
       "<Figure size 1000x500 with 1 Axes>"
      ]
     },
     "metadata": {},
     "output_type": "display_data"
    }
   ],
   "source": [
    "plt.figure(figsize=(10,5))\n",
    "plt.scatter(valid_data['sentiment'], valid_data['daily_return'], alpha=0.5)\n",
    "plt.xlabel('News Sentiment Score')\n",
    "plt.ylabel('Daily Stock Return')\n",
    "plt.title('Correlation Between News Sentiment and Stock Price Movements')\n",
    "plt.show()"
   ]
  },
  {
   "cell_type": "markdown",
   "id": "ab19d04c",
   "metadata": {},
   "source": [
    "## 12. Correlation Heatmap\n",
    "Selects relevant numeric columns, computes the correlation matrix, and visualizes it as a heatmap to show the strength and direction of relationships between variables."
   ]
  },
  {
   "cell_type": "code",
   "execution_count": 15,
   "id": "cdce0bcb",
   "metadata": {},
   "outputs": [
    {
     "data": {
      "image/png": "[encoded data removed]",
      "text/plain": [
       "<Figure size 600x400 with 2 Axes>"
      ]
     },
     "metadata": {},
     "output_type": "display_data"
    }
   ],
   "source": [
    "# Select relevant numeric columns for correlation\n",
    "corr_data = valid_data[['sentiment', 'daily_return', 'Close']]\n",
    "\n",
    "# Compute correlation matrix\n",
    "corr_matrix = corr_data.corr(method='pearson')  # You can use 'spearman' or 'kendall' as well\n",
    "\n",
    "# Plot heatmap\n",
    "plt.figure(figsize=(6, 4))\n",
    "sns.heatmap(corr_matrix, annot=True, cmap='coolwarm', vmin=-1, vmax=1)\n",
    "plt.title('Correlation Heatmap')\n",
    "plt.show()"
   ]
  }
 ],
 "metadata": {
  "kernelspec": {
   "display_name": "venv",
   "language": "python",
   "name": "python3"
  },
  "language_info": {
   "codemirror_mode": {
    "name": "ipython",
    "version": 3
   },
   "file_extension": ".py",
   "mimetype": "text/x-python",
   "name": "python",
   "nbconvert_exporter": "python",
   "pygments_lexer": "ipython3",
   "version": "3.13.3"
  }
 },
 "nbformat": 4,
 "nbformat_minor": 5
}
