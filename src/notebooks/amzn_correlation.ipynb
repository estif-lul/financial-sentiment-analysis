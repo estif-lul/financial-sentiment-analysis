{
 "cells": [
  {
   "cell_type": "markdown",
   "id": "8cc1cb63",
   "metadata": {},
   "source": [
    "## 1. Import Libraries\n",
    "This block imports essential libraries for data manipulation (pandas, numpy), sentiment analysis (TextBlob), statistical correlation (scipy.stats), and visualization (matplotlib, seaborn)."
   ]
  },
  {
   "cell_type": "code",
   "execution_count": null,
   "id": "d61a4499",
   "metadata": {},
   "outputs": [],
   "source": [
    "import pandas as pd\n",
    "from scipy.stats import pearsonr, spearmanr, kendalltau\n",
    "import matplotlib.pyplot as plt\n",
    "import seaborn as sns"
   ]
  },
  {
   "cell_type": "markdown",
   "id": "b5f4f97c",
   "metadata": {},
   "source": [
    "## 2. Load News and Stock Data\n",
    "Loads the processed news sentiment data and Apple's historical stock data from CSV files. Handles file errors and ensures the required files are present."
   ]
  },
  {
   "cell_type": "code",
   "execution_count": 2,
   "id": "c8ff7f8c",
   "metadata": {},
   "outputs": [],
   "source": [
    "try:\n",
    "    # Load the news csv file\n",
    "    news_df = pd.read_csv('../../data/processed_analyst_ratings.csv')\n",
    "    # Load Historical Data\n",
    "    stock_df = pd.read_csv('../../data/yfinance_data/AMZN_historical_data.csv')\n",
    "except FileNotFoundError:\n",
    "    print(\"File not found. Please ensure the path is correct and the file exists.\")\n",
    "    exit(1)\n",
    "except Exception as e:\n",
    "    print(f\"An error occurred while reading the parquet file: {e}\")\n",
    "    exit(1)"
   ]
  },
  {
   "cell_type": "markdown",
   "id": "81e77d69",
   "metadata": {},
   "source": [
    "## 3. Convert Date Columns to Datetime\n",
    "Converts the date columns in both DataFrames to datetime format for accurate merging and time-based analysis."
   ]
  },
  {
   "cell_type": "code",
   "execution_count": null,
   "id": "c6e6ca98",
   "metadata": {},
   "outputs": [],
   "source": [
    "news_df['date'] = pd.to_datetime(news_df['date'], format='mixed', utc=True)\n",
    "stock_df['Date'] = pd.to_datetime(stock_df['Date'], format='mixed', utc=True)"
   ]
  },
  {
   "cell_type": "markdown",
   "id": "13b62f0c",
   "metadata": {},
   "source": [
    "## 4. Merge News and Stock Data\n",
    "Merges the news and stock DataFrames on the date columns to align sentiment scores with corresponding stock prices."
   ]
  },
  {
   "cell_type": "code",
   "execution_count": 4,
   "id": "d2f5b0f1",
   "metadata": {},
   "outputs": [],
   "source": [
    "merged_df = pd.merge(news_df, stock_df, left_on='date', right_on='Date', how='left')"
   ]
  },
  {
   "cell_type": "markdown",
   "id": "d1020c4d",
   "metadata": {},
   "source": [
    "## 5. Inspect Merged Data\n",
    "Displays the shape and a sample of the merged DataFrame to verify the merge and inspect the data."
   ]
  },
  {
   "cell_type": "code",
   "execution_count": 5,
   "id": "20556bbb",
   "metadata": {},
   "outputs": [
    {
     "data": {
      "text/html": [
       "<div>\n",
       "<style scoped>\n",
       "    .dataframe tbody tr th:only-of-type {\n",
       "        vertical-align: middle;\n",
       "    }\n",
       "\n",
       "    .dataframe tbody tr th {\n",
       "        vertical-align: top;\n",
       "    }\n",
       "\n",
       "    .dataframe thead th {\n",
       "        text-align: right;\n",
       "    }\n",
       "</style>\n",
       "<table border=\"1\" class=\"dataframe\">\n",
       "  <thead>\n",
       "    <tr style=\"text-align: right;\">\n",
       "      <th></th>\n",
       "      <th>headline</th>\n",
       "      <th>url</th>\n",
       "      <th>publisher</th>\n",
       "      <th>date</th>\n",
       "      <th>stock</th>\n",
       "      <th>sentiment</th>\n",
       "      <th>Date</th>\n",
       "      <th>Open</th>\n",
       "      <th>High</th>\n",
       "      <th>Low</th>\n",
       "      <th>Close</th>\n",
       "      <th>Adj Close</th>\n",
       "      <th>Volume</th>\n",
       "      <th>Dividends</th>\n",
       "      <th>Stock Splits</th>\n",
       "    </tr>\n",
       "  </thead>\n",
       "  <tbody>\n",
       "    <tr>\n",
       "      <th>1178079</th>\n",
       "      <td>Arena Pharma Reports First Patient Dosed In CA...</td>\n",
       "      <td>https://www.benzinga.com/news/19/07/14133303/a...</td>\n",
       "      <td>Benzinga Newsdesk</td>\n",
       "      <td>2019-07-25 00:00:00+00:00</td>\n",
       "      <td>ARNA</td>\n",
       "      <td>0.250000</td>\n",
       "      <td>2019-07-25 00:00:00+00:00</td>\n",
       "      <td>100.050003</td>\n",
       "      <td>100.059998</td>\n",
       "      <td>98.636002</td>\n",
       "      <td>98.691002</td>\n",
       "      <td>98.691002</td>\n",
       "      <td>82730000</td>\n",
       "      <td>0.0</td>\n",
       "      <td>0.0</td>\n",
       "    </tr>\n",
       "    <tr>\n",
       "      <th>1196876</th>\n",
       "      <td>Movado Group shares are trading lower after th...</td>\n",
       "      <td>https://www.benzinga.com/markets/wiim/19/08/14...</td>\n",
       "      <td>Benzinga Newsdesk</td>\n",
       "      <td>2019-08-28 00:00:00+00:00</td>\n",
       "      <td>MOV</td>\n",
       "      <td>0.000000</td>\n",
       "      <td>2019-08-28 00:00:00+00:00</td>\n",
       "      <td>87.750000</td>\n",
       "      <td>88.392998</td>\n",
       "      <td>87.202499</td>\n",
       "      <td>88.212502</td>\n",
       "      <td>88.212502</td>\n",
       "      <td>48394000</td>\n",
       "      <td>0.0</td>\n",
       "      <td>0.0</td>\n",
       "    </tr>\n",
       "    <tr>\n",
       "      <th>774866</th>\n",
       "      <td>Mid-Afternoon Market Update: Crude Oil Down Ov...</td>\n",
       "      <td>https://www.benzinga.com/news/earnings/16/06/8...</td>\n",
       "      <td>Lisa Levin</td>\n",
       "      <td>2016-06-14 00:00:00+00:00</td>\n",
       "      <td>UAN</td>\n",
       "      <td>-0.201852</td>\n",
       "      <td>2016-06-14 00:00:00+00:00</td>\n",
       "      <td>35.616501</td>\n",
       "      <td>36.040501</td>\n",
       "      <td>35.613499</td>\n",
       "      <td>35.965000</td>\n",
       "      <td>35.965000</td>\n",
       "      <td>50138000</td>\n",
       "      <td>0.0</td>\n",
       "      <td>0.0</td>\n",
       "    </tr>\n",
       "    <tr>\n",
       "      <th>1102259</th>\n",
       "      <td>Stocks Which Set New 52-Week Low Yesterday, Th...</td>\n",
       "      <td>https://www.benzinga.com/news/18/12/12852693/s...</td>\n",
       "      <td>Benzinga Newsdesk</td>\n",
       "      <td>2018-12-14 00:00:00+00:00</td>\n",
       "      <td>EXP</td>\n",
       "      <td>0.068182</td>\n",
       "      <td>2018-12-14 00:00:00+00:00</td>\n",
       "      <td>81.900002</td>\n",
       "      <td>82.128502</td>\n",
       "      <td>79.250000</td>\n",
       "      <td>79.595497</td>\n",
       "      <td>79.595497</td>\n",
       "      <td>127344000</td>\n",
       "      <td>0.0</td>\n",
       "      <td>0.0</td>\n",
       "    </tr>\n",
       "    <tr>\n",
       "      <th>635189</th>\n",
       "      <td>Benzinga's Top Initiations</td>\n",
       "      <td>https://www.benzinga.com/analyst-ratings/initi...</td>\n",
       "      <td>Lisa Levin</td>\n",
       "      <td>2015-05-13 00:00:00+00:00</td>\n",
       "      <td>USCR</td>\n",
       "      <td>0.500000</td>\n",
       "      <td>2015-05-13 00:00:00+00:00</td>\n",
       "      <td>21.499001</td>\n",
       "      <td>21.676500</td>\n",
       "      <td>21.290001</td>\n",
       "      <td>21.343500</td>\n",
       "      <td>21.343500</td>\n",
       "      <td>39926000</td>\n",
       "      <td>0.0</td>\n",
       "      <td>0.0</td>\n",
       "    </tr>\n",
       "  </tbody>\n",
       "</table>\n",
       "</div>"
      ],
      "text/plain": [
       "                                                  headline  \\\n",
       "1178079  Arena Pharma Reports First Patient Dosed In CA...   \n",
       "1196876  Movado Group shares are trading lower after th...   \n",
       "774866   Mid-Afternoon Market Update: Crude Oil Down Ov...   \n",
       "1102259  Stocks Which Set New 52-Week Low Yesterday, Th...   \n",
       "635189                          Benzinga's Top Initiations   \n",
       "\n",
       "                                                       url          publisher  \\\n",
       "1178079  https://www.benzinga.com/news/19/07/14133303/a...  Benzinga Newsdesk   \n",
       "1196876  https://www.benzinga.com/markets/wiim/19/08/14...  Benzinga Newsdesk   \n",
       "774866   https://www.benzinga.com/news/earnings/16/06/8...         Lisa Levin   \n",
       "1102259  https://www.benzinga.com/news/18/12/12852693/s...  Benzinga Newsdesk   \n",
       "635189   https://www.benzinga.com/analyst-ratings/initi...         Lisa Levin   \n",
       "\n",
       "                             date stock  sentiment                      Date  \\\n",
       "1178079 2019-07-25 00:00:00+00:00  ARNA   0.250000 2019-07-25 00:00:00+00:00   \n",
       "1196876 2019-08-28 00:00:00+00:00   MOV   0.000000 2019-08-28 00:00:00+00:00   \n",
       "774866  2016-06-14 00:00:00+00:00   UAN  -0.201852 2016-06-14 00:00:00+00:00   \n",
       "1102259 2018-12-14 00:00:00+00:00   EXP   0.068182 2018-12-14 00:00:00+00:00   \n",
       "635189  2015-05-13 00:00:00+00:00  USCR   0.500000 2015-05-13 00:00:00+00:00   \n",
       "\n",
       "               Open        High        Low      Close  Adj Close     Volume  \\\n",
       "1178079  100.050003  100.059998  98.636002  98.691002  98.691002   82730000   \n",
       "1196876   87.750000   88.392998  87.202499  88.212502  88.212502   48394000   \n",
       "774866    35.616501   36.040501  35.613499  35.965000  35.965000   50138000   \n",
       "1102259   81.900002   82.128502  79.250000  79.595497  79.595497  127344000   \n",
       "635189    21.499001   21.676500  21.290001  21.343500  21.343500   39926000   \n",
       "\n",
       "         Dividends  Stock Splits  \n",
       "1178079        0.0           0.0  \n",
       "1196876        0.0           0.0  \n",
       "774866         0.0           0.0  \n",
       "1102259        0.0           0.0  \n",
       "635189         0.0           0.0  "
      ]
     },
     "execution_count": 5,
     "metadata": {},
     "output_type": "execute_result"
    }
   ],
   "source": [
    "merged_df.shape\n",
    "merged_df.sample(5)"
   ]
  },
  {
   "cell_type": "markdown",
   "id": "23f45d36",
   "metadata": {},
   "source": [
    "## 6. Handle Missing Values\n",
    "Checks for missing values in the merged DataFrame, drops any rows with missing data, and displays the new shape."
   ]
  },
  {
   "cell_type": "code",
   "execution_count": 6,
   "id": "2d82ce93",
   "metadata": {},
   "outputs": [
    {
     "name": "stdout",
     "output_type": "stream",
     "text": [
      "0\n"
     ]
    },
    {
     "data": {
      "text/plain": [
       "(1324417, 15)"
      ]
     },
     "execution_count": 6,
     "metadata": {},
     "output_type": "execute_result"
    }
   ],
   "source": [
    "# Check for missing values\n",
    "print(merged_df['date'].isnull().sum())\n",
    "merged_df.dropna(inplace=True)  # Drop missing values if necessary\n",
    "merged_df.shape"
   ]
  },
  {
   "cell_type": "markdown",
   "id": "5f21870b",
   "metadata": {},
   "source": [
    "## 7. Calculate Daily Returns\n",
    "Calculates the daily stock return as the percentage change in the closing price and adds it as a new column."
   ]
  },
  {
   "cell_type": "code",
   "execution_count": 7,
   "id": "a820c503",
   "metadata": {},
   "outputs": [
    {
     "data": {
      "text/html": [
       "<div>\n",
       "<style scoped>\n",
       "    .dataframe tbody tr th:only-of-type {\n",
       "        vertical-align: middle;\n",
       "    }\n",
       "\n",
       "    .dataframe tbody tr th {\n",
       "        vertical-align: top;\n",
       "    }\n",
       "\n",
       "    .dataframe thead th {\n",
       "        text-align: right;\n",
       "    }\n",
       "</style>\n",
       "<table border=\"1\" class=\"dataframe\">\n",
       "  <thead>\n",
       "    <tr style=\"text-align: right;\">\n",
       "      <th></th>\n",
       "      <th>headline</th>\n",
       "      <th>url</th>\n",
       "      <th>publisher</th>\n",
       "      <th>date</th>\n",
       "      <th>stock</th>\n",
       "      <th>sentiment</th>\n",
       "      <th>Date</th>\n",
       "      <th>Open</th>\n",
       "      <th>High</th>\n",
       "      <th>Low</th>\n",
       "      <th>Close</th>\n",
       "      <th>Adj Close</th>\n",
       "      <th>Volume</th>\n",
       "      <th>Dividends</th>\n",
       "      <th>Stock Splits</th>\n",
       "      <th>daily_return</th>\n",
       "    </tr>\n",
       "  </thead>\n",
       "  <tbody>\n",
       "    <tr>\n",
       "      <th>0</th>\n",
       "      <td>Update on the Luxury Sector: 2nd Quarter 2009</td>\n",
       "      <td>https://www.benzinga.com/charles-lewis-sizemor...</td>\n",
       "      <td>Charles Lewis Sizemore CFA</td>\n",
       "      <td>2009-04-27 00:00:00+00:00</td>\n",
       "      <td>Y</td>\n",
       "      <td>0.000000</td>\n",
       "      <td>2009-04-27 00:00:00+00:00</td>\n",
       "      <td>4.1940</td>\n",
       "      <td>4.2490</td>\n",
       "      <td>4.1105</td>\n",
       "      <td>4.1560</td>\n",
       "      <td>4.1560</td>\n",
       "      <td>194118000</td>\n",
       "      <td>0.0</td>\n",
       "      <td>0.0</td>\n",
       "      <td>NaN</td>\n",
       "    </tr>\n",
       "    <tr>\n",
       "      <th>1</th>\n",
       "      <td>Update on the Luxury Sector: 2nd Quarter 2009</td>\n",
       "      <td>https://www.benzinga.com/charles-lewis-sizemor...</td>\n",
       "      <td>Charles Lewis Sizemore CFA</td>\n",
       "      <td>2009-04-27 00:00:00+00:00</td>\n",
       "      <td>FT</td>\n",
       "      <td>0.000000</td>\n",
       "      <td>2009-04-27 00:00:00+00:00</td>\n",
       "      <td>4.1940</td>\n",
       "      <td>4.2490</td>\n",
       "      <td>4.1105</td>\n",
       "      <td>4.1560</td>\n",
       "      <td>4.1560</td>\n",
       "      <td>194118000</td>\n",
       "      <td>0.0</td>\n",
       "      <td>0.0</td>\n",
       "      <td>0.000000</td>\n",
       "    </tr>\n",
       "    <tr>\n",
       "      <th>2</th>\n",
       "      <td>Going Against the Herd</td>\n",
       "      <td>https://www.benzinga.com/charles-lewis-sizemor...</td>\n",
       "      <td>Charles Lewis Sizemore CFA</td>\n",
       "      <td>2009-04-29 00:00:00+00:00</td>\n",
       "      <td>A</td>\n",
       "      <td>0.000000</td>\n",
       "      <td>2009-04-29 00:00:00+00:00</td>\n",
       "      <td>4.1495</td>\n",
       "      <td>4.1495</td>\n",
       "      <td>3.9630</td>\n",
       "      <td>3.9895</td>\n",
       "      <td>3.9895</td>\n",
       "      <td>194702000</td>\n",
       "      <td>0.0</td>\n",
       "      <td>0.0</td>\n",
       "      <td>-0.040063</td>\n",
       "    </tr>\n",
       "    <tr>\n",
       "      <th>3</th>\n",
       "      <td>Charles Sizemore Radio Interview Saturday Morning</td>\n",
       "      <td>https://www.benzinga.com/11218/charles-sizemor...</td>\n",
       "      <td>Charles Lewis Sizemore CFA</td>\n",
       "      <td>2009-05-22 00:00:00+00:00</td>\n",
       "      <td>AM</td>\n",
       "      <td>0.000000</td>\n",
       "      <td>2009-05-22 00:00:00+00:00</td>\n",
       "      <td>3.8050</td>\n",
       "      <td>3.8520</td>\n",
       "      <td>3.7510</td>\n",
       "      <td>3.7820</td>\n",
       "      <td>3.7820</td>\n",
       "      <td>69694000</td>\n",
       "      <td>0.0</td>\n",
       "      <td>0.0</td>\n",
       "      <td>-0.052012</td>\n",
       "    </tr>\n",
       "    <tr>\n",
       "      <th>4</th>\n",
       "      <td>MRM a $15-$20+ stock - FIT new information - J...</td>\n",
       "      <td>https://www.benzinga.com/superman/2009/5/27/mr...</td>\n",
       "      <td>superman</td>\n",
       "      <td>2009-05-27 00:00:00+00:00</td>\n",
       "      <td>RF</td>\n",
       "      <td>0.268182</td>\n",
       "      <td>2009-05-27 00:00:00+00:00</td>\n",
       "      <td>3.9255</td>\n",
       "      <td>3.9750</td>\n",
       "      <td>3.8375</td>\n",
       "      <td>3.8550</td>\n",
       "      <td>3.8550</td>\n",
       "      <td>111342000</td>\n",
       "      <td>0.0</td>\n",
       "      <td>0.0</td>\n",
       "      <td>0.019302</td>\n",
       "    </tr>\n",
       "  </tbody>\n",
       "</table>\n",
       "</div>"
      ],
      "text/plain": [
       "                                            headline  \\\n",
       "0      Update on the Luxury Sector: 2nd Quarter 2009   \n",
       "1      Update on the Luxury Sector: 2nd Quarter 2009   \n",
       "2                             Going Against the Herd   \n",
       "3  Charles Sizemore Radio Interview Saturday Morning   \n",
       "4  MRM a $15-$20+ stock - FIT new information - J...   \n",
       "\n",
       "                                                 url  \\\n",
       "0  https://www.benzinga.com/charles-lewis-sizemor...   \n",
       "1  https://www.benzinga.com/charles-lewis-sizemor...   \n",
       "2  https://www.benzinga.com/charles-lewis-sizemor...   \n",
       "3  https://www.benzinga.com/11218/charles-sizemor...   \n",
       "4  https://www.benzinga.com/superman/2009/5/27/mr...   \n",
       "\n",
       "                    publisher                      date stock  sentiment  \\\n",
       "0  Charles Lewis Sizemore CFA 2009-04-27 00:00:00+00:00     Y   0.000000   \n",
       "1  Charles Lewis Sizemore CFA 2009-04-27 00:00:00+00:00    FT   0.000000   \n",
       "2  Charles Lewis Sizemore CFA 2009-04-29 00:00:00+00:00     A   0.000000   \n",
       "3  Charles Lewis Sizemore CFA 2009-05-22 00:00:00+00:00    AM   0.000000   \n",
       "4                    superman 2009-05-27 00:00:00+00:00    RF   0.268182   \n",
       "\n",
       "                       Date    Open    High     Low   Close  Adj Close  \\\n",
       "0 2009-04-27 00:00:00+00:00  4.1940  4.2490  4.1105  4.1560     4.1560   \n",
       "1 2009-04-27 00:00:00+00:00  4.1940  4.2490  4.1105  4.1560     4.1560   \n",
       "2 2009-04-29 00:00:00+00:00  4.1495  4.1495  3.9630  3.9895     3.9895   \n",
       "3 2009-05-22 00:00:00+00:00  3.8050  3.8520  3.7510  3.7820     3.7820   \n",
       "4 2009-05-27 00:00:00+00:00  3.9255  3.9750  3.8375  3.8550     3.8550   \n",
       "\n",
       "      Volume  Dividends  Stock Splits  daily_return  \n",
       "0  194118000        0.0           0.0           NaN  \n",
       "1  194118000        0.0           0.0      0.000000  \n",
       "2  194702000        0.0           0.0     -0.040063  \n",
       "3   69694000        0.0           0.0     -0.052012  \n",
       "4  111342000        0.0           0.0      0.019302  "
      ]
     },
     "execution_count": 7,
     "metadata": {},
     "output_type": "execute_result"
    }
   ],
   "source": [
    "merged_df['daily_return'] = merged_df['Close'].pct_change()  # Calculate daily returns\n",
    "merged_df.head()"
   ]
  },
  {
   "cell_type": "markdown",
   "id": "215f45a6",
   "metadata": {},
   "source": [
    "## 8. Pearson Correlation Calculation\n",
    "Drops rows with missing sentiment or daily return values, then calculates and prints the Pearson correlation coefficient and p-value to assess linear correlation."
   ]
  },
  {
   "cell_type": "code",
   "execution_count": 8,
   "id": "93a90bcf",
   "metadata": {},
   "outputs": [
    {
     "name": "stdout",
     "output_type": "stream",
     "text": [
      "Pearson correlation: 0.0010433321127745628, p-value: 0.2298676136758638\n"
     ]
    }
   ],
   "source": [
    "# Drop missing values before correlation calculation\n",
    "valid_data = merged_df.dropna(subset=['sentiment', 'daily_return'])\n",
    "\n",
    "# Pearson correlation (linear relationship)\n",
    "pearson_corr, pearson_p = pearsonr(valid_data['sentiment'], valid_data['daily_return'])\n",
    "print(f\"Pearson correlation: {pearson_corr}, p-value: {pearson_p}\")\n"
   ]
  },
  {
   "cell_type": "markdown",
   "id": "e870390b",
   "metadata": {},
   "source": [
    "## 9. Spearman Correlation Calculation\n",
    "Calculates and prints the Spearman rank correlation coefficient and p-value to assess monotonic relationships."
   ]
  },
  {
   "cell_type": "code",
   "execution_count": 9,
   "id": "d772f5f9",
   "metadata": {},
   "outputs": [
    {
     "name": "stdout",
     "output_type": "stream",
     "text": [
      "Spearman correlation: 0.0010873599408736168, p-value: 0.21080002376369653\n"
     ]
    }
   ],
   "source": [
    "# Spearman correlation (monotonic relationship, non-parametric)\n",
    "spearman_corr, spearman_p = spearmanr(valid_data['sentiment'], valid_data['daily_return'])\n",
    "print(f\"Spearman correlation: {spearman_corr}, p-value: {spearman_p}\")\n"
   ]
  },
  {
   "cell_type": "markdown",
   "id": "9e327432",
   "metadata": {},
   "source": [
    "## 10. Kendall Correlation Calculation\n",
    "Calculates and prints the Kendall tau correlation coefficient and p-value to assess ordinal associations."
   ]
  },
  {
   "cell_type": "code",
   "execution_count": 10,
   "id": "66f9ba3b",
   "metadata": {},
   "outputs": [
    {
     "name": "stdout",
     "output_type": "stream",
     "text": [
      "Kendall correlation: 0.001003099615419878, p-value: 0.21080558081524592\n"
     ]
    }
   ],
   "source": [
    "# Kendall correlation (ordinal association, non-parametric)\n",
    "kendall_corr, kendall_p = kendalltau(valid_data['sentiment'], valid_data['daily_return'])\n",
    "print(f\"Kendall correlation: {kendall_corr}, p-value: {kendall_p}\")"
   ]
  },
  {
   "cell_type": "markdown",
   "id": "df69bb16",
   "metadata": {},
   "source": [
    "The results show the following correlation values between news sentiment and daily stock return for AMZN:\n",
    "\n",
    "- **Pearson correlation:** 0.0001 (p-value: 0.2298)\n",
    "- **Spearman correlation:** 0.00108 (p-value: 0.2108)\n",
    "- **Kendall correlation:** 0.0010 (p-value: 0.2108)\n",
    "\n",
    "**Interpretation:**\n",
    "\n",
    "All three correlation coefficients are extremely close to zero, indicating almost no relationship between news sentiment and daily stock return in the dataset.\n",
    "The p-values are much greater than 0.05, so these correlations are not statistically significant."
   ]
  },
  {
   "cell_type": "markdown",
   "id": "fad142d7",
   "metadata": {},
   "source": [
    "## 11. Scatter Plot of Sentiment vs. Daily Return\n",
    "Creates a scatter plot to visualize the relationship between news sentiment scores and daily stock returns."
   ]
  },
  {
   "cell_type": "code",
   "execution_count": 11,
   "id": "ee4f61bc",
   "metadata": {},
   "outputs": [
    {
     "data": {
      "image/png": "[encoded data removed]",
      "text/plain": [
       "<Figure size 1000x500 with 1 Axes>"
      ]
     },
     "metadata": {},
     "output_type": "display_data"
    }
   ],
   "source": [
    "plt.figure(figsize=(10,5))\n",
    "plt.scatter(valid_data['sentiment'], valid_data['daily_return'], alpha=0.5)\n",
    "plt.xlabel('News Sentiment Score')\n",
    "plt.ylabel('Daily Stock Return')\n",
    "plt.title('Correlation Between News Sentiment and Stock Price Movements')\n",
    "plt.show()"
   ]
  },
  {
   "cell_type": "markdown",
   "id": "ab19d04c",
   "metadata": {},
   "source": [
    "## 12. Correlation Heatmap\n",
    "Selects relevant numeric columns, computes the correlation matrix, and visualizes it as a heatmap to show the strength and direction of relationships between variables."
   ]
  },
  {
   "cell_type": "code",
   "execution_count": 12,
   "id": "cdce0bcb",
   "metadata": {},
   "outputs": [
    {
     "data": {
      "image/png": "[encoded data removed]",
      "text/plain": [
       "<Figure size 600x400 with 2 Axes>"
      ]
     },
     "metadata": {},
     "output_type": "display_data"
    }
   ],
   "source": [
    "# Select relevant numeric columns for correlation\n",
    "corr_data = valid_data[['sentiment', 'daily_return', 'Close']]\n",
    "\n",
    "# Compute correlation matrix\n",
    "corr_matrix = corr_data.corr(method='pearson')  # You can use 'spearman' or 'kendall' as well\n",
    "\n",
    "# Plot heatmap\n",
    "plt.figure(figsize=(6, 4))\n",
    "sns.heatmap(corr_matrix, annot=True, cmap='coolwarm', vmin=-1, vmax=1)\n",
    "plt.title('Correlation Heatmap')\n",
    "plt.show()"
   ]
  }
 ],
 "metadata": {
  "kernelspec": {
   "display_name": "venv",
   "language": "python",
   "name": "python3"
  },
  "language_info": {
   "codemirror_mode": {
    "name": "ipython",
    "version": 3
   },
   "file_extension": ".py",
   "mimetype": "text/x-python",
   "name": "python",
   "nbconvert_exporter": "python",
   "pygments_lexer": "ipython3",
   "version": "3.13.3"
  }
 },
 "nbformat": 4,
 "nbformat_minor": 5
}
