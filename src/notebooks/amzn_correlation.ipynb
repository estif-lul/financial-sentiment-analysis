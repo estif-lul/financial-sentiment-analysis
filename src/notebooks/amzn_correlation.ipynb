{
 "cells": [
  {
   "cell_type": "markdown",
   "id": "8cc1cb63",
   "metadata": {},
   "source": [
    "## 1. Import Libraries\n",
    "This block imports essential libraries for data manipulation (pandas, numpy), sentiment analysis (TextBlob), statistical correlation (scipy.stats), and visualization (matplotlib, seaborn)."
   ]
  },
  {
   "cell_type": "code",
   "execution_count": 13,
   "id": "d61a4499",
   "metadata": {},
   "outputs": [],
   "source": [
    "import pandas as pd\n",
    "from scipy.stats import pearsonr, spearmanr, kendalltau\n",
    "import matplotlib.pyplot as plt\n",
    "import seaborn as sns"
   ]
  },
  {
   "cell_type": "markdown",
   "id": "b5f4f97c",
   "metadata": {},
   "source": [
    "## 2. Load News and Stock Data\n",
    "Loads the processed news sentiment data and Apple's historical stock data from CSV files. Handles file errors and ensures the required files are present."
   ]
  },
  {
   "cell_type": "code",
   "execution_count": 14,
   "id": "c8ff7f8c",
   "metadata": {},
   "outputs": [],
   "source": [
    "try:\n",
    "    # Load the news csv file\n",
    "    news_df = pd.read_csv('../../data/processed_analyst_ratings.csv')\n",
    "    # Load Historical Data\n",
    "    stock_df = pd.read_csv('../../data/yfinance_data/AMZN_historical_data.csv')\n",
    "except FileNotFoundError:\n",
    "    print(\"File not found. Please ensure the path is correct and the file exists.\")\n",
    "    exit(1)\n",
    "except Exception as e:\n",
    "    print(f\"An error occurred while reading the parquet file: {e}\")\n",
    "    exit(1)"
   ]
  },
  {
   "cell_type": "markdown",
   "id": "81e77d69",
   "metadata": {},
   "source": [
    "## 3. Convert Date Columns to Datetime\n",
    "Converts the date columns in both DataFrames to datetime format for accurate merging and time-based analysis."
   ]
  },
  {
   "cell_type": "code",
   "execution_count": 15,
   "id": "c6e6ca98",
   "metadata": {},
   "outputs": [],
   "source": [
    "news_df['date'] = pd.to_datetime(news_df['date'], format='mixed', utc=True)\n",
    "stock_df['Date'] = pd.to_datetime(stock_df['Date'], format='mixed', utc=True)"
   ]
  },
  {
   "cell_type": "markdown",
   "id": "13b62f0c",
   "metadata": {},
   "source": [
    "## 4. Merge News and Stock Data\n",
    "Merges the news and stock DataFrames on the date columns to align sentiment scores with corresponding stock prices."
   ]
  },
  {
   "cell_type": "code",
   "execution_count": 16,
   "id": "d2f5b0f1",
   "metadata": {},
   "outputs": [],
   "source": [
    "merged_df = pd.merge(news_df[news_df['stock'] == 'AMZN'], \n",
    "                     stock_df, left_on='date', right_on='Date', how='left')"
   ]
  },
  {
   "cell_type": "markdown",
   "id": "d1020c4d",
   "metadata": {},
   "source": [
    "## 5. Inspect Merged Data\n",
    "Displays the shape and a sample of the merged DataFrame to verify the merge and inspect the data."
   ]
  },
  {
   "cell_type": "code",
   "execution_count": 18,
   "id": "20556bbb",
   "metadata": {},
   "outputs": [
    {
     "name": "stdout",
     "output_type": "stream",
     "text": [
      "(255, 15)\n"
     ]
    },
    {
     "data": {
      "text/html": [
       "<div>\n",
       "<style scoped>\n",
       "    .dataframe tbody tr th:only-of-type {\n",
       "        vertical-align: middle;\n",
       "    }\n",
       "\n",
       "    .dataframe tbody tr th {\n",
       "        vertical-align: top;\n",
       "    }\n",
       "\n",
       "    .dataframe thead th {\n",
       "        text-align: right;\n",
       "    }\n",
       "</style>\n",
       "<table border=\"1\" class=\"dataframe\">\n",
       "  <thead>\n",
       "    <tr style=\"text-align: right;\">\n",
       "      <th></th>\n",
       "      <th>headline</th>\n",
       "      <th>url</th>\n",
       "      <th>publisher</th>\n",
       "      <th>date</th>\n",
       "      <th>stock</th>\n",
       "      <th>sentiment</th>\n",
       "      <th>Date</th>\n",
       "      <th>Open</th>\n",
       "      <th>High</th>\n",
       "      <th>Low</th>\n",
       "      <th>Close</th>\n",
       "      <th>Adj Close</th>\n",
       "      <th>Volume</th>\n",
       "      <th>Dividends</th>\n",
       "      <th>Stock Splits</th>\n",
       "    </tr>\n",
       "  </thead>\n",
       "  <tbody>\n",
       "    <tr>\n",
       "      <th>0</th>\n",
       "      <td>'Fast Money' Traders Share Their Thoughts On A...</td>\n",
       "      <td>https://www.benzinga.com/media/20/04/15890890/...</td>\n",
       "      <td>Craig Jones</td>\n",
       "      <td>2020-04-27 00:00:00+00:00</td>\n",
       "      <td>AMZN</td>\n",
       "      <td>0.35</td>\n",
       "      <td>2020-04-27 00:00:00+00:00</td>\n",
       "      <td>122.160004</td>\n",
       "      <td>122.244003</td>\n",
       "      <td>118.150002</td>\n",
       "      <td>118.800003</td>\n",
       "      <td>118.800003</td>\n",
       "      <td>112912000</td>\n",
       "      <td>0.0</td>\n",
       "      <td>0.0</td>\n",
       "    </tr>\n",
       "    <tr>\n",
       "      <th>1</th>\n",
       "      <td>3 Sector ETFs For This Week's Earnings Parade</td>\n",
       "      <td>https://www.benzinga.com/news/earnings/20/04/1...</td>\n",
       "      <td>ETF Professor</td>\n",
       "      <td>2020-04-27 00:00:00+00:00</td>\n",
       "      <td>AMZN</td>\n",
       "      <td>-0.25</td>\n",
       "      <td>2020-04-27 00:00:00+00:00</td>\n",
       "      <td>122.160004</td>\n",
       "      <td>122.244003</td>\n",
       "      <td>118.150002</td>\n",
       "      <td>118.800003</td>\n",
       "      <td>118.800003</td>\n",
       "      <td>112912000</td>\n",
       "      <td>0.0</td>\n",
       "      <td>0.0</td>\n",
       "    </tr>\n",
       "    <tr>\n",
       "      <th>2</th>\n",
       "      <td>Will COVID-19 Accelerate The Adoption Of Auton...</td>\n",
       "      <td>https://www.benzinga.com/news/20/04/15887271/w...</td>\n",
       "      <td>FreightWaves</td>\n",
       "      <td>2020-04-27 00:00:00+00:00</td>\n",
       "      <td>AMZN</td>\n",
       "      <td>0.40</td>\n",
       "      <td>2020-04-27 00:00:00+00:00</td>\n",
       "      <td>122.160004</td>\n",
       "      <td>122.244003</td>\n",
       "      <td>118.150002</td>\n",
       "      <td>118.800003</td>\n",
       "      <td>118.800003</td>\n",
       "      <td>112912000</td>\n",
       "      <td>0.0</td>\n",
       "      <td>0.0</td>\n",
       "    </tr>\n",
       "    <tr>\n",
       "      <th>3</th>\n",
       "      <td>SunTrust Robinson Humphrey Maintains Buy on Am...</td>\n",
       "      <td>https://www.benzinga.com/news/20/04/15885780/s...</td>\n",
       "      <td>Vick Meyer</td>\n",
       "      <td>2020-04-27 00:00:00+00:00</td>\n",
       "      <td>AMZN</td>\n",
       "      <td>0.00</td>\n",
       "      <td>2020-04-27 00:00:00+00:00</td>\n",
       "      <td>122.160004</td>\n",
       "      <td>122.244003</td>\n",
       "      <td>118.150002</td>\n",
       "      <td>118.800003</td>\n",
       "      <td>118.800003</td>\n",
       "      <td>112912000</td>\n",
       "      <td>0.0</td>\n",
       "      <td>0.0</td>\n",
       "    </tr>\n",
       "    <tr>\n",
       "      <th>4</th>\n",
       "      <td>Amazon Statement Shows Co. Extends Closure Of ...</td>\n",
       "      <td>https://www.benzinga.com/news/20/04/15888140/a...</td>\n",
       "      <td>Benzinga Newsdesk</td>\n",
       "      <td>2020-04-27 00:00:00+00:00</td>\n",
       "      <td>AMZN</td>\n",
       "      <td>0.00</td>\n",
       "      <td>2020-04-27 00:00:00+00:00</td>\n",
       "      <td>122.160004</td>\n",
       "      <td>122.244003</td>\n",
       "      <td>118.150002</td>\n",
       "      <td>118.800003</td>\n",
       "      <td>118.800003</td>\n",
       "      <td>112912000</td>\n",
       "      <td>0.0</td>\n",
       "      <td>0.0</td>\n",
       "    </tr>\n",
       "  </tbody>\n",
       "</table>\n",
       "</div>"
      ],
      "text/plain": [
       "                                            headline  \\\n",
       "0  'Fast Money' Traders Share Their Thoughts On A...   \n",
       "1      3 Sector ETFs For This Week's Earnings Parade   \n",
       "2  Will COVID-19 Accelerate The Adoption Of Auton...   \n",
       "3  SunTrust Robinson Humphrey Maintains Buy on Am...   \n",
       "4  Amazon Statement Shows Co. Extends Closure Of ...   \n",
       "\n",
       "                                                 url          publisher  \\\n",
       "0  https://www.benzinga.com/media/20/04/15890890/...        Craig Jones   \n",
       "1  https://www.benzinga.com/news/earnings/20/04/1...      ETF Professor   \n",
       "2  https://www.benzinga.com/news/20/04/15887271/w...       FreightWaves   \n",
       "3  https://www.benzinga.com/news/20/04/15885780/s...         Vick Meyer   \n",
       "4  https://www.benzinga.com/news/20/04/15888140/a...  Benzinga Newsdesk   \n",
       "\n",
       "                       date stock  sentiment                      Date  \\\n",
       "0 2020-04-27 00:00:00+00:00  AMZN       0.35 2020-04-27 00:00:00+00:00   \n",
       "1 2020-04-27 00:00:00+00:00  AMZN      -0.25 2020-04-27 00:00:00+00:00   \n",
       "2 2020-04-27 00:00:00+00:00  AMZN       0.40 2020-04-27 00:00:00+00:00   \n",
       "3 2020-04-27 00:00:00+00:00  AMZN       0.00 2020-04-27 00:00:00+00:00   \n",
       "4 2020-04-27 00:00:00+00:00  AMZN       0.00 2020-04-27 00:00:00+00:00   \n",
       "\n",
       "         Open        High         Low       Close   Adj Close     Volume  \\\n",
       "0  122.160004  122.244003  118.150002  118.800003  118.800003  112912000   \n",
       "1  122.160004  122.244003  118.150002  118.800003  118.800003  112912000   \n",
       "2  122.160004  122.244003  118.150002  118.800003  118.800003  112912000   \n",
       "3  122.160004  122.244003  118.150002  118.800003  118.800003  112912000   \n",
       "4  122.160004  122.244003  118.150002  118.800003  118.800003  112912000   \n",
       "\n",
       "   Dividends  Stock Splits  \n",
       "0        0.0           0.0  \n",
       "1        0.0           0.0  \n",
       "2        0.0           0.0  \n",
       "3        0.0           0.0  \n",
       "4        0.0           0.0  "
      ]
     },
     "execution_count": 18,
     "metadata": {},
     "output_type": "execute_result"
    }
   ],
   "source": [
    "print(merged_df.shape)\n",
    "merged_df.head(5)"
   ]
  },
  {
   "cell_type": "markdown",
   "id": "23f45d36",
   "metadata": {},
   "source": [
    "## 6. Handle Missing Values\n",
    "Checks for missing values in the merged DataFrame, drops any rows with missing data, and displays the new shape."
   ]
  },
  {
   "cell_type": "code",
   "execution_count": 19,
   "id": "2d82ce93",
   "metadata": {},
   "outputs": [
    {
     "name": "stdout",
     "output_type": "stream",
     "text": [
      "0\n"
     ]
    },
    {
     "data": {
      "text/plain": [
       "(255, 15)"
      ]
     },
     "execution_count": 19,
     "metadata": {},
     "output_type": "execute_result"
    }
   ],
   "source": [
    "# Check for missing values\n",
    "print(merged_df['date'].isnull().sum())\n",
    "merged_df.dropna(inplace=True)  # Drop missing values if necessary\n",
    "merged_df.shape"
   ]
  },
  {
   "cell_type": "markdown",
   "id": "5f21870b",
   "metadata": {},
   "source": [
    "## 7. Calculate Daily Returns\n",
    "Calculates the daily stock return as the percentage change in the closing price and adds it as a new column."
   ]
  },
  {
   "cell_type": "code",
   "execution_count": 20,
   "id": "a820c503",
   "metadata": {},
   "outputs": [
    {
     "data": {
      "text/html": [
       "<div>\n",
       "<style scoped>\n",
       "    .dataframe tbody tr th:only-of-type {\n",
       "        vertical-align: middle;\n",
       "    }\n",
       "\n",
       "    .dataframe tbody tr th {\n",
       "        vertical-align: top;\n",
       "    }\n",
       "\n",
       "    .dataframe thead th {\n",
       "        text-align: right;\n",
       "    }\n",
       "</style>\n",
       "<table border=\"1\" class=\"dataframe\">\n",
       "  <thead>\n",
       "    <tr style=\"text-align: right;\">\n",
       "      <th></th>\n",
       "      <th>headline</th>\n",
       "      <th>url</th>\n",
       "      <th>publisher</th>\n",
       "      <th>date</th>\n",
       "      <th>stock</th>\n",
       "      <th>sentiment</th>\n",
       "      <th>Date</th>\n",
       "      <th>Open</th>\n",
       "      <th>High</th>\n",
       "      <th>Low</th>\n",
       "      <th>Close</th>\n",
       "      <th>Adj Close</th>\n",
       "      <th>Volume</th>\n",
       "      <th>Dividends</th>\n",
       "      <th>Stock Splits</th>\n",
       "      <th>daily_return</th>\n",
       "    </tr>\n",
       "  </thead>\n",
       "  <tbody>\n",
       "    <tr>\n",
       "      <th>0</th>\n",
       "      <td>'Fast Money' Traders Share Their Thoughts On A...</td>\n",
       "      <td>https://www.benzinga.com/media/20/04/15890890/...</td>\n",
       "      <td>Craig Jones</td>\n",
       "      <td>2020-04-27 00:00:00+00:00</td>\n",
       "      <td>AMZN</td>\n",
       "      <td>0.35</td>\n",
       "      <td>2020-04-27 00:00:00+00:00</td>\n",
       "      <td>122.160004</td>\n",
       "      <td>122.244003</td>\n",
       "      <td>118.150002</td>\n",
       "      <td>118.800003</td>\n",
       "      <td>118.800003</td>\n",
       "      <td>112912000</td>\n",
       "      <td>0.0</td>\n",
       "      <td>0.0</td>\n",
       "      <td>NaN</td>\n",
       "    </tr>\n",
       "    <tr>\n",
       "      <th>1</th>\n",
       "      <td>3 Sector ETFs For This Week's Earnings Parade</td>\n",
       "      <td>https://www.benzinga.com/news/earnings/20/04/1...</td>\n",
       "      <td>ETF Professor</td>\n",
       "      <td>2020-04-27 00:00:00+00:00</td>\n",
       "      <td>AMZN</td>\n",
       "      <td>-0.25</td>\n",
       "      <td>2020-04-27 00:00:00+00:00</td>\n",
       "      <td>122.160004</td>\n",
       "      <td>122.244003</td>\n",
       "      <td>118.150002</td>\n",
       "      <td>118.800003</td>\n",
       "      <td>118.800003</td>\n",
       "      <td>112912000</td>\n",
       "      <td>0.0</td>\n",
       "      <td>0.0</td>\n",
       "      <td>0.0</td>\n",
       "    </tr>\n",
       "    <tr>\n",
       "      <th>2</th>\n",
       "      <td>Will COVID-19 Accelerate The Adoption Of Auton...</td>\n",
       "      <td>https://www.benzinga.com/news/20/04/15887271/w...</td>\n",
       "      <td>FreightWaves</td>\n",
       "      <td>2020-04-27 00:00:00+00:00</td>\n",
       "      <td>AMZN</td>\n",
       "      <td>0.40</td>\n",
       "      <td>2020-04-27 00:00:00+00:00</td>\n",
       "      <td>122.160004</td>\n",
       "      <td>122.244003</td>\n",
       "      <td>118.150002</td>\n",
       "      <td>118.800003</td>\n",
       "      <td>118.800003</td>\n",
       "      <td>112912000</td>\n",
       "      <td>0.0</td>\n",
       "      <td>0.0</td>\n",
       "      <td>0.0</td>\n",
       "    </tr>\n",
       "    <tr>\n",
       "      <th>3</th>\n",
       "      <td>SunTrust Robinson Humphrey Maintains Buy on Am...</td>\n",
       "      <td>https://www.benzinga.com/news/20/04/15885780/s...</td>\n",
       "      <td>Vick Meyer</td>\n",
       "      <td>2020-04-27 00:00:00+00:00</td>\n",
       "      <td>AMZN</td>\n",
       "      <td>0.00</td>\n",
       "      <td>2020-04-27 00:00:00+00:00</td>\n",
       "      <td>122.160004</td>\n",
       "      <td>122.244003</td>\n",
       "      <td>118.150002</td>\n",
       "      <td>118.800003</td>\n",
       "      <td>118.800003</td>\n",
       "      <td>112912000</td>\n",
       "      <td>0.0</td>\n",
       "      <td>0.0</td>\n",
       "      <td>0.0</td>\n",
       "    </tr>\n",
       "    <tr>\n",
       "      <th>4</th>\n",
       "      <td>Amazon Statement Shows Co. Extends Closure Of ...</td>\n",
       "      <td>https://www.benzinga.com/news/20/04/15888140/a...</td>\n",
       "      <td>Benzinga Newsdesk</td>\n",
       "      <td>2020-04-27 00:00:00+00:00</td>\n",
       "      <td>AMZN</td>\n",
       "      <td>0.00</td>\n",
       "      <td>2020-04-27 00:00:00+00:00</td>\n",
       "      <td>122.160004</td>\n",
       "      <td>122.244003</td>\n",
       "      <td>118.150002</td>\n",
       "      <td>118.800003</td>\n",
       "      <td>118.800003</td>\n",
       "      <td>112912000</td>\n",
       "      <td>0.0</td>\n",
       "      <td>0.0</td>\n",
       "      <td>0.0</td>\n",
       "    </tr>\n",
       "  </tbody>\n",
       "</table>\n",
       "</div>"
      ],
      "text/plain": [
       "                                            headline  \\\n",
       "0  'Fast Money' Traders Share Their Thoughts On A...   \n",
       "1      3 Sector ETFs For This Week's Earnings Parade   \n",
       "2  Will COVID-19 Accelerate The Adoption Of Auton...   \n",
       "3  SunTrust Robinson Humphrey Maintains Buy on Am...   \n",
       "4  Amazon Statement Shows Co. Extends Closure Of ...   \n",
       "\n",
       "                                                 url          publisher  \\\n",
       "0  https://www.benzinga.com/media/20/04/15890890/...        Craig Jones   \n",
       "1  https://www.benzinga.com/news/earnings/20/04/1...      ETF Professor   \n",
       "2  https://www.benzinga.com/news/20/04/15887271/w...       FreightWaves   \n",
       "3  https://www.benzinga.com/news/20/04/15885780/s...         Vick Meyer   \n",
       "4  https://www.benzinga.com/news/20/04/15888140/a...  Benzinga Newsdesk   \n",
       "\n",
       "                       date stock  sentiment                      Date  \\\n",
       "0 2020-04-27 00:00:00+00:00  AMZN       0.35 2020-04-27 00:00:00+00:00   \n",
       "1 2020-04-27 00:00:00+00:00  AMZN      -0.25 2020-04-27 00:00:00+00:00   \n",
       "2 2020-04-27 00:00:00+00:00  AMZN       0.40 2020-04-27 00:00:00+00:00   \n",
       "3 2020-04-27 00:00:00+00:00  AMZN       0.00 2020-04-27 00:00:00+00:00   \n",
       "4 2020-04-27 00:00:00+00:00  AMZN       0.00 2020-04-27 00:00:00+00:00   \n",
       "\n",
       "         Open        High         Low       Close   Adj Close     Volume  \\\n",
       "0  122.160004  122.244003  118.150002  118.800003  118.800003  112912000   \n",
       "1  122.160004  122.244003  118.150002  118.800003  118.800003  112912000   \n",
       "2  122.160004  122.244003  118.150002  118.800003  118.800003  112912000   \n",
       "3  122.160004  122.244003  118.150002  118.800003  118.800003  112912000   \n",
       "4  122.160004  122.244003  118.150002  118.800003  118.800003  112912000   \n",
       "\n",
       "   Dividends  Stock Splits  daily_return  \n",
       "0        0.0           0.0           NaN  \n",
       "1        0.0           0.0           0.0  \n",
       "2        0.0           0.0           0.0  \n",
       "3        0.0           0.0           0.0  \n",
       "4        0.0           0.0           0.0  "
      ]
     },
     "execution_count": 20,
     "metadata": {},
     "output_type": "execute_result"
    }
   ],
   "source": [
    "merged_df['daily_return'] = merged_df['Close'].pct_change()  # Calculate daily returns\n",
    "merged_df.head()"
   ]
  },
  {
   "cell_type": "markdown",
   "id": "215f45a6",
   "metadata": {},
   "source": [
    "## 8. Pearson Correlation Calculation\n",
    "Drops rows with missing sentiment or daily return values, then calculates and prints the Pearson correlation coefficient and p-value to assess linear correlation."
   ]
  },
  {
   "cell_type": "code",
   "execution_count": 21,
   "id": "93a90bcf",
   "metadata": {},
   "outputs": [
    {
     "name": "stdout",
     "output_type": "stream",
     "text": [
      "Pearson correlation: -0.008424842792964547, p-value: 0.8937109824052452\n"
     ]
    }
   ],
   "source": [
    "# Drop missing values before correlation calculation\n",
    "valid_data = merged_df.dropna(subset=['sentiment', 'daily_return'])\n",
    "\n",
    "# Pearson correlation (linear relationship)\n",
    "pearson_corr, pearson_p = pearsonr(valid_data['sentiment'], valid_data['daily_return'])\n",
    "print(f\"Pearson correlation: {pearson_corr}, p-value: {pearson_p}\")\n"
   ]
  },
  {
   "cell_type": "markdown",
   "id": "e870390b",
   "metadata": {},
   "source": [
    "## 9. Spearman Correlation Calculation\n",
    "Calculates and prints the Spearman rank correlation coefficient and p-value to assess monotonic relationships."
   ]
  },
  {
   "cell_type": "code",
   "execution_count": 22,
   "id": "d772f5f9",
   "metadata": {},
   "outputs": [
    {
     "name": "stdout",
     "output_type": "stream",
     "text": [
      "Spearman correlation: -0.06361558647854312, p-value: 0.31254892213516855\n"
     ]
    }
   ],
   "source": [
    "# Spearman correlation (monotonic relationship, non-parametric)\n",
    "spearman_corr, spearman_p = spearmanr(valid_data['sentiment'], valid_data['daily_return'])\n",
    "print(f\"Spearman correlation: {spearman_corr}, p-value: {spearman_p}\")\n"
   ]
  },
  {
   "cell_type": "markdown",
   "id": "9e327432",
   "metadata": {},
   "source": [
    "## 10. Kendall Correlation Calculation\n",
    "Calculates and prints the Kendall tau correlation coefficient and p-value to assess ordinal associations."
   ]
  },
  {
   "cell_type": "code",
   "execution_count": 23,
   "id": "66f9ba3b",
   "metadata": {},
   "outputs": [
    {
     "name": "stdout",
     "output_type": "stream",
     "text": [
      "Kendall correlation: -0.05713930751326847, p-value: 0.3076782898727568\n"
     ]
    }
   ],
   "source": [
    "# Kendall correlation (ordinal association, non-parametric)\n",
    "kendall_corr, kendall_p = kendalltau(valid_data['sentiment'], valid_data['daily_return'])\n",
    "print(f\"Kendall correlation: {kendall_corr}, p-value: {kendall_p}\")"
   ]
  },
  {
   "cell_type": "markdown",
   "id": "df69bb16",
   "metadata": {},
   "source": [
    "The results show the following correlation values between news sentiment and daily stock return for AMZN:\n",
    "\n",
    "- **Pearson correlation:** -0.00842 (p-value: 0.89371)\n",
    "- **Spearman correlation:** -0.06361 (p-value: 0.31254)\n",
    "- **Kendall correlation:** -0.05713 (p-value: 0.3076)\n",
    "\n",
    "**Interpretation:**\n",
    "\n",
    "All three correlation coefficients are extremely close to zero, indicating almost no relationship between news sentiment and daily stock return in the dataset.\n",
    "The p-values are much greater than 0.05, so these correlations are not statistically significant."
   ]
  },
  {
   "cell_type": "markdown",
   "id": "fad142d7",
   "metadata": {},
   "source": [
    "## 11. Scatter Plot of Sentiment vs. Daily Return\n",
    "Creates a scatter plot to visualize the relationship between news sentiment scores and daily stock returns."
   ]
  },
  {
   "cell_type": "code",
   "execution_count": 24,
   "id": "ee4f61bc",
   "metadata": {},
   "outputs": [
    {
     "data": {
      "image/png": "[encoded data removed]",
      "text/plain": [
       "<Figure size 1000x500 with 1 Axes>"
      ]
     },
     "metadata": {},
     "output_type": "display_data"
    }
   ],
   "source": [
    "plt.figure(figsize=(10,5))\n",
    "plt.scatter(valid_data['sentiment'], valid_data['daily_return'], alpha=0.5)\n",
    "plt.xlabel('News Sentiment Score')\n",
    "plt.ylabel('Daily Stock Return')\n",
    "plt.title('Correlation Between News Sentiment and Stock Price Movements')\n",
    "plt.show()"
   ]
  },
  {
   "cell_type": "markdown",
   "id": "ab19d04c",
   "metadata": {},
   "source": [
    "## 12. Correlation Heatmap\n",
    "Selects relevant numeric columns, computes the correlation matrix, and visualizes it as a heatmap to show the strength and direction of relationships between variables."
   ]
  },
  {
   "cell_type": "code",
   "execution_count": 25,
   "id": "cdce0bcb",
   "metadata": {},
   "outputs": [
    {
     "data": {
      "image/png": "[encoded data removed]",
      "text/plain": [
       "<Figure size 600x400 with 2 Axes>"
      ]
     },
     "metadata": {},
     "output_type": "display_data"
    }
   ],
   "source": [
    "# Select relevant numeric columns for correlation\n",
    "corr_data = valid_data[['sentiment', 'daily_return', 'Close']]\n",
    "\n",
    "# Compute correlation matrix\n",
    "corr_matrix = corr_data.corr(method='pearson')  # You can use 'spearman' or 'kendall' as well\n",
    "\n",
    "# Plot heatmap\n",
    "plt.figure(figsize=(6, 4))\n",
    "sns.heatmap(corr_matrix, annot=True, cmap='coolwarm', vmin=-1, vmax=1)\n",
    "plt.title('Correlation Heatmap')\n",
    "plt.show()"
   ]
  }
 ],
 "metadata": {
  "kernelspec": {
   "display_name": "venv",
   "language": "python",
   "name": "python3"
  },
  "language_info": {
   "codemirror_mode": {
    "name": "ipython",
    "version": 3
   },
   "file_extension": ".py",
   "mimetype": "text/x-python",
   "name": "python",
   "nbconvert_exporter": "python",
   "pygments_lexer": "ipython3",
   "version": "3.13.3"
  }
 },
 "nbformat": 4,
 "nbformat_minor": 5
}
