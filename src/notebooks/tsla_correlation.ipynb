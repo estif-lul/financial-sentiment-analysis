{
 "cells": [
  {
   "cell_type": "markdown",
   "id": "8cc1cb63",
   "metadata": {},
   "source": [
    "## 1. Import Libraries\n",
    "This block imports essential libraries for data manipulation (pandas, numpy), sentiment analysis (TextBlob), statistical correlation (scipy.stats), and visualization (matplotlib, seaborn)."
   ]
  },
  {
   "cell_type": "code",
   "execution_count": 1,
   "id": "d61a4499",
   "metadata": {},
   "outputs": [],
   "source": [
    "import pandas as pd\n",
    "from scipy.stats import pearsonr, spearmanr, kendalltau\n",
    "import matplotlib.pyplot as plt\n",
    "import seaborn as sns"
   ]
  },
  {
   "cell_type": "markdown",
   "id": "b5f4f97c",
   "metadata": {},
   "source": [
    "## 2. Load News and Stock Data\n",
    "Loads the processed news sentiment data and Apple's historical stock data from CSV files. Handles file errors and ensures the required files are present."
   ]
  },
  {
   "cell_type": "code",
   "execution_count": 2,
   "id": "c8ff7f8c",
   "metadata": {},
   "outputs": [],
   "source": [
    "try:\n",
    "    # Load the news csv file\n",
    "    news_df = pd.read_csv('../../data/processed_analyst_ratings.csv')\n",
    "    # Load Historical Data\n",
    "    stock_df = pd.read_csv('../../data/yfinance_data/TSLA_historical_data.csv')\n",
    "except FileNotFoundError:\n",
    "    print(\"File not found. Please ensure the path is correct and the file exists.\")\n",
    "    exit(1)\n",
    "except Exception as e:\n",
    "    print(f\"An error occurred while reading the parquet file: {e}\")\n",
    "    exit(1)"
   ]
  },
  {
   "cell_type": "markdown",
   "id": "81e77d69",
   "metadata": {},
   "source": [
    "## 3. Convert Date Columns to Datetime\n",
    "Converts the date columns in both DataFrames to datetime format for accurate merging and time-based analysis."
   ]
  },
  {
   "cell_type": "code",
   "execution_count": 3,
   "id": "c6e6ca98",
   "metadata": {},
   "outputs": [],
   "source": [
    "news_df['date'] = pd.to_datetime(news_df['date'], format='mixed', utc=True)\n",
    "stock_df['Date'] = pd.to_datetime(stock_df['Date'], format='mixed', utc=True)"
   ]
  },
  {
   "cell_type": "markdown",
   "id": "13b62f0c",
   "metadata": {},
   "source": [
    "## 4. Merge News and Stock Data\n",
    "Merges the news and stock DataFrames on the date columns to align sentiment scores with corresponding stock prices."
   ]
  },
  {
   "cell_type": "code",
   "execution_count": 4,
   "id": "d2f5b0f1",
   "metadata": {},
   "outputs": [],
   "source": [
    "merged_df = pd.merge(news_df, stock_df, left_on='date', right_on='Date', how='left')"
   ]
  },
  {
   "cell_type": "markdown",
   "id": "d1020c4d",
   "metadata": {},
   "source": [
    "## 5. Inspect Merged Data\n",
    "Displays the shape and a sample of the merged DataFrame to verify the merge and inspect the data."
   ]
  },
  {
   "cell_type": "code",
   "execution_count": 5,
   "id": "20556bbb",
   "metadata": {},
   "outputs": [
    {
     "data": {
      "text/html": [
       "<div>\n",
       "<style scoped>\n",
       "    .dataframe tbody tr th:only-of-type {\n",
       "        vertical-align: middle;\n",
       "    }\n",
       "\n",
       "    .dataframe tbody tr th {\n",
       "        vertical-align: top;\n",
       "    }\n",
       "\n",
       "    .dataframe thead th {\n",
       "        text-align: right;\n",
       "    }\n",
       "</style>\n",
       "<table border=\"1\" class=\"dataframe\">\n",
       "  <thead>\n",
       "    <tr style=\"text-align: right;\">\n",
       "      <th></th>\n",
       "      <th>headline</th>\n",
       "      <th>url</th>\n",
       "      <th>publisher</th>\n",
       "      <th>date</th>\n",
       "      <th>stock</th>\n",
       "      <th>sentiment</th>\n",
       "      <th>Date</th>\n",
       "      <th>Open</th>\n",
       "      <th>High</th>\n",
       "      <th>Low</th>\n",
       "      <th>Close</th>\n",
       "      <th>Adj Close</th>\n",
       "      <th>Volume</th>\n",
       "      <th>Dividends</th>\n",
       "      <th>Stock Splits</th>\n",
       "    </tr>\n",
       "  </thead>\n",
       "  <tbody>\n",
       "    <tr>\n",
       "      <th>281322</th>\n",
       "      <td>Wedbush Securities Maintains NPS Pharmaceutica...</td>\n",
       "      <td>https://www.benzinga.com/analyst-ratings/price...</td>\n",
       "      <td>Juan Lopez</td>\n",
       "      <td>2012-07-09 00:00:00+00:00</td>\n",
       "      <td>NPSP</td>\n",
       "      <td>0.000000</td>\n",
       "      <td>2012-07-09 00:00:00+00:00</td>\n",
       "      <td>2.062667</td>\n",
       "      <td>2.122000</td>\n",
       "      <td>2.044667</td>\n",
       "      <td>2.099333</td>\n",
       "      <td>2.099333</td>\n",
       "      <td>13657500.0</td>\n",
       "      <td>0.0</td>\n",
       "      <td>0.0</td>\n",
       "    </tr>\n",
       "    <tr>\n",
       "      <th>636198</th>\n",
       "      <td>Wayback Machine Shows PTG Capital Site Has Exi...</td>\n",
       "      <td>https://www.benzinga.com/news/15/05/5511955/wa...</td>\n",
       "      <td>Paul Quintaro</td>\n",
       "      <td>2015-05-14 00:00:00+00:00</td>\n",
       "      <td>AVP</td>\n",
       "      <td>0.281481</td>\n",
       "      <td>2015-05-14 00:00:00+00:00</td>\n",
       "      <td>16.321333</td>\n",
       "      <td>16.326000</td>\n",
       "      <td>16.083332</td>\n",
       "      <td>16.273333</td>\n",
       "      <td>16.273333</td>\n",
       "      <td>43438500.0</td>\n",
       "      <td>0.0</td>\n",
       "      <td>0.0</td>\n",
       "    </tr>\n",
       "    <tr>\n",
       "      <th>313236</th>\n",
       "      <td>UPDATE: JP Morgan Upgrades Strategic Hotels &amp; ...</td>\n",
       "      <td>https://www.benzinga.com/analyst-ratings/analy...</td>\n",
       "      <td>David Johnson</td>\n",
       "      <td>2012-10-16 00:00:00+00:00</td>\n",
       "      <td>BEE</td>\n",
       "      <td>0.000000</td>\n",
       "      <td>2012-10-16 00:00:00+00:00</td>\n",
       "      <td>1.844667</td>\n",
       "      <td>1.872667</td>\n",
       "      <td>1.822667</td>\n",
       "      <td>1.870667</td>\n",
       "      <td>1.870667</td>\n",
       "      <td>7189500.0</td>\n",
       "      <td>0.0</td>\n",
       "      <td>0.0</td>\n",
       "    </tr>\n",
       "    <tr>\n",
       "      <th>336321</th>\n",
       "      <td>Top 4 Mid-Cap Stocks In The Regional-Midwest B...</td>\n",
       "      <td>https://www.benzinga.com/trading-ideas/13/01/3...</td>\n",
       "      <td>Monica Gerson</td>\n",
       "      <td>2013-01-02 00:00:00+00:00</td>\n",
       "      <td>TFSL</td>\n",
       "      <td>0.500000</td>\n",
       "      <td>2013-01-02 00:00:00+00:00</td>\n",
       "      <td>2.333333</td>\n",
       "      <td>2.363333</td>\n",
       "      <td>2.314000</td>\n",
       "      <td>2.357333</td>\n",
       "      <td>2.357333</td>\n",
       "      <td>17922000.0</td>\n",
       "      <td>0.0</td>\n",
       "      <td>0.0</td>\n",
       "    </tr>\n",
       "    <tr>\n",
       "      <th>970865</th>\n",
       "      <td>Capstone Turbine Reports Secured 6.9MW Multi-M...</td>\n",
       "      <td>https://www.benzinga.com/news/contracts/18/01/...</td>\n",
       "      <td>Paul Quintaro</td>\n",
       "      <td>2018-01-10 00:00:00+00:00</td>\n",
       "      <td>CPST</td>\n",
       "      <td>0.000000</td>\n",
       "      <td>2018-01-10 00:00:00+00:00</td>\n",
       "      <td>22.146667</td>\n",
       "      <td>22.466667</td>\n",
       "      <td>22.000000</td>\n",
       "      <td>22.320000</td>\n",
       "      <td>22.320000</td>\n",
       "      <td>64648500.0</td>\n",
       "      <td>0.0</td>\n",
       "      <td>0.0</td>\n",
       "    </tr>\n",
       "  </tbody>\n",
       "</table>\n",
       "</div>"
      ],
      "text/plain": [
       "                                                 headline  \\\n",
       "281322  Wedbush Securities Maintains NPS Pharmaceutica...   \n",
       "636198  Wayback Machine Shows PTG Capital Site Has Exi...   \n",
       "313236  UPDATE: JP Morgan Upgrades Strategic Hotels & ...   \n",
       "336321  Top 4 Mid-Cap Stocks In The Regional-Midwest B...   \n",
       "970865  Capstone Turbine Reports Secured 6.9MW Multi-M...   \n",
       "\n",
       "                                                      url      publisher  \\\n",
       "281322  https://www.benzinga.com/analyst-ratings/price...     Juan Lopez   \n",
       "636198  https://www.benzinga.com/news/15/05/5511955/wa...  Paul Quintaro   \n",
       "313236  https://www.benzinga.com/analyst-ratings/analy...  David Johnson   \n",
       "336321  https://www.benzinga.com/trading-ideas/13/01/3...  Monica Gerson   \n",
       "970865  https://www.benzinga.com/news/contracts/18/01/...  Paul Quintaro   \n",
       "\n",
       "                            date stock  sentiment                      Date  \\\n",
       "281322 2012-07-09 00:00:00+00:00  NPSP   0.000000 2012-07-09 00:00:00+00:00   \n",
       "636198 2015-05-14 00:00:00+00:00   AVP   0.281481 2015-05-14 00:00:00+00:00   \n",
       "313236 2012-10-16 00:00:00+00:00   BEE   0.000000 2012-10-16 00:00:00+00:00   \n",
       "336321 2013-01-02 00:00:00+00:00  TFSL   0.500000 2013-01-02 00:00:00+00:00   \n",
       "970865 2018-01-10 00:00:00+00:00  CPST   0.000000 2018-01-10 00:00:00+00:00   \n",
       "\n",
       "             Open       High        Low      Close  Adj Close      Volume  \\\n",
       "281322   2.062667   2.122000   2.044667   2.099333   2.099333  13657500.0   \n",
       "636198  16.321333  16.326000  16.083332  16.273333  16.273333  43438500.0   \n",
       "313236   1.844667   1.872667   1.822667   1.870667   1.870667   7189500.0   \n",
       "336321   2.333333   2.363333   2.314000   2.357333   2.357333  17922000.0   \n",
       "970865  22.146667  22.466667  22.000000  22.320000  22.320000  64648500.0   \n",
       "\n",
       "        Dividends  Stock Splits  \n",
       "281322        0.0           0.0  \n",
       "636198        0.0           0.0  \n",
       "313236        0.0           0.0  \n",
       "336321        0.0           0.0  \n",
       "970865        0.0           0.0  "
      ]
     },
     "execution_count": 5,
     "metadata": {},
     "output_type": "execute_result"
    }
   ],
   "source": [
    "merged_df.shape\n",
    "merged_df.sample(5)"
   ]
  },
  {
   "cell_type": "markdown",
   "id": "23f45d36",
   "metadata": {},
   "source": [
    "## 6. Handle Missing Values\n",
    "Checks for missing values in the merged DataFrame, drops any rows with missing data, and displays the new shape."
   ]
  },
  {
   "cell_type": "code",
   "execution_count": 6,
   "id": "2d82ce93",
   "metadata": {},
   "outputs": [
    {
     "name": "stdout",
     "output_type": "stream",
     "text": [
      "0\n"
     ]
    },
    {
     "data": {
      "text/plain": [
       "(1288102, 15)"
      ]
     },
     "execution_count": 6,
     "metadata": {},
     "output_type": "execute_result"
    }
   ],
   "source": [
    "# Check for missing values\n",
    "print(merged_df['date'].isnull().sum())\n",
    "merged_df.dropna(inplace=True)  # Drop missing values if necessary\n",
    "merged_df.shape"
   ]
  },
  {
   "cell_type": "markdown",
   "id": "5f21870b",
   "metadata": {},
   "source": [
    "## 7. Calculate Daily Returns\n",
    "Calculates the daily stock return as the percentage change in the closing price and adds it as a new column."
   ]
  },
  {
   "cell_type": "code",
   "execution_count": 7,
   "id": "a820c503",
   "metadata": {},
   "outputs": [
    {
     "data": {
      "text/html": [
       "<div>\n",
       "<style scoped>\n",
       "    .dataframe tbody tr th:only-of-type {\n",
       "        vertical-align: middle;\n",
       "    }\n",
       "\n",
       "    .dataframe tbody tr th {\n",
       "        vertical-align: top;\n",
       "    }\n",
       "\n",
       "    .dataframe thead th {\n",
       "        text-align: right;\n",
       "    }\n",
       "</style>\n",
       "<table border=\"1\" class=\"dataframe\">\n",
       "  <thead>\n",
       "    <tr style=\"text-align: right;\">\n",
       "      <th></th>\n",
       "      <th>headline</th>\n",
       "      <th>url</th>\n",
       "      <th>publisher</th>\n",
       "      <th>date</th>\n",
       "      <th>stock</th>\n",
       "      <th>sentiment</th>\n",
       "      <th>Date</th>\n",
       "      <th>Open</th>\n",
       "      <th>High</th>\n",
       "      <th>Low</th>\n",
       "      <th>Close</th>\n",
       "      <th>Adj Close</th>\n",
       "      <th>Volume</th>\n",
       "      <th>Dividends</th>\n",
       "      <th>Stock Splits</th>\n",
       "      <th>daily_return</th>\n",
       "    </tr>\n",
       "  </thead>\n",
       "  <tbody>\n",
       "    <tr>\n",
       "      <th>36315</th>\n",
       "      <td>Dennis Gartman Explains The Action In Gold (GL...</td>\n",
       "      <td>https://www.benzinga.com/media/cnbc/10/06/3555...</td>\n",
       "      <td>Craig Jones</td>\n",
       "      <td>2010-06-29 00:00:00+00:00</td>\n",
       "      <td>GDX</td>\n",
       "      <td>0.10</td>\n",
       "      <td>2010-06-29 00:00:00+00:00</td>\n",
       "      <td>1.266667</td>\n",
       "      <td>1.666667</td>\n",
       "      <td>1.169333</td>\n",
       "      <td>1.592667</td>\n",
       "      <td>1.592667</td>\n",
       "      <td>281494500.0</td>\n",
       "      <td>0.0</td>\n",
       "      <td>0.0</td>\n",
       "      <td>NaN</td>\n",
       "    </tr>\n",
       "    <tr>\n",
       "      <th>36316</th>\n",
       "      <td>Top 4 Stocks In The Semiconductor-Memory Chips...</td>\n",
       "      <td>https://www.benzinga.com/general/10/06/353502/...</td>\n",
       "      <td>Monica Gerson</td>\n",
       "      <td>2010-06-29 00:00:00+00:00</td>\n",
       "      <td>SNDK</td>\n",
       "      <td>0.50</td>\n",
       "      <td>2010-06-29 00:00:00+00:00</td>\n",
       "      <td>1.266667</td>\n",
       "      <td>1.666667</td>\n",
       "      <td>1.169333</td>\n",
       "      <td>1.592667</td>\n",
       "      <td>1.592667</td>\n",
       "      <td>281494500.0</td>\n",
       "      <td>0.0</td>\n",
       "      <td>0.0</td>\n",
       "      <td>0.0</td>\n",
       "    </tr>\n",
       "    <tr>\n",
       "      <th>36317</th>\n",
       "      <td>ETFs To Watch June 29, 2010 (EWL, EET, KOL, GLL)</td>\n",
       "      <td>https://www.benzinga.com/trading-ideas/long-id...</td>\n",
       "      <td>ETF Professor</td>\n",
       "      <td>2010-06-29 00:00:00+00:00</td>\n",
       "      <td>KOL</td>\n",
       "      <td>0.00</td>\n",
       "      <td>2010-06-29 00:00:00+00:00</td>\n",
       "      <td>1.266667</td>\n",
       "      <td>1.666667</td>\n",
       "      <td>1.169333</td>\n",
       "      <td>1.592667</td>\n",
       "      <td>1.592667</td>\n",
       "      <td>281494500.0</td>\n",
       "      <td>0.0</td>\n",
       "      <td>0.0</td>\n",
       "      <td>0.0</td>\n",
       "    </tr>\n",
       "    <tr>\n",
       "      <th>36318</th>\n",
       "      <td>Top 4 Stocks In The Beverages-Soft Drinks Indu...</td>\n",
       "      <td>https://www.benzinga.com/general/10/06/353501/...</td>\n",
       "      <td>Monica Gerson</td>\n",
       "      <td>2010-06-29 00:00:00+00:00</td>\n",
       "      <td>COKE</td>\n",
       "      <td>0.45</td>\n",
       "      <td>2010-06-29 00:00:00+00:00</td>\n",
       "      <td>1.266667</td>\n",
       "      <td>1.666667</td>\n",
       "      <td>1.169333</td>\n",
       "      <td>1.592667</td>\n",
       "      <td>1.592667</td>\n",
       "      <td>281494500.0</td>\n",
       "      <td>0.0</td>\n",
       "      <td>0.0</td>\n",
       "      <td>0.0</td>\n",
       "    </tr>\n",
       "    <tr>\n",
       "      <th>36319</th>\n",
       "      <td>Stock Market News for June 29, 2010 - Market News</td>\n",
       "      <td>https://www.benzinga.com/10/06/353694/stock-ma...</td>\n",
       "      <td>Zacks</td>\n",
       "      <td>2010-06-29 00:00:00+00:00</td>\n",
       "      <td>KO</td>\n",
       "      <td>0.00</td>\n",
       "      <td>2010-06-29 00:00:00+00:00</td>\n",
       "      <td>1.266667</td>\n",
       "      <td>1.666667</td>\n",
       "      <td>1.169333</td>\n",
       "      <td>1.592667</td>\n",
       "      <td>1.592667</td>\n",
       "      <td>281494500.0</td>\n",
       "      <td>0.0</td>\n",
       "      <td>0.0</td>\n",
       "      <td>0.0</td>\n",
       "    </tr>\n",
       "  </tbody>\n",
       "</table>\n",
       "</div>"
      ],
      "text/plain": [
       "                                                headline  \\\n",
       "36315  Dennis Gartman Explains The Action In Gold (GL...   \n",
       "36316  Top 4 Stocks In The Semiconductor-Memory Chips...   \n",
       "36317   ETFs To Watch June 29, 2010 (EWL, EET, KOL, GLL)   \n",
       "36318  Top 4 Stocks In The Beverages-Soft Drinks Indu...   \n",
       "36319  Stock Market News for June 29, 2010 - Market News   \n",
       "\n",
       "                                                     url      publisher  \\\n",
       "36315  https://www.benzinga.com/media/cnbc/10/06/3555...    Craig Jones   \n",
       "36316  https://www.benzinga.com/general/10/06/353502/...  Monica Gerson   \n",
       "36317  https://www.benzinga.com/trading-ideas/long-id...  ETF Professor   \n",
       "36318  https://www.benzinga.com/general/10/06/353501/...  Monica Gerson   \n",
       "36319  https://www.benzinga.com/10/06/353694/stock-ma...          Zacks   \n",
       "\n",
       "                           date stock  sentiment                      Date  \\\n",
       "36315 2010-06-29 00:00:00+00:00   GDX       0.10 2010-06-29 00:00:00+00:00   \n",
       "36316 2010-06-29 00:00:00+00:00  SNDK       0.50 2010-06-29 00:00:00+00:00   \n",
       "36317 2010-06-29 00:00:00+00:00   KOL       0.00 2010-06-29 00:00:00+00:00   \n",
       "36318 2010-06-29 00:00:00+00:00  COKE       0.45 2010-06-29 00:00:00+00:00   \n",
       "36319 2010-06-29 00:00:00+00:00    KO       0.00 2010-06-29 00:00:00+00:00   \n",
       "\n",
       "           Open      High       Low     Close  Adj Close       Volume  \\\n",
       "36315  1.266667  1.666667  1.169333  1.592667   1.592667  281494500.0   \n",
       "36316  1.266667  1.666667  1.169333  1.592667   1.592667  281494500.0   \n",
       "36317  1.266667  1.666667  1.169333  1.592667   1.592667  281494500.0   \n",
       "36318  1.266667  1.666667  1.169333  1.592667   1.592667  281494500.0   \n",
       "36319  1.266667  1.666667  1.169333  1.592667   1.592667  281494500.0   \n",
       "\n",
       "       Dividends  Stock Splits  daily_return  \n",
       "36315        0.0           0.0           NaN  \n",
       "36316        0.0           0.0           0.0  \n",
       "36317        0.0           0.0           0.0  \n",
       "36318        0.0           0.0           0.0  \n",
       "36319        0.0           0.0           0.0  "
      ]
     },
     "execution_count": 7,
     "metadata": {},
     "output_type": "execute_result"
    }
   ],
   "source": [
    "merged_df['daily_return'] = merged_df['Close'].pct_change()  # Calculate daily returns\n",
    "merged_df.head()"
   ]
  },
  {
   "cell_type": "markdown",
   "id": "215f45a6",
   "metadata": {},
   "source": [
    "## 8. Pearson Correlation Calculation\n",
    "Drops rows with missing sentiment or daily return values, then calculates and prints the Pearson correlation coefficient and p-value to assess linear correlation."
   ]
  },
  {
   "cell_type": "code",
   "execution_count": 11,
   "id": "93a90bcf",
   "metadata": {},
   "outputs": [
    {
     "name": "stdout",
     "output_type": "stream",
     "text": [
      "Pearson correlation: -0.0004961018189786156, p-value: 0.5734022315689672\n"
     ]
    }
   ],
   "source": [
    "# Drop missing values before correlation calculation\n",
    "valid_data = merged_df.dropna(subset=['sentiment', 'daily_return'])\n",
    "\n",
    "# Pearson correlation (linear relationship)\n",
    "pearson_corr, pearson_p = pearsonr(valid_data['sentiment'], valid_data['daily_return'])\n",
    "print(f\"Pearson correlation: {pearson_corr}, p-value: {pearson_p}\")\n"
   ]
  },
  {
   "cell_type": "markdown",
   "id": "e870390b",
   "metadata": {},
   "source": [
    "## 9. Spearman Correlation Calculation\n",
    "Calculates and prints the Spearman rank correlation coefficient and p-value to assess monotonic relationships."
   ]
  },
  {
   "cell_type": "code",
   "execution_count": 9,
   "id": "d772f5f9",
   "metadata": {},
   "outputs": [
    {
     "name": "stdout",
     "output_type": "stream",
     "text": [
      "Spearman correlation: 0.00033102705932435984, p-value: 0.7071419639150579\n"
     ]
    }
   ],
   "source": [
    "# Spearman correlation (monotonic relationship, non-parametric)\n",
    "spearman_corr, spearman_p = spearmanr(valid_data['sentiment'], valid_data['daily_return'])\n",
    "print(f\"Spearman correlation: {spearman_corr}, p-value: {spearman_p}\")\n"
   ]
  },
  {
   "cell_type": "markdown",
   "id": "9e327432",
   "metadata": {},
   "source": [
    "## 10. Kendall Correlation Calculation\n",
    "Calculates and prints the Kendall tau correlation coefficient and p-value to assess ordinal associations."
   ]
  },
  {
   "cell_type": "code",
   "execution_count": 10,
   "id": "66f9ba3b",
   "metadata": {},
   "outputs": [
    {
     "name": "stdout",
     "output_type": "stream",
     "text": [
      "Kendall correlation: 0.0003054537668733637, p-value: 0.707159822097452\n"
     ]
    }
   ],
   "source": [
    "# Kendall correlation (ordinal association, non-parametric)\n",
    "kendall_corr, kendall_p = kendalltau(valid_data['sentiment'], valid_data['daily_return'])\n",
    "print(f\"Kendall correlation: {kendall_corr}, p-value: {kendall_p}\")"
   ]
  },
  {
   "cell_type": "markdown",
   "id": "df69bb16",
   "metadata": {},
   "source": [
    "The results show the following correlation values between news sentiment and daily stock return for TSLA:\n",
    "\n",
    "- **Pearson correlation:** -0.00049 (p-value: 0.5734)\n",
    "- **Spearman correlation:**  0.00033 (p-value: 0.7071)\n",
    "- **Kendall correlation:** 0.000305 (p-value: 0.70715)\n",
    "\n",
    "**Interpretation:**\n",
    "\n",
    "All three correlation coefficients are extremely close to zero, indicating almost no relationship between news sentiment and daily stock return in the dataset.\n",
    "The p-values are much greater than 0.05, so these correlations are not statistically significant."
   ]
  },
  {
   "cell_type": "markdown",
   "id": "fad142d7",
   "metadata": {},
   "source": [
    "## 11. Scatter Plot of Sentiment vs. Daily Return\n",
    "Creates a scatter plot to visualize the relationship between news sentiment scores and daily stock returns."
   ]
  },
  {
   "cell_type": "code",
   "execution_count": 12,
   "id": "ee4f61bc",
   "metadata": {},
   "outputs": [
    {
     "data": {
      "image/png": "[encoded data removed]",
      "text/plain": [
       "<Figure size 1000x500 with 1 Axes>"
      ]
     },
     "metadata": {},
     "output_type": "display_data"
    }
   ],
   "source": [
    "plt.figure(figsize=(10,5))\n",
    "plt.scatter(valid_data['sentiment'], valid_data['daily_return'], alpha=0.5)\n",
    "plt.xlabel('News Sentiment Score')\n",
    "plt.ylabel('Daily Stock Return')\n",
    "plt.title('Correlation Between News Sentiment and Stock Price Movements')\n",
    "plt.show()"
   ]
  },
  {
   "cell_type": "markdown",
   "id": "ab19d04c",
   "metadata": {},
   "source": [
    "## 12. Correlation Heatmap\n",
    "Selects relevant numeric columns, computes the correlation matrix, and visualizes it as a heatmap to show the strength and direction of relationships between variables."
   ]
  },
  {
   "cell_type": "code",
   "execution_count": 13,
   "id": "cdce0bcb",
   "metadata": {},
   "outputs": [
    {
     "data": {
      "image/png": "[encoded data removed]",
      "text/plain": [
       "<Figure size 600x400 with 2 Axes>"
      ]
     },
     "metadata": {},
     "output_type": "display_data"
    }
   ],
   "source": [
    "# Select relevant numeric columns for correlation\n",
    "corr_data = valid_data[['sentiment', 'daily_return', 'Close']]\n",
    "\n",
    "# Compute correlation matrix\n",
    "corr_matrix = corr_data.corr(method='pearson')  # You can use 'spearman' or 'kendall' as well\n",
    "\n",
    "# Plot heatmap\n",
    "plt.figure(figsize=(6, 4))\n",
    "sns.heatmap(corr_matrix, annot=True, cmap='coolwarm', vmin=-1, vmax=1)\n",
    "plt.title('Correlation Heatmap')\n",
    "plt.show()"
   ]
  }
 ],
 "metadata": {
  "kernelspec": {
   "display_name": "venv",
   "language": "python",
   "name": "python3"
  },
  "language_info": {
   "codemirror_mode": {
    "name": "ipython",
    "version": 3
   },
   "file_extension": ".py",
   "mimetype": "text/x-python",
   "name": "python",
   "nbconvert_exporter": "python",
   "pygments_lexer": "ipython3",
   "version": "3.13.3"
  }
 },
 "nbformat": 4,
 "nbformat_minor": 5
}
